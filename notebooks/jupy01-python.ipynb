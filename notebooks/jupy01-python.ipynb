{
 "cells": [
  {
   "cell_type": "markdown",
   "id": "78cfa435",
   "metadata": {},
   "source": [
    "# PYTHON!!!!"
   ]
  },
  {
   "cell_type": "markdown",
   "id": "dde6fb46",
   "metadata": {},
   "source": [
    "# Section 0: Notebook considerations\n",
    "\n",
    "In a notebook, only the last command is returned to the STDOUT.\n",
    "\n",
    "If in a cell you want to see several outputs, you need to explicitly use the `print()` function."
   ]
  },
  {
   "cell_type": "code",
   "execution_count": 1,
   "id": "d4a7a82b",
   "metadata": {},
   "outputs": [
    {
     "data": {
      "text/plain": [
       "3"
      ]
     },
     "execution_count": 1,
     "metadata": {},
     "output_type": "execute_result"
    }
   ],
   "source": [
    "x = 3\n",
    "x"
   ]
  },
  {
   "cell_type": "code",
   "execution_count": 3,
   "id": "ece89794",
   "metadata": {},
   "outputs": [
    {
     "data": {
      "text/plain": [
       "6"
      ]
     },
     "execution_count": 3,
     "metadata": {},
     "output_type": "execute_result"
    }
   ],
   "source": [
    "x\n",
    "x * 2"
   ]
  },
  {
   "cell_type": "code",
   "execution_count": 4,
   "id": "ca6d0007",
   "metadata": {},
   "outputs": [
    {
     "name": "stdout",
     "output_type": "stream",
     "text": [
      "3\n",
      "6\n"
     ]
    }
   ],
   "source": [
    "print(x)\n",
    "print(x * 2)"
   ]
  },
  {
   "cell_type": "code",
   "execution_count": null,
   "id": "b112174e",
   "metadata": {},
   "outputs": [
    {
     "name": "stdout",
     "output_type": "stream",
     "text": [
      "The value of x is: 3\n",
      "--------------------------------------------------\n",
      "The value of x * 2 is: 6\n"
     ]
    }
   ],
   "source": [
    "print(\"The value of x is:\", x)\n",
    "#\n",
    "print(\"The value of x * 2 is:\", x * 2)"
   ]
  },
  {
   "cell_type": "markdown",
   "id": "f1dc9175",
   "metadata": {},
   "source": [
    "# Section 1: Variables and basic data types\n",
    "\n",
    "\n",
    "In Python, **variables** are used to store information.\n",
    "\n",
    "The variable is the name that you assign to your object.\n",
    "It refers to a particular object in memory (more on that in a while).\n",
    "\n",
    "The **object** is the actual data that the variable \n",
    "\n",
    "In conclusion, the variable does not **contain** an object but **refers** to it."
   ]
  },
  {
   "cell_type": "code",
   "execution_count": 14,
   "id": "852a5efc",
   "metadata": {},
   "outputs": [],
   "source": [
    "my_var = 15"
   ]
  },
  {
   "cell_type": "code",
   "execution_count": 16,
   "id": "cf869bf6",
   "metadata": {},
   "outputs": [
    {
     "name": "stdout",
     "output_type": "stream",
     "text": [
      "The id of my_var is: 140731372741992\n",
      "\n",
      "The hex id of my_var is: 0x7ffe937b2568\n"
     ]
    }
   ],
   "source": [
    "# MAYBE LATER WITH FUNCTIONS\n",
    "print(\"The id of my_var is:\", id(my_var))\n",
    "print(\"\\nThe hex id of my_var is:\", hex(id(my_var)))"
   ]
  },
  {
   "cell_type": "markdown",
   "id": "3806236d",
   "metadata": {},
   "source": [
    "In python, there are various data **types**"
   ]
  },
  {
   "cell_type": "code",
   "execution_count": 12,
   "id": "10974896",
   "metadata": {},
   "outputs": [
    {
     "name": "stdout",
     "output_type": "stream",
     "text": [
      "The value of x1 is: 5\n",
      "\n",
      "The value of x2 is: 3.14\n",
      "\n",
      "The value of x3 is: Guido van Rossum\n",
      "\n",
      "The value of x4 is: True\n"
     ]
    }
   ],
   "source": [
    "# Integer\n",
    "x1 = 5\n",
    "print(\"The value of x1 is:\", x1)\n",
    "\n",
    "# Float\n",
    "x2 = 3.14\n",
    "print(\"\\nThe value of x2 is:\", x2)\n",
    "\n",
    "# String\n",
    "x3 = \"Guido van Rossum\"\n",
    "print(\"\\nThe value of x3 is:\", x3)\n",
    "\n",
    "# Boolean\n",
    "x4 = True\n",
    "print(\"\\nThe value of x4 is:\", x4)"
   ]
  },
  {
   "cell_type": "markdown",
   "id": "e36da57c",
   "metadata": {},
   "source": [
    "# Basic math operators"
   ]
  },
  {
   "cell_type": "code",
   "execution_count": 17,
   "id": "0cace900",
   "metadata": {},
   "outputs": [
    {
     "name": "stdout",
     "output_type": "stream",
     "text": [
      "An addition: 3 + 2 = 5\n",
      "\n",
      "A subtraction: 3 - 2 = 1\n",
      "\n",
      "A multiplication: 3 * 2 = 6\n",
      "\n",
      "A division: 3 / 2 = 1.5\n",
      "\n",
      "An exponentiation: 3 ** 2 = 9\n"
     ]
    }
   ],
   "source": [
    "# Addition\n",
    "print(\"An addition: 3 + 2 =\",  3 + 2)\n",
    "\n",
    "# Subtraction\n",
    "print(\"\\nA subtraction: 3 - 2 =\",  3 - 2)\n",
    "\n",
    "# Multiplication\n",
    "print(\"\\nA multiplication: 3 * 2 =\",  3 * 2)\n",
    "\n",
    "# Multiplication\n",
    "print(\"\\nA division: 3 / 2 =\",  3 / 2)\n",
    "\n",
    "# Note: in Python, the power operator is ** and not ^ (as in some languages like R)\n",
    "print(\"\\nAn exponentiation: 3 ** 2 =\",  3 ** 2)"
   ]
  },
  {
   "cell_type": "markdown",
   "id": "d8ca83fc",
   "metadata": {},
   "source": [
    "# Functions, types and class\n",
    "Functions are identified by their parenthese and are applied to values.\n",
    "The function `print()` was one of them and so is `type()`.\n",
    "In the `print()` function, `sep` is an **parameter** (which is a variable) and the value you pass to it is the **argument**."
   ]
  },
  {
   "cell_type": "code",
   "execution_count": 18,
   "id": "75abc128",
   "metadata": {},
   "outputs": [
    {
     "data": {
      "text/plain": [
       "5"
      ]
     },
     "execution_count": 18,
     "metadata": {},
     "output_type": "execute_result"
    }
   ],
   "source": [
    "# The print() function will print something to the STDOUT\n",
    "len(\"Hello\")"
   ]
  },
  {
   "cell_type": "code",
   "execution_count": 19,
   "id": "a04ca754",
   "metadata": {},
   "outputs": [
    {
     "data": {
      "text/plain": [
       "5"
      ]
     },
     "execution_count": 19,
     "metadata": {},
     "output_type": "execute_result"
    }
   ],
   "source": [
    "# The length() function will count the number of characters in a string\n",
    "len(\"Hello\")"
   ]
  },
  {
   "cell_type": "code",
   "execution_count": 20,
   "id": "d4ab2a56",
   "metadata": {},
   "outputs": [
    {
     "data": {
      "text/plain": [
       "6"
      ]
     },
     "execution_count": 20,
     "metadata": {},
     "output_type": "execute_result"
    }
   ],
   "source": [
    "len(\"hello\\n\")"
   ]
  },
  {
   "cell_type": "code",
   "execution_count": 21,
   "id": "11c0a0a4",
   "metadata": {},
   "outputs": [
    {
     "name": "stdout",
     "output_type": "stream",
     "text": [
      "a b c\n"
     ]
    }
   ],
   "source": [
    "# Some function can accept several values\n",
    "print(\"a\", \"b\", \"c\")"
   ]
  },
  {
   "cell_type": "code",
   "execution_count": 22,
   "id": "066babb4",
   "metadata": {},
   "outputs": [
    {
     "name": "stdout",
     "output_type": "stream",
     "text": [
      "a/b/c\n"
     ]
    }
   ],
   "source": [
    "# Some parameters can be named, others not\n",
    "print(\"a\", \"b\", \"c\", sep=\"/\")"
   ]
  },
  {
   "cell_type": "code",
   "execution_count": 23,
   "id": "26eccabc",
   "metadata": {},
   "outputs": [
    {
     "data": {
      "text/plain": [
       "int"
      ]
     },
     "execution_count": 23,
     "metadata": {},
     "output_type": "execute_result"
    }
   ],
   "source": [
    "# The type() function returns the type of an object\n",
    "type(x1)"
   ]
  },
  {
   "cell_type": "code",
   "execution_count": 25,
   "id": "1f9498cb",
   "metadata": {},
   "outputs": [
    {
     "name": "stdout",
     "output_type": "stream",
     "text": [
      "The type of x1 is: <class 'int'>\n",
      "\n",
      "The type of x2 is: <class 'float'>\n",
      "\n",
      "The type of x3 is: <class 'str'>\n",
      "\n",
      "The type of x4 is: <class 'bool'>\n"
     ]
    }
   ],
   "source": [
    "# Functions can be nested, as can be seen below:\n",
    "print(\"The type of x1 is:\", type(x1))\n",
    "\n",
    "print(\"\\nThe type of x2 is:\", type(x2))\n",
    "\n",
    "print(\"\\nThe type of x3 is:\", type(x3))\n",
    "\n",
    "print(\"\\nThe type of x4 is:\", type(x4))"
   ]
  },
  {
   "cell_type": "code",
   "execution_count": 26,
   "id": "bd8ae518",
   "metadata": {},
   "outputs": [
    {
     "name": "stdout",
     "output_type": "stream",
     "text": [
      "The value of y is 0.3333333333333333\n",
      "The value of y is 0.3333333333333333\n",
      "The value of y is 0.33\n",
      "<class 'str'>\n"
     ]
    }
   ],
   "source": [
    "# Special notice regarding f-strings\n",
    "y = 1/3\n",
    "\n",
    "#\n",
    "print(\"The value of y is\", y)\n",
    "print(f\"The value of y is {y}\")\n",
    "print(f\"The value of y is {y:.2f}\")\n",
    "\n",
    "# Despite its formatting, it remains a string\n",
    "print(type(f\"The value of x9 is {y:.2f}\"))"
   ]
  },
  {
   "cell_type": "markdown",
   "id": "5c92da04",
   "metadata": {},
   "source": [
    "# Writing functions\n",
    "\n",
    "In Python, you can use functions, but you can also write your own functions.\n",
    "In Python, INDENTATION is life!"
   ]
  },
  {
   "cell_type": "code",
   "execution_count": 27,
   "id": "ac9ff99c",
   "metadata": {},
   "outputs": [],
   "source": [
    "# Write your own function\n",
    "def add_two(num1, num2):\n",
    "    out = num1 + num2\n",
    "    return out"
   ]
  },
  {
   "cell_type": "code",
   "execution_count": 28,
   "id": "8a48fa63",
   "metadata": {},
   "outputs": [
    {
     "name": "stdout",
     "output_type": "stream",
     "text": [
      "6\n",
      "--------------------------------------------------\n",
      "19.7\n"
     ]
    }
   ],
   "source": [
    "# Try it out\n",
    "print(add_two(1, 5))\n",
    "print(\"-\" * 50)\n",
    "print(add_two(18.5, 1.2))"
   ]
  },
  {
   "cell_type": "code",
   "execution_count": 29,
   "id": "d8ff4d5a",
   "metadata": {},
   "outputs": [
    {
     "name": "stdout",
     "output_type": "stream",
     "text": [
      "6\n",
      "6\n"
     ]
    }
   ],
   "source": [
    "# You can use them with named parameters or not\n",
    "print(add_two(1, 5))\n",
    "print(add_two(num1=1, num2=5))"
   ]
  },
  {
   "cell_type": "code",
   "execution_count": 30,
   "id": "b6a3c97f",
   "metadata": {},
   "outputs": [
    {
     "name": "stdout",
     "output_type": "stream",
     "text": [
      "6\n"
     ]
    }
   ],
   "source": [
    "# But beware that a unnamed parameter must follow a named parameter\n",
    "print(add_two(1, num2=5))"
   ]
  },
  {
   "cell_type": "code",
   "execution_count": 31,
   "id": "70af1715",
   "metadata": {},
   "outputs": [
    {
     "ename": "SyntaxError",
     "evalue": "positional argument follows keyword argument (1467516494.py, line 2)",
     "output_type": "error",
     "traceback": [
      "  \u001b[36mCell\u001b[39m\u001b[36m \u001b[39m\u001b[32mIn[31]\u001b[39m\u001b[32m, line 2\u001b[39m\n\u001b[31m    \u001b[39m\u001b[31mprint(add_two(num1=1, 5))\u001b[39m\n                           ^\n\u001b[31mSyntaxError\u001b[39m\u001b[31m:\u001b[39m positional argument follows keyword argument\n"
     ]
    }
   ],
   "source": [
    "# But beware that a unnamed parameter must follow a named parameter\n",
    "print(add_two(num1=1, 5))"
   ]
  },
  {
   "cell_type": "markdown",
   "id": "1504064e",
   "metadata": {},
   "source": [
    "# Control flow logic\n",
    "\n",
    "This determines how the logic of your code behaves"
   ]
  },
  {
   "cell_type": "code",
   "execution_count": 32,
   "id": "4927da9d",
   "metadata": {},
   "outputs": [
    {
     "name": "stdout",
     "output_type": "stream",
     "text": [
      "0\n",
      "2\n",
      "4\n",
      "6\n",
      "8\n"
     ]
    }
   ],
   "source": [
    "# For loops and indentation.\n",
    "# Note the colon at the end and the loop\n",
    "for num in range(0, 5):\n",
    "    print(2 * num)"
   ]
  },
  {
   "cell_type": "code",
   "execution_count": 36,
   "id": "f03a1b4b",
   "metadata": {},
   "outputs": [
    {
     "name": "stdout",
     "output_type": "stream",
     "text": [
      "Result of 5.8 < 6.2: True\n",
      "\n",
      "Result of 5.8 <= 6.2: True\n",
      "\n",
      "Result of 5.8 == 6.2: False\n",
      "\n",
      "Result of 5.8 >= 6.2: False\n",
      "\n",
      "Result of 5.8 > 6.2: False\n",
      "\n",
      "Result of 5.8 != 6.2: True\n"
     ]
    }
   ],
   "source": [
    "# Comparison operators Return a bool value\n",
    "print(\"Result of 5.8 < 6.2:\", 5.8 < 6.2)\n",
    "\n",
    "print(\"\\nResult of 5.8 <= 6.2:\", 5.8 <= 6.2)\n",
    "\n",
    "print(\"\\nResult of 5.8 == 6.2:\", 5.8 == 6.2)\n",
    "\n",
    "print(\"\\nResult of 5.8 >= 6.2:\", 5.8 >= 6.2)\n",
    "\n",
    "print(\"\\nResult of 5.8 > 6.2:\", 5.8 > 6.2)\n",
    "\n",
    "print(\"\\nResult of 5.8 != 6.2:\", 5.8 != 6.2)"
   ]
  },
  {
   "cell_type": "code",
   "execution_count": 37,
   "id": "fab966c8",
   "metadata": {},
   "outputs": [
    {
     "name": "stdout",
     "output_type": "stream",
     "text": [
      "This species is endangered!\n"
     ]
    }
   ],
   "source": [
    "# Example from Criterion C (Small population size and decline):\n",
    "# The number of mature individuals is fewer than 2,500, and (more things)\n",
    "\n",
    "population = 867\n",
    "\n",
    "if population <= 2500:\n",
    "    print(\"This species is endangered!\")\n",
    "else:\n",
    "    print(\"It's okay.\")"
   ]
  },
  {
   "cell_type": "markdown",
   "id": "e9dedcd9",
   "metadata": {},
   "source": [
    "# Classes and instantiation\n",
    "\n",
    "Classes a (we will create one later)\n",
    "\n",
    "it uses the constructor method (i.e. `__init__`)\n"
   ]
  },
  {
   "cell_type": "code",
   "execution_count": 40,
   "id": "2da1739d",
   "metadata": {},
   "outputs": [
    {
     "name": "stdout",
     "output_type": "stream",
     "text": [
      "The type of x5 is: <class 'int'>\n",
      "\n",
      "The type of x6 is: <class 'float'>\n",
      "\n",
      "The type of x7 is: <class 'str'>\n",
      "\n",
      "The type of x8 is: <class 'bool'>\n"
     ]
    }
   ],
   "source": [
    "# Integer\n",
    "x5 = int(5)\n",
    "print(\"The type of x5 is:\", type(x5))\n",
    "\n",
    "# Float\n",
    "x6 = float(18.57)\n",
    "print(\"\\nThe type of x6 is:\", type(x6))\n",
    "\n",
    "# String\n",
    "x7 = str(\"I am a bird\")\n",
    "print(\"\\nThe type of x7 is:\", type(x7))\n",
    "\n",
    "# Boolean\n",
    "x8 = bool(False)\n",
    "print(\"\\nThe type of x8 is:\", type(x8))"
   ]
  },
  {
   "cell_type": "code",
   "execution_count": null,
   "id": "755bc1f6",
   "metadata": {},
   "outputs": [
    {
     "name": "stdout",
     "output_type": "stream",
     "text": [
      "int is of type: <class 'type'>\n",
      "\n",
      "float is of type: <class 'type'>\n",
      "\n",
      "str is of type: <class 'type'>\n",
      "\n",
      "bool is of type: <class 'type'>\n"
     ]
    }
   ],
   "source": [
    "# The classes themselves belong to the class \"type\", which is a class and the metaclass\n",
    "print(\"int is of type:\", type(int))\n",
    "\n",
    "print(\"\\nfloat is of type:\", type(float))\n",
    "\n",
    "print(\"\\nstr is of type:\", type(str))\n",
    "\n",
    "print(\"\\nbool is of type:\", type(bool))"
   ]
  },
  {
   "cell_type": "code",
   "execution_count": 46,
   "id": "c7f99381",
   "metadata": {},
   "outputs": [
    {
     "name": "stdout",
     "output_type": "stream",
     "text": [
      "Is x5 an instance of int? True\n",
      "\n",
      "Is x5 an instance of str? False\n",
      "\n",
      "Is x5 an instance of bool? False\n",
      "\n",
      "Is x6 an instance of float? True\n",
      "\n",
      "Is x7 an instance of str? True\n",
      "\n",
      "Is x8 an instance of bool? True\n"
     ]
    }
   ],
   "source": [
    "# Ask questions about the classes\n",
    "print(\"Is x5 an instance of int?\", isinstance(x5, int))\n",
    "print(\"\\nIs x5 an instance of str?\", isinstance(x5, str))\n",
    "print(\"\\nIs x5 an instance of bool?\", isinstance(x5, bool))\n",
    "#\n",
    "print(\"\\nIs x6 an instance of float?\", isinstance(x6, float))\n",
    "print(\"\\nIs x7 an instance of str?\", isinstance(x7, str))\n",
    "print(\"\\nIs x8 an instance of bool?\", isinstance(x8, bool))"
   ]
  },
  {
   "cell_type": "markdown",
   "id": "6c7f26d4",
   "metadata": {},
   "source": [
    "# Attributes and methods\n",
    "\n",
    "In python, OBJECT hold both attributes and methods. That is to say that they hold both data and ways to operate on it.\n",
    "\n",
    "Class attributes can be instance attributes or class attributes (not seen here but straightforward)\n",
    "\n",
    "Methods are accessed through `.` notation.\n",
    "\n",
    "**NEVER** use `.` in variable names!\n",
    "\n",
    "In comparison, **method** is a function that is only accessible to objects of a certain type."
   ]
  },
  {
   "cell_type": "code",
   "execution_count": 49,
   "id": "b7101b26",
   "metadata": {},
   "outputs": [
    {
     "name": "stdout",
     "output_type": "stream",
     "text": [
      "The value of x7:\n",
      "I am a bird\n",
      "\n",
      "First use of the function upper() - not Pythonic:\n",
      "I AM A BIRD\n",
      "\n",
      "Second use of the function upper() as a method - Pythonic:\n",
      "I AM A BIRD\n"
     ]
    }
   ],
   "source": [
    "print(\"The value of x7:\")\n",
    "print(x7)\n",
    "#\n",
    "print(\"\\nFirst use of the function upper() - not Pythonic:\")\n",
    "print(str.upper(x7))\n",
    "#\n",
    "print(\"\\nSecond use of the function upper() as a method - Pythonic:\")\n",
    "print(x7.upper())"
   ]
  },
  {
   "cell_type": "code",
   "execution_count": 47,
   "id": "c5e9380e",
   "metadata": {},
   "outputs": [
    {
     "ename": "AttributeError",
     "evalue": "'bool' object has no attribute 'upper'",
     "output_type": "error",
     "traceback": [
      "\u001b[31m---------------------------------------------------------------------------\u001b[39m",
      "\u001b[31mAttributeError\u001b[39m                            Traceback (most recent call last)",
      "\u001b[36mCell\u001b[39m\u001b[36m \u001b[39m\u001b[32mIn[47]\u001b[39m\u001b[32m, line 3\u001b[39m\n\u001b[32m      1\u001b[39m \u001b[38;5;66;03m# .upper() is a method only accessible to objects of type \"str\"\u001b[39;00m\n\u001b[32m      2\u001b[39m \u001b[38;5;66;03m# bool, int or float can't use it\u001b[39;00m\n\u001b[32m----> \u001b[39m\u001b[32m3\u001b[39m \u001b[38;5;28mprint\u001b[39m(\u001b[38;5;28;43;01mTrue\u001b[39;49;00m\u001b[43m.\u001b[49m\u001b[43mupper\u001b[49m)\n",
      "\u001b[31mAttributeError\u001b[39m: 'bool' object has no attribute 'upper'"
     ]
    }
   ],
   "source": [
    "# .upper() is a method only accessible to objects of type \"str\"\n",
    "# bool, int or float can't use it\n",
    "print(True.upper)"
   ]
  },
  {
   "cell_type": "code",
   "execution_count": 50,
   "id": "2224fbce",
   "metadata": {},
   "outputs": [
    {
     "name": "stdout",
     "output_type": "stream",
     "text": [
      "<built-in function sum>\n",
      "<function add_two at 0x0000027060056980>\n",
      "\n",
      "\n",
      "<method 'upper' of 'str' objects>\n",
      "<method 'capitalize' of 'str' objects>\n"
     ]
    }
   ],
   "source": [
    "# See the difference visually\n",
    "print(sum)\n",
    "print(add_two)\n",
    "#\n",
    "print(\"\\n\")\n",
    "#\n",
    "print(str.upper)\n",
    "print(str.capitalize)"
   ]
  },
  {
   "cell_type": "code",
   "execution_count": null,
   "id": "04af7b67",
   "metadata": {},
   "outputs": [
    {
     "name": "stdout",
     "output_type": "stream",
     "text": [
      "Value of x7:\n",
      "I am a bird\n",
      "\n",
      "Result of x7.replace('bird', 'fish'):\n",
      "I am a fish\n",
      "\n",
      "Result of x7.replace('bird', 'fish').upper():\n",
      "I AM A FISH\n"
     ]
    }
   ],
   "source": [
    "# Note that methods can be chained\n",
    "# Replace then uppercase\n",
    "# Similar to a pipe operator\n",
    "print(\"Value of x7:\")\n",
    "print(x7)\n",
    "\n",
    "print(\"\\nResult of x7.replace('bird', 'fish'):\")\n",
    "print(x7.replace(\"bird\", \"fish\"))\n",
    "\n",
    "#\n",
    "print(\"\\nResult of x7.replace('bird', 'fish').upper():\")\n",
    "print(x7.replace(\"bird\", \"fish\").upper())"
   ]
  },
  {
   "cell_type": "markdown",
   "id": "1d5743f2",
   "metadata": {},
   "source": [
    "# Another\n",
    "\n",
    "You may not have noticed it, but in VARIOUS programming languages, operators are functions.\n",
    "\n",
    "But they can be different \n",
    "\n",
    "DUNDER `__something__`"
   ]
  },
  {
   "cell_type": "code",
   "execution_count": 55,
   "id": "eaf0ff28",
   "metadata": {},
   "outputs": [
    {
     "name": "stdout",
     "output_type": "stream",
     "text": [
      "Value of x6: 18.57\n",
      "Result of x6 * 4: 74.28\n",
      "\n",
      "\n",
      "Value of x7: I am a bird\n",
      "Result of x7 * 4: I am a birdI am a birdI am a birdI am a bird\n"
     ]
    }
   ],
   "source": [
    "print(\"Value of x6:\", x6)\n",
    "print(\"Result of x6 * 4:\", x6 * 4)\n",
    "#\n",
    "print(\"\\n\")\n",
    "#\n",
    "print(\"Value of x7:\", x7)\n",
    "print(\"Result of x7 * 4:\", x7 * 4)"
   ]
  },
  {
   "cell_type": "code",
   "execution_count": null,
   "id": "4fd67a5e",
   "metadata": {},
   "outputs": [
    {
     "name": "stdout",
     "output_type": "stream",
     "text": [
      "<method-wrapper '__rmul__' of float object at 0x0000014CBB0057F0>\n",
      "<method-wrapper '__rmul__' of str object at 0x0000014CBBC014B0>\n"
     ]
    }
   ],
   "source": [
    "# The method .__rmul__ relates to how the objects relate to the * operator\n",
    "print(x6.__rmul__)\n",
    "print(x7.__rmul__)"
   ]
  },
  {
   "cell_type": "code",
   "execution_count": 69,
   "id": "4f37f4dc",
   "metadata": {},
   "outputs": [],
   "source": [
    "# Example of creating your own class\n",
    "# Note the uppercase\n",
    "class Vector:\n",
    "\n",
    "    # Use CONSTRUCTOR to create an instance\n",
    "    def __init__(self, v1, v2):\n",
    "        self.v1 = v1\n",
    "        self.v2 = v2\n",
    "\n",
    "    # Define how it is represented\n",
    "    # We can use an f-string (which we just saw)\n",
    "    def __repr__(self):\n",
    "        return f\"Vector({self.v1}, {self.v2})\"\n",
    "\n",
    "    # Define a method to return the norm of a vector\n",
    "    def norm(self):\n",
    "        return (self.v1 ** 2.0  + self.v2 ** 2.0) ** 0.5\n",
    "\n",
    "    # Define a method to return the normalized vector\n",
    "    # Here, the vector doesn't just give you a value, but a new instance\n",
    "    # of a Vector() object\n",
    "    def normalize(self):\n",
    "        v_norm = self.norm()\n",
    "        return Vector(self.v1 / v_norm, self.v2 / v_norm)\n",
    "\n",
    "    # Define a method to return the addition of two vectors\n",
    "    def addition(self, other):\n",
    "            return Vector(self.v1 + other.v1, self.v2 + other.v2)\n",
    "\n",
    "    # Define a method to return the addition of two vectors\n",
    "    # But this time, define how it interacts with the + operator\n",
    "    def __add__(self, other):\n",
    "            return Vector(self.v1 + other.v1, self.v2 + other.v2)"
   ]
  },
  {
   "cell_type": "code",
   "execution_count": 70,
   "id": "af77b46e",
   "metadata": {},
   "outputs": [
    {
     "data": {
      "text/plain": [
       "Vector(3, 4)"
      ]
     },
     "execution_count": 70,
     "metadata": {},
     "output_type": "execute_result"
    }
   ],
   "source": [
    "Vector(v1=3, v2=4)"
   ]
  },
  {
   "cell_type": "code",
   "execution_count": 63,
   "id": "c5b73c26",
   "metadata": {},
   "outputs": [
    {
     "data": {
      "text/plain": [
       "5.0"
      ]
     },
     "execution_count": 63,
     "metadata": {},
     "output_type": "execute_result"
    }
   ],
   "source": [
    "Vector(v1=3, v2=4).norm()"
   ]
  },
  {
   "cell_type": "code",
   "execution_count": 64,
   "id": "5bcb5368",
   "metadata": {},
   "outputs": [
    {
     "data": {
      "text/plain": [
       "1.0"
      ]
     },
     "execution_count": 64,
     "metadata": {},
     "output_type": "execute_result"
    }
   ],
   "source": [
    "Vector(v1=3, v2=4).normalize().norm()"
   ]
  },
  {
   "cell_type": "code",
   "execution_count": 78,
   "id": "c6eabb4e",
   "metadata": {},
   "outputs": [
    {
     "name": "stdout",
     "output_type": "stream",
     "text": [
      "THe value of vector1: Vector(3, 4)\n",
      "The value of vector2: Vector(1, 2)\n",
      "\n",
      "The norm of vector1: 5.0\n",
      "The norm of vector2: 2.23606797749979\n",
      "\n",
      "Norm of normalized vector1: 1.0\n",
      "Norm of normalized vector2: 1.0\n",
      "\n",
      "Result of vector1.addition(vector2): Vector(4, 6)\n",
      "Result of vector1 + vector2: Vector(4, 6)\n"
     ]
    }
   ],
   "source": [
    "# Create an instance of your vector class\n",
    "vector1 = Vector(v1=3, v2=4)\n",
    "vector2 = Vector(v1=1, v2=2)\n",
    "\n",
    "# Print the content\n",
    "print(\"THe value of vector1:\", vector1)\n",
    "print(\"The value of vector2:\", vector2)\n",
    "\n",
    "\n",
    "# Verify what the norm of each vector is equal to\n",
    "print(\"\\nThe norm of vector1:\", vector1.norm())\n",
    "print(\"The norm of vector2:\", vector2.norm())\n",
    "\n",
    "# Verify that they both have norms equal to 1 when normalized\n",
    "print(\"\\nNorm of normalized vector1:\", vector1.normalize().norm())\n",
    "print(\"Norm of normalized vector2:\", vector2.normalize().norm())\n",
    "\n",
    "# Compare results of addition and __add__\n",
    "print(\"\\nResult of vector1.addition(vector2):\", vector1.addition(vector2))\n",
    "print(\"Result of vector1 + vector2:\", vector1 + vector2)\n"
   ]
  },
  {
   "cell_type": "markdown",
   "id": "acb734f7",
   "metadata": {},
   "source": [
    "# Section 2: Data types OOOO\n",
    "\n",
    "# Lists and Dictionaries\n",
    "\n",
    "## Lists\n",
    "Lists store **ordered** collections.\n"
   ]
  },
  {
   "cell_type": "code",
   "execution_count": 80,
   "id": "a03ce89a",
   "metadata": {},
   "outputs": [
    {
     "name": "stdout",
     "output_type": "stream",
     "text": [
      "[10, 20, 30, 40, 50]\n"
     ]
    }
   ],
   "source": [
    "# List of numbers\n",
    "ex_list = [10, 20, 30, 40, 50]\n",
    "print(ex_list)"
   ]
  },
  {
   "cell_type": "markdown",
   "id": "4f7927d8",
   "metadata": {},
   "source": [
    "Python indexing is 0-based, se the first element is the numbered 0 and not 1."
   ]
  },
  {
   "cell_type": "code",
   "execution_count": 81,
   "id": "b76197a5",
   "metadata": {},
   "outputs": [
    {
     "name": "stdout",
     "output_type": "stream",
     "text": [
      "Value at index 0: 10\n",
      "Value at index 1: 20\n",
      "Value at index 2: 30\n"
     ]
    }
   ],
   "source": [
    "# Access elements\n",
    "print(\"Value at index 0:\", ex_list[0])\n",
    "print(\"Value at index 1:\", ex_list[1])\n",
    "print(\"Value at index 2:\", ex_list[2])"
   ]
  },
  {
   "cell_type": "markdown",
   "id": "5e3172d7",
   "metadata": {},
   "source": [
    "Python also allows negative based indexing, which is based on 1-INDEXING."
   ]
  },
  {
   "cell_type": "code",
   "execution_count": 82,
   "id": "dcabc0b9",
   "metadata": {},
   "outputs": [
    {
     "name": "stdout",
     "output_type": "stream",
     "text": [
      "50\n",
      "40\n",
      "30\n"
     ]
    }
   ],
   "source": [
    "# Access elements\n",
    "print(ex_list[-1])\n",
    "print(ex_list[-2])\n",
    "print(ex_list[-3])"
   ]
  },
  {
   "cell_type": "markdown",
   "id": "26b62306",
   "metadata": {},
   "source": [
    "You can also use slicing to select particular ranges of values.\n",
    "In this case, considered elements range from the first up to BUT NOT CONSIDERING the last value."
   ]
  },
  {
   "cell_type": "code",
   "execution_count": 105,
   "id": "16ff1fdd",
   "metadata": {},
   "outputs": [
    {
     "name": "stdout",
     "output_type": "stream",
     "text": [
      "The example list:\n",
      "[10, 20, 30, 40, 50]\n",
      "\n",
      "The first two values:\n",
      "[10, 20]\n",
      "\n",
      "Values three to five:\n",
      "[30, 40, 50]\n"
     ]
    }
   ],
   "source": [
    "print(\"The example list:\")\n",
    "print(ex_list)\n",
    "\n",
    "print(\"\\nThe first two values:\")\n",
    "print(ex_list[0:2])\n",
    "\n",
    "print(\"\\nValues three to five:\")\n",
    "print(ex_list[2:5])"
   ]
  },
  {
   "cell_type": "code",
   "execution_count": 79,
   "id": "a991f668",
   "metadata": {},
   "outputs": [
    {
     "name": "stdout",
     "output_type": "stream",
     "text": [
      "[40]\n",
      "[40, 50]\n"
     ]
    }
   ],
   "source": [
    "# Be careful when considering negative based slicing!\n",
    "print(ex_list[-2:-1])\n",
    "print(ex_list[-2:])"
   ]
  },
  {
   "cell_type": "code",
   "execution_count": 83,
   "id": "3d452b36",
   "metadata": {},
   "outputs": [
    {
     "name": "stdout",
     "output_type": "stream",
     "text": [
      "[10, 20, 30, 40, 50]\n"
     ]
    }
   ],
   "source": [
    "# Actually the most general form of indexing is:\n",
    "print(ex_list[:])\n",
    "\n",
    "# It selects all"
   ]
  },
  {
   "cell_type": "code",
   "execution_count": 85,
   "id": "3ce7903d",
   "metadata": {},
   "outputs": [
    {
     "ename": "TypeError",
     "evalue": "can only concatenate list (not \"int\") to list",
     "output_type": "error",
     "traceback": [
      "\u001b[31m---------------------------------------------------------------------------\u001b[39m",
      "\u001b[31mTypeError\u001b[39m                                 Traceback (most recent call last)",
      "\u001b[36mCell\u001b[39m\u001b[36m \u001b[39m\u001b[32mIn[85]\u001b[39m\u001b[32m, line 5\u001b[39m\n\u001b[32m      1\u001b[39m \u001b[38;5;66;03m# List arithmetic\u001b[39;00m\n\u001b[32m      2\u001b[39m \u001b[38;5;66;03m# Funny unexpected behavior for newcomers\u001b[39;00m\n\u001b[32m      3\u001b[39m \n\u001b[32m      4\u001b[39m \u001b[38;5;66;03m# Adding 1 to the list will throw an error\u001b[39;00m\n\u001b[32m----> \u001b[39m\u001b[32m5\u001b[39m \u001b[43mex_list\u001b[49m\u001b[43m \u001b[49m\u001b[43m+\u001b[49m\u001b[43m \u001b[49m\u001b[32;43m1\u001b[39;49m\n",
      "\u001b[31mTypeError\u001b[39m: can only concatenate list (not \"int\") to list"
     ]
    }
   ],
   "source": [
    "# List arithmetic\n",
    "# Funny unexpected behavior for newcomers\n",
    "\n",
    "# Adding 1 to the list will throw an error\n",
    "ex_list + 1"
   ]
  },
  {
   "cell_type": "code",
   "execution_count": 86,
   "id": "e2562460",
   "metadata": {},
   "outputs": [
    {
     "data": {
      "text/plain": [
       "[10, 20, 30, 40, 50, 1]"
      ]
     },
     "execution_count": 86,
     "metadata": {},
     "output_type": "execute_result"
    }
   ],
   "source": [
    "# List arithmetic\n",
    "# Funny unexpected behavior for newcomers\n",
    "\n",
    "# Adding [1] to the list will CONCATENATE it to the list\n",
    "ex_list + [1]"
   ]
  },
  {
   "cell_type": "code",
   "execution_count": 87,
   "id": "2de34068",
   "metadata": {},
   "outputs": [
    {
     "data": {
      "text/plain": [
       "[10, 20, 30, 40, 50, 10, 20, 30, 40, 50]"
      ]
     },
     "execution_count": 87,
     "metadata": {},
     "output_type": "execute_result"
    }
   ],
   "source": [
    "# List arithmetic\n",
    "# Funny unexpected behavior for newcomers\n",
    "\n",
    "# Multiplying the list by 2 will NOT give you a new list with values doubled.\n",
    "ex_list * 2"
   ]
  },
  {
   "cell_type": "code",
   "execution_count": 88,
   "id": "7814f2eb",
   "metadata": {},
   "outputs": [
    {
     "data": {
      "text/plain": [
       "[20, 40, 60, 80, 100]"
      ]
     },
     "execution_count": 88,
     "metadata": {},
     "output_type": "execute_result"
    }
   ],
   "source": [
    "# You should use list comprehension\n",
    "[2 * x for x in ex_list]"
   ]
  },
  {
   "cell_type": "code",
   "execution_count": 89,
   "id": "8dda8dbc",
   "metadata": {},
   "outputs": [
    {
     "data": {
      "text/plain": [
       "[30, 40, 50]"
      ]
     },
     "execution_count": 89,
     "metadata": {},
     "output_type": "execute_result"
    }
   ],
   "source": [
    "# List comprehension is more than just changing the list\n",
    "# It can involve filtering it on particular values\n",
    "#\n",
    "# for, in, if and and are reserved keywords that add flexibility\n",
    "# to your statements\n",
    "#\n",
    "[val for val in ex_list if val > 20]"
   ]
  },
  {
   "cell_type": "code",
   "execution_count": null,
   "id": "b221d8d3",
   "metadata": {},
   "outputs": [],
   "source": [
    "# List comprehension is more than just changing the list\n",
    "# It can involve filtering it on particular values\n",
    "#\n",
    "# for, in, if and and are reserved keywords that add flexibility\n",
    "# to your statements\n",
    "#\n",
    "[val for val in ex_list if val > 20 and val != 40]"
   ]
  },
  {
   "cell_type": "markdown",
   "id": "5c1ed1c4",
   "metadata": {},
   "source": [
    "# Tuples\n"
   ]
  },
  {
   "cell_type": "code",
   "execution_count": null,
   "id": "3a3b888b",
   "metadata": {},
   "outputs": [],
   "source": [
    "# TUPLES\n",
    "ex_tuple = (50, 40, 30, 20, 10)"
   ]
  },
  {
   "cell_type": "code",
   "execution_count": 152,
   "id": "63014c73",
   "metadata": {},
   "outputs": [
    {
     "data": {
      "text/plain": [
       "(50, 40, 30)"
      ]
     },
     "execution_count": 152,
     "metadata": {},
     "output_type": "execute_result"
    }
   ],
   "source": [
    "# Tuples values are accessed in the same way as lists\n",
    "ex_tuple[0:3]"
   ]
  },
  {
   "cell_type": "code",
   "execution_count": null,
   "id": "3dfb2b13",
   "metadata": {},
   "outputs": [
    {
     "ename": "TypeError",
     "evalue": "'tuple' object does not support item assignment",
     "output_type": "error",
     "traceback": [
      "\u001b[31m---------------------------------------------------------------------------\u001b[39m",
      "\u001b[31mTypeError\u001b[39m                                 Traceback (most recent call last)",
      "\u001b[36mCell\u001b[39m\u001b[36m \u001b[39m\u001b[32mIn[151]\u001b[39m\u001b[32m, line 2\u001b[39m\n\u001b[32m      1\u001b[39m \u001b[38;5;66;03m# A tuple is similar to a list but it is immutable\u001b[39;00m\n\u001b[32m----> \u001b[39m\u001b[32m2\u001b[39m \u001b[43mex_tuple\u001b[49m\u001b[43m[\u001b[49m\u001b[32;43m0\u001b[39;49m\u001b[43m]\u001b[49m = \u001b[32m20\u001b[39m\n",
      "\u001b[31mTypeError\u001b[39m: 'tuple' object does not support item assignment"
     ]
    }
   ],
   "source": [
    "# A tuple is similar to a list but one difference is that\n",
    "# it is immutable\n",
    "# Values cannot be changed once set.\n",
    "ex_tuple[0] = 20"
   ]
  },
  {
   "cell_type": "code",
   "execution_count": 33,
   "id": "a384f765",
   "metadata": {},
   "outputs": [
    {
     "name": "stdout",
     "output_type": "stream",
     "text": [
      "[10.5]\n",
      "<class 'list'>\n",
      "10.5\n",
      "<class 'float'>\n",
      "(10.5,)\n",
      "<class 'tuple'>\n"
     ]
    }
   ],
   "source": [
    "# Be careful when considering a 1-tuple.\n",
    "print([10.5])\n",
    "print(type([10.5]))\n",
    "#\n",
    "print((10.5))\n",
    "print(type((10.5)))\n",
    "#\n",
    "print((10.5,))\n",
    "print(type((10.5,)))"
   ]
  },
  {
   "cell_type": "markdown",
   "id": "4b9ac412",
   "metadata": {},
   "source": [
    "# Dictionaries\n",
    "\n",
    "Dictionaries store **key-value** pairs."
   ]
  },
  {
   "cell_type": "code",
   "execution_count": 91,
   "id": "4207f328",
   "metadata": {},
   "outputs": [
    {
     "name": "stdout",
     "output_type": "stream",
     "text": [
      "{'species': 'Ramphastos toco', 'abundance': 5, 'time': '2025-05-16T14:28:00+00:00'}\n",
      "\n",
      "\n",
      "Ramphastos toco\n",
      "5\n",
      "2025-05-16T14:28:00+00:00\n"
     ]
    }
   ],
   "source": [
    "# Dictionary of a person\n",
    "obs_1 = {\"species\": \"Ramphastos toco\", \"abundance\": 5, \"time\": \"2025-05-16T14:28:00+00:00\"}\n",
    "print(obs_1)\n",
    "print(\"\\n\")\n",
    "\n",
    "# Access by key\n",
    "print(obs_1[\"species\"])\n",
    "print(obs_1[\"abundance\"])\n",
    "print(obs_1[\"time\"])"
   ]
  },
  {
   "cell_type": "code",
   "execution_count": 92,
   "id": "59491170",
   "metadata": {},
   "outputs": [
    {
     "name": "stdout",
     "output_type": "stream",
     "text": [
      "{'species': 'Amphiprion ocellaris', 'abundance': 3, 'coordinates': [-18.29, 147.7]}\n",
      "\n",
      "\n",
      "Amphiprion ocellaris\n",
      "3\n",
      "[-18.29, 147.7]\n"
     ]
    }
   ],
   "source": [
    "# It can get nested\n",
    "obs_2 = {\"species\": \"Amphiprion ocellaris\", \"abundance\": 3, \"coordinates\": [-18.29, 147.70]}\n",
    "print(obs_2)\n",
    "print(\"\\n\")\n",
    "\n",
    "# Access by key\n",
    "print(obs_2[\"species\"])\n",
    "print(obs_2[\"abundance\"])\n",
    "print(obs_2[\"coordinates\"])"
   ]
  },
  {
   "cell_type": "markdown",
   "id": "34688adf",
   "metadata": {},
   "source": [
    "# Opening files"
   ]
  },
  {
   "cell_type": "code",
   "execution_count": 93,
   "id": "b53deb82",
   "metadata": {},
   "outputs": [
    {
     "name": "stdout",
     "output_type": "stream",
     "text": [
      "  JakarTa  \n",
      "      BekAsi\n",
      "DepOk \n",
      "SUrabaya\n",
      "  BanDUng\n",
      "TANGERANG\n",
      "Medan    \n",
      "  Semarang \n",
      "palembang\n",
      "Batam \n",
      "\n",
      "<class 'str'>\n"
     ]
    }
   ],
   "source": [
    "# Open file for reading\n",
    "f = open(file=\"../data/cities.txt\", mode=\"r\")\n",
    "\n",
    "# Read the entire content of the file\n",
    "content = f.read()\n",
    "\n",
    "# Close the file\n",
    "f.close()\n",
    "\n",
    "print(content)\n",
    "print(type(content))"
   ]
  },
  {
   "cell_type": "code",
   "execution_count": 137,
   "id": "402d350d",
   "metadata": {},
   "outputs": [
    {
     "name": "stdout",
     "output_type": "stream",
     "text": [
      "  JakarTa  \n",
      "      BekAsi\n",
      "DepOk \n",
      "SUrabaya\n",
      "  BanDUng\n",
      "TANGERANG\n",
      "Medan    \n",
      "  Semarang \n",
      "palembang\n",
      "Batam \n",
      "\n",
      "<class 'str'>\n"
     ]
    }
   ],
   "source": [
    "# A better way is with a within a context block\n",
    "with open(file=\"../data/cities.txt\", mode=\"r\") as f:\n",
    "    cities = f.read()\n",
    "\n",
    "# Look at the content\n",
    "print(cities)\n",
    "print(type(cities))"
   ]
  },
  {
   "cell_type": "code",
   "execution_count": null,
   "id": "32a55130",
   "metadata": {},
   "outputs": [
    {
     "name": "stdout",
     "output_type": "stream",
     "text": [
      "'  JakarTa  \\n      BekAsi\\nDepOk \\nSUrabaya\\n  BanDUng\\nTANGERANG\\nMedan    \\n  Semarang \\npalembang\\nBatam \\n'\n"
     ]
    }
   ],
   "source": [
    "# The function print formats newlines, but they are still there\n",
    "print(repr(cities))\n",
    "\n",
    "# Also note that it is one long str"
   ]
  },
  {
   "cell_type": "code",
   "execution_count": 94,
   "id": "e2badd93",
   "metadata": {},
   "outputs": [
    {
     "name": "stdout",
     "output_type": "stream",
     "text": [
      "['  JakarTa  \\n', '      BekAsi\\n', 'DepOk \\n', 'SUrabaya\\n', '  BanDUng\\n', 'TANGERANG\\n', 'Medan    \\n', '  Semarang \\n', 'palembang\\n', 'Batam \\n']\n",
      "<class 'list'>\n"
     ]
    }
   ],
   "source": [
    "# A better way is with a within a context block\n",
    "with open(file=\"../data/cities.txt\", mode=\"r\") as f:\n",
    "    cities = f.readlines()\n",
    "\n",
    "# Look at the content\n",
    "print(cities)\n",
    "print(type(cities))"
   ]
  },
  {
   "cell_type": "code",
   "execution_count": 146,
   "id": "bfbaebc6",
   "metadata": {},
   "outputs": [
    {
     "data": {
      "text/plain": [
       "'Jakarta'"
      ]
     },
     "execution_count": 146,
     "metadata": {},
     "output_type": "execute_result"
    }
   ],
   "source": [
    "# Clean up the first city name\n",
    "cities[0].rstrip().lstrip().lower().capitalize()"
   ]
  },
  {
   "cell_type": "code",
   "execution_count": 148,
   "id": "03faf55f",
   "metadata": {},
   "outputs": [
    {
     "name": "stdout",
     "output_type": "stream",
     "text": [
      "['Jakarta', 'Bekasi', 'Depok', 'Surabaya', 'Bandung', 'Tangerang', 'Medan', 'Semarang', 'Palembang', 'Batam']\n"
     ]
    }
   ],
   "source": [
    "# Combine it with list expansion explained earlier to clean all the names in one go\n",
    "cities_clean = [city.rstrip().lstrip().lower().capitalize() for city in cities]\n",
    "\n",
    "# See the result\n",
    "print(cities_clean)"
   ]
  },
  {
   "cell_type": "code",
   "execution_count": 149,
   "id": "edbf414f",
   "metadata": {},
   "outputs": [],
   "source": [
    "# Export cleaned city names with a context block\n",
    "with open(file=\"../data/cities_clean.txt\", mode=\"w\") as f:\n",
    "    # Write each city on a new line\n",
    "    for city in cities_clean:\n",
    "        # Add a newline character to separate each city\n",
    "        f.write(city + \"\\n\")"
   ]
  },
  {
   "cell_type": "markdown",
   "id": "c22aa801",
   "metadata": {},
   "source": [
    "# *ARGS and **KWARGS"
   ]
  },
  {
   "cell_type": "code",
   "execution_count": 153,
   "id": "bdc95329",
   "metadata": {},
   "outputs": [
    {
     "data": {
      "text/plain": [
       "14"
      ]
     },
     "execution_count": 153,
     "metadata": {},
     "output_type": "execute_result"
    }
   ],
   "source": [
    "#def add2(x1, x2):\n",
    "#    return x1 + x2\n",
    "#    return sum([x1, x2])\n",
    "\n",
    "#def add3(x1, x2, x3):\n",
    "#    return x1 + x2 + x3\n",
    "#    return sum([x1, x2, x3])\n",
    "\n",
    "# Note: You enter them in the function definition with the *,\n",
    "# but you don't use them with the * in the function body\n",
    "def add_many(*args):\n",
    "    out = sum(args)\n",
    "    return out\n",
    "\n",
    "add_many(2, 3, 4, 5)"
   ]
  },
  {
   "cell_type": "code",
   "execution_count": null,
   "id": "469405e1",
   "metadata": {},
   "outputs": [],
   "source": [
    "# See the print function\n",
    "print"
   ]
  },
  {
   "cell_type": "markdown",
   "id": "4a85ec9b",
   "metadata": {},
   "source": [
    "# List unpacking"
   ]
  },
  {
   "cell_type": "code",
   "execution_count": null,
   "id": "8dbb7eb2",
   "metadata": {},
   "outputs": [
    {
     "name": "stdout",
     "output_type": "stream",
     "text": [
      "Value of a: 10\n",
      "Value of b: 20\n",
      "Value of c: 30\n",
      "Value of d: 40\n"
     ]
    }
   ],
   "source": [
    "# A list is made up of ordered elements (by their index that is)\n",
    "out = [10, 20, 30, 40]\n",
    "\n",
    "# A bad way to extract values\n",
    "a = out[0]\n",
    "b = out[1]\n",
    "c = out[2]\n",
    "d = out[3]\n",
    "\n",
    "# See their values\n",
    "print(\"Value of a:\", a)\n",
    "print(\"Value of b:\", b)\n",
    "print(\"Value of c:\", c)\n",
    "print(\"Value of d:\", d)"
   ]
  },
  {
   "cell_type": "code",
   "execution_count": 95,
   "id": "20044330",
   "metadata": {},
   "outputs": [
    {
     "name": "stdout",
     "output_type": "stream",
     "text": [
      "Value of a: 10\n",
      "Value of b: 20\n",
      "Value of c: 30\n",
      "Value of d: 40\n"
     ]
    }
   ],
   "source": [
    "# A list\n",
    "out = [10, 20, 30, 40]\n",
    "\n",
    "# Extract the values of a list in one go\n",
    "a, b, c, d = out\n",
    "\n",
    "# See their values\n",
    "print(\"Value of a:\", a)\n",
    "print(\"Value of b:\", b)\n",
    "print(\"Value of c:\", c)\n",
    "print(\"Value of d:\", d)"
   ]
  },
  {
   "cell_type": "markdown",
   "id": "968d9246",
   "metadata": {},
   "source": [
    "# The _ object\n",
    "\n",
    "The `_` object has a meaning in Python"
   ]
  },
  {
   "cell_type": "code",
   "execution_count": 96,
   "id": "8a0638f2",
   "metadata": {},
   "outputs": [
    {
     "data": {
      "text/plain": [
       "6.5"
      ]
     },
     "execution_count": 96,
     "metadata": {},
     "output_type": "execute_result"
    }
   ],
   "source": [
    "# An operation that is returned to STDOUT\n",
    "3 + 3.5"
   ]
  },
  {
   "cell_type": "code",
   "execution_count": 97,
   "id": "ddc6b5b8",
   "metadata": {},
   "outputs": [
    {
     "data": {
      "text/plain": [
       "6.5"
      ]
     },
     "execution_count": 97,
     "metadata": {},
     "output_type": "execute_result"
    }
   ],
   "source": [
    "# See the value of _\n",
    "_"
   ]
  },
  {
   "cell_type": "code",
   "execution_count": 126,
   "id": "85a38b82",
   "metadata": {},
   "outputs": [
    {
     "name": "stdout",
     "output_type": "stream",
     "text": [
      "Value of a: 10\n",
      "Value of b: 20\n"
     ]
    }
   ],
   "source": [
    "# A list\n",
    "out = [10, 20, 30, 40]\n",
    "\n",
    "# I want a and b, but do not care about c and d\n",
    "# I don't want to waste effort in naming them or\n",
    "# allotting memory for them\n",
    "a, b, _, _ = out\n",
    "\n",
    "# See their values\n",
    "print(\"Value of a:\", a)\n",
    "print(\"Value of b:\", b)"
   ]
  },
  {
   "cell_type": "markdown",
   "id": "0285b0dc",
   "metadata": {},
   "source": [
    "# Memory and whatnot"
   ]
  },
  {
   "cell_type": "code",
   "execution_count": 21,
   "id": "1dbf172c",
   "metadata": {},
   "outputs": [
    {
     "name": "stdout",
     "output_type": "stream",
     "text": [
      "The number 0 in hexadecimal is 0x0\n",
      "The number 1 in hexadecimal is 0x1\n",
      "The number 2 in hexadecimal is 0x2\n",
      "The number 3 in hexadecimal is 0x3\n",
      "The number 4 in hexadecimal is 0x4\n",
      "The number 5 in hexadecimal is 0x5\n",
      "The number 6 in hexadecimal is 0x6\n",
      "The number 7 in hexadecimal is 0x7\n",
      "The number 8 in hexadecimal is 0x8\n",
      "The number 9 in hexadecimal is 0x9\n",
      "The number 10 in hexadecimal is 0xa\n",
      "The number 11 in hexadecimal is 0xb\n",
      "The number 12 in hexadecimal is 0xc\n",
      "The number 13 in hexadecimal is 0xd\n",
      "The number 14 in hexadecimal is 0xe\n",
      "The number 15 in hexadecimal is 0xf\n",
      "The number 16 in hexadecimal is 0x10\n",
      "The number 17 in hexadecimal is 0x11\n",
      "The number 18 in hexadecimal is 0x12\n"
     ]
    }
   ],
   "source": [
    "for i in range(0, 19):\n",
    "    print(\"The number\", i, \"in hexadecimal is\", hex(i))"
   ]
  },
  {
   "cell_type": "code",
   "execution_count": 37,
   "id": "8c1e2baf",
   "metadata": {},
   "outputs": [
    {
     "name": "stdout",
     "output_type": "stream",
     "text": [
      "1756194730800\n",
      "0x198e55cf330\n",
      "--------------------\n",
      "<class 'int'>\n",
      "<class 'str'>\n"
     ]
    }
   ],
   "source": [
    "val = 3.8\n",
    "#\n",
    "print(id(val))\n",
    "print(hex(id(val)))\n",
    "#\n",
    "print(\"-\" * 20)\n",
    "#\n",
    "print(type(id(val)))\n",
    "print(type(hex(id(val))))"
   ]
  },
  {
   "cell_type": "code",
   "execution_count": 99,
   "id": "88c11d38",
   "metadata": {},
   "outputs": [
    {
     "name": "stdout",
     "output_type": "stream",
     "text": [
      "Contents of list_1: [1.8]\n",
      "Contents of list_2: [1.8]\n",
      "Contents of list_3: [1.8]\n",
      "Contents of list_4: [1.8]\n",
      "\n",
      "\n",
      "Unique identifier for list_1: 2681671945600\n",
      "Unique identifier for list_2: 2681671945600\n",
      "Unique identifier for list_3: 2681671955072\n",
      "Unique identifier for list_4: 2681671936064\n"
     ]
    }
   ],
   "source": [
    "list_1 = [1.8]\n",
    "list_2 = list_1\n",
    "list_3 = list_1.copy()\n",
    "list_4 = [1.8]\n",
    "#\n",
    "print(\"Contents of list_1:\", list_1)\n",
    "print(\"Contents of list_2:\", list_2)\n",
    "print(\"Contents of list_3:\", list_3)\n",
    "print(\"Contents of list_4:\", list_4)\n",
    "#\n",
    "print(\"\\n\")\n",
    "#\n",
    "print(\"Unique identifier for list_1:\", id(list_1))\n",
    "print(\"Unique identifier for list_2:\", id(list_2))\n",
    "print(\"Unique identifier for list_3:\", id(list_3))\n",
    "print(\"Unique identifier for list_4:\", id(list_4))"
   ]
  },
  {
   "cell_type": "code",
   "execution_count": 100,
   "id": "179098c8",
   "metadata": {},
   "outputs": [
    {
     "name": "stdout",
     "output_type": "stream",
     "text": [
      "Contents of list_1: [3]\n",
      "Contents of list_2: [3]\n",
      "Contents of list_3: [1.8]\n",
      "Contents of list_4: [1.8]\n"
     ]
    }
   ],
   "source": [
    "# Innucuously change the value of the only element in list_2\n",
    "list_2[0] = 3\n",
    "\n",
    "# Look at the values again\n",
    "#\n",
    "print(\"Contents of list_1:\", list_1)\n",
    "print(\"Contents of list_2:\", list_2)\n",
    "print(\"Contents of list_3:\", list_3)\n",
    "print(\"Contents of list_4:\", list_4)"
   ]
  },
  {
   "cell_type": "markdown",
   "id": "c011e1ee",
   "metadata": {},
   "source": [
    "# Iterators"
   ]
  },
  {
   "cell_type": "code",
   "execution_count": 102,
   "id": "64d391bb",
   "metadata": {},
   "outputs": [
    {
     "name": "stdout",
     "output_type": "stream",
     "text": [
      "[10, 20, 30, 40]\n"
     ]
    }
   ],
   "source": [
    "values = [10, 20, 30, 40]\n",
    "print(values)"
   ]
  },
  {
   "cell_type": "code",
   "execution_count": 105,
   "id": "b741acba",
   "metadata": {},
   "outputs": [
    {
     "name": "stdout",
     "output_type": "stream",
     "text": [
      "10\n",
      "20\n",
      "30\n",
      "40\n"
     ]
    }
   ],
   "source": [
    "for idx in range(0, len(values)):\n",
    "    print(values[idx])"
   ]
  },
  {
   "cell_type": "code",
   "execution_count": 106,
   "id": "244ad02e",
   "metadata": {},
   "outputs": [
    {
     "name": "stdout",
     "output_type": "stream",
     "text": [
      "Value number 0 is 10\n",
      "Value number 1 is 20\n",
      "Value number 2 is 30\n",
      "Value number 3 is 40\n"
     ]
    }
   ],
   "source": [
    "for idx in range(0, len(values)):\n",
    "    print(f\"Value number {idx} is {values[idx]}\")"
   ]
  },
  {
   "cell_type": "code",
   "execution_count": 71,
   "id": "40a0a104",
   "metadata": {},
   "outputs": [
    {
     "name": "stdout",
     "output_type": "stream",
     "text": [
      "<enumerate object at 0x00000198E5761080>\n",
      "<class 'enumerate'>\n"
     ]
    }
   ],
   "source": [
    "# Consider enumerate\n",
    "print(enumerate(values))\n",
    "print(type(enumerate(values)))"
   ]
  },
  {
   "cell_type": "code",
   "execution_count": 72,
   "id": "78785683",
   "metadata": {},
   "outputs": [
    {
     "name": "stdout",
     "output_type": "stream",
     "text": [
      "Value number 0 is 10\n",
      "Value number 1 is 20\n",
      "Value number 2 is 30\n",
      "Value number 3 is 40\n"
     ]
    }
   ],
   "source": [
    "for idx, val in enumerate(values):\n",
    "    print(f\"Value number {idx} is {val}\")"
   ]
  }
 ],
 "metadata": {
  "kernelspec": {
   "display_name": ".venv",
   "language": "python",
   "name": "python3"
  },
  "language_info": {
   "codemirror_mode": {
    "name": "ipython",
    "version": 3
   },
   "file_extension": ".py",
   "mimetype": "text/x-python",
   "name": "python",
   "nbconvert_exporter": "python",
   "pygments_lexer": "ipython3",
   "version": "3.13.3"
  }
 },
 "nbformat": 4,
 "nbformat_minor": 5
}
