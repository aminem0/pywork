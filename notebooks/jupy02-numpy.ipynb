{
 "cells": [
  {
   "cell_type": "markdown",
   "id": "6a23320f",
   "metadata": {},
   "source": [
    "## Inspecting Arrays\n",
    "\n",
    "```python\n",
    "print(\"Shape:\", arr.shape)\n",
    "print(\"Data type:\", arr.dtype)\n",
    "```\n",
    "\n",
    "---\n",
    "\n",
    "# 3. Indexing, Slicing, and Modifying\n",
    "\n",
    "## Indexing\n",
    "\n",
    "```python\n",
    "# Single element\n",
    "print(arr[0])  # First element\n",
    "```\n",
    "\n",
    "## Slicing\n",
    "\n",
    "```python\n",
    "# Slice elements 1 to 3\n",
    "print(arr[1:4])\n",
    "```\n",
    "\n",
    "## Modifying Elements\n",
    "\n",
    "```python\n",
    "# Change first element\n",
    "arr[0] = 100\n",
    "print(arr)\n",
    "```\n",
    "\n",
    "---\n",
    "\n",
    "# 4. Array Operations\n",
    "\n",
    "NumPy supports element-wise operations.\n",
    "\n",
    "## Basic Arithmetic\n",
    "\n",
    "```python\n",
    "# Create two arrays\n",
    "a = np.array([1, 2, 3])\n",
    "b = np.array([4, 5, 6])\n",
    "\n",
    "# Element-wise addition\n",
    "print(a + b)\n",
    "\n",
    "# Element-wise multiplication\n",
    "print(a * b)\n",
    "\n",
    "# Scalar multiplication\n",
    "print(2 * a)\n",
    "```\n",
    "\n",
    "## Mathematical Functions\n",
    "\n",
    "```python\n",
    "print(np.sin(a))\n",
    "print(np.log(b))\n",
    "```\n",
    "\n",
    "---\n",
    "\n",
    "# 5. Useful Functions\n",
    "\n",
    "## Aggregations\n",
    "\n",
    "```python\n",
    "# Sum\n",
    "print(np.sum(arr))\n",
    "\n",
    "# Mean\n",
    "print(np.mean(arr))\n",
    "\n",
    "# Max\n",
    "print(np.max(arr))\n",
    "```\n",
    "\n",
    "## Reshaping Arrays\n",
    "\n",
    "```python\n",
    "# Reshape a 1D array to 2D\n",
    "arr2d = np.arange(12).reshape((3, 4))\n",
    "print(arr2d)\n",
    "```\n",
    "\n",
    "---\n",
    "\n",
    "# 6. Mini-Exercises\n",
    "\n",
    "### 6.1 Create an array of 10 random numbers and compute their mean\n",
    "\n",
    "```python\n",
    "# Your code here\n",
    "random_array = np.random.rand(10)\n",
    "print(random_array)\n",
    "print(\"Mean:\", np.mean(random_array))\n",
    "```\n",
    "\n",
    "### 6.2 Create a 5x5 array of zeros and change the center element to 1\n",
    "\n",
    "```python\n",
    "# Your code here\n",
    "matrix = np.zeros((5, 5))\n",
    "matrix[2, 2] = 1\n",
    "print(matrix)\n",
    "```\n",
    "\n",
    "### 6.3 Create two 1D arrays and compute their dot product\n",
    "\n",
    "```python\n",
    "# Your code here\n",
    "a = np.array([1, 2, 3])\n",
    "b = np.array([4, 5, 6])\n",
    "\n",
    "print(\"Dot product:\", np.dot(a, b))\n",
    "```\n",
    "\n",
    "---\n",
    "\n",
    "# Congratulations! 🎉\n",
    "\n",
    "You've learned the basics of **NumPy**! \n",
    "\n",
    "Next, we move on to **Pandas** to learn how to handle data tables efficiently.\n",
    "\n",
    "---\n",
    "\n",
    "# Quick Recap\n",
    "- **NumPy arrays** are faster and more memory-efficient than Python lists.\n",
    "- Use **element-wise operations** for speed.\n",
    "- Useful functions: `sum()`, `mean()`, `reshape()`, etc.\n",
    "\n",
    "See you in the next notebook!\n"
   ]
  },
  {
   "cell_type": "markdown",
   "id": "a1b5983e",
   "metadata": {},
   "source": [
    "# NumPy\n",
    "\n",
    "NumPy stands for numerical python. It is the main mathematical workhorse for python.\n",
    "\n",
    "If you want to learn more about it, visit [https://numpy.org/](https://numpy.org/)."
   ]
  },
  {
   "cell_type": "code",
   "execution_count": 2,
   "id": "430730d0",
   "metadata": {},
   "outputs": [],
   "source": [
    "# Import numpy\n",
    "import numpy as np"
   ]
  },
  {
   "cell_type": "markdown",
   "id": "a960ad92",
   "metadata": {},
   "source": [
    "## Creating Arrays\n",
    "# From a Python list"
   ]
  },
  {
   "cell_type": "code",
   "execution_count": 3,
   "id": "f67d8e05",
   "metadata": {},
   "outputs": [
    {
     "name": "stdout",
     "output_type": "stream",
     "text": [
      "[1 2 3 4 5]\n",
      "<class 'numpy.ndarray'>\n"
     ]
    }
   ],
   "source": [
    "# Create a 1-dimensional array (i.e. a vector)\n",
    "arr_1d = np.array([1, 2, 3, 4, 5])\n",
    "print(arr_1d)\n",
    "print(type(arr_1d))"
   ]
  },
  {
   "cell_type": "code",
   "execution_count": 12,
   "id": "e6101cae",
   "metadata": {},
   "outputs": [
    {
     "name": "stdout",
     "output_type": "stream",
     "text": [
      "[[1 2 3]\n",
      " [4 5 6]]\n",
      "<class 'numpy.ndarray'>\n"
     ]
    }
   ],
   "source": [
    "# Create a 2-dimensional array (i.e. a matrix)\n",
    "arr_2d = np.array([[1, 2, 3], [4, 5, 6]])\n",
    "print(arr_2d)\n",
    "print(type(arr_2d))"
   ]
  },
  {
   "cell_type": "code",
   "execution_count": 13,
   "id": "4af5788a",
   "metadata": {},
   "outputs": [
    {
     "name": "stdout",
     "output_type": "stream",
     "text": [
      "[ 2  4  6  8 10]\n",
      "--------------------\n",
      "[[ 6.8  7.8  8.8]\n",
      " [ 9.8 10.8 11.8]]\n"
     ]
    }
   ],
   "source": [
    "# Contrary to lists, NumPy arrays behave correctly with regards to the basic OPERATORS\n",
    "print(arr_1d * 2)\n",
    "#\n",
    "print(\"-\" * 20)\n",
    "#\n",
    "print(arr_2d + 5.8)"
   ]
  },
  {
   "cell_type": "code",
   "execution_count": 14,
   "id": "ae4dbcb8",
   "metadata": {},
   "outputs": [
    {
     "name": "stdout",
     "output_type": "stream",
     "text": [
      "Shape: (2, 3)\n",
      "Data type: int64\n"
     ]
    }
   ],
   "source": [
    "# You can verify data about the values by accessing their arguments\n",
    "print(\"Shape:\", arr_2d.shape)\n",
    "print(\"Data type:\", arr_1d.dtype)"
   ]
  },
  {
   "cell_type": "code",
   "execution_count": 82,
   "id": "34c05ccb",
   "metadata": {},
   "outputs": [
    {
     "name": "stdout",
     "output_type": "stream",
     "text": [
      "[1, 2, 3, 4, 5]\n",
      "[1 2 3 4 5]\n",
      "********************\n",
      "<method-wrapper '__add__' of list object at 0x000001A8DFBF8940>\n",
      "<method-wrapper '__add__' of numpy.ndarray object at 0x000001A8C7366970>\n"
     ]
    }
   ],
   "source": [
    "list_arr_1d = [1, 2, 3, 4, 5]\n",
    "#\n",
    "print(list_arr_1d)\n",
    "print(arr_1d)\n",
    "#\n",
    "print(\"*\" * 20)\n",
    "#\n",
    "print(list_arr_1d.__add__)\n",
    "print(arr_1d.__add__)"
   ]
  },
  {
   "cell_type": "markdown",
   "id": "85e7ff91",
   "metadata": {},
   "source": [
    "# Slicing and accessing elements\n",
    "\n",
    "It is done like with conventional Python lists."
   ]
  },
  {
   "cell_type": "code",
   "execution_count": 98,
   "id": "bea07a52",
   "metadata": {},
   "outputs": [
    {
     "name": "stdout",
     "output_type": "stream",
     "text": [
      "[[1 2 3]\n",
      " [4 5 6]]\n"
     ]
    }
   ],
   "source": [
    "# The most general form\n",
    "# Select everything\n",
    "print(arr_2d[:, :])"
   ]
  },
  {
   "cell_type": "code",
   "execution_count": 101,
   "id": "318179f1",
   "metadata": {},
   "outputs": [
    {
     "name": "stdout",
     "output_type": "stream",
     "text": [
      "[1 2 3]\n",
      "********************\n",
      "[1 2 3]\n"
     ]
    }
   ],
   "source": [
    "# The most general form\n",
    "# Select everything\n",
    "print(arr_2d[0, :])\n",
    "\n",
    "#\n",
    "print(\"*\" * 20)\n",
    "\n",
    "# The : can be omitted in the case of rows\n",
    "print(arr_2d[0,])"
   ]
  },
  {
   "cell_type": "code",
   "execution_count": 106,
   "id": "52a16584",
   "metadata": {},
   "outputs": [
    {
     "name": "stdout",
     "output_type": "stream",
     "text": [
      "[[1 2 3]\n",
      " [4 5 6]]\n",
      "********************\n",
      "[[1 2 3]]\n",
      "********************\n",
      "[[1 2 3]\n",
      " [4 5 6]]\n"
     ]
    }
   ],
   "source": [
    "# The most general form\n",
    "# Select everything\n",
    "print(arr_2d[[0, 1], :])\n",
    "#\n",
    "print(\"*\" * 20)\n",
    "#\n",
    "print(arr_2d[0:1, :])\n",
    "#\n",
    "print(\"*\" * 20)\n",
    "#\n",
    "print(arr_2d[0:2, :])"
   ]
  },
  {
   "cell_type": "code",
   "execution_count": 108,
   "id": "8549f313",
   "metadata": {},
   "outputs": [
    {
     "name": "stdout",
     "output_type": "stream",
     "text": [
      "[[1 2]\n",
      " [4 5]]\n"
     ]
    }
   ],
   "source": [
    "# The most general form\n",
    "# Select everything\n",
    "print(arr_2d[:, [0, 1]])\n"
   ]
  },
  {
   "cell_type": "code",
   "execution_count": 109,
   "id": "30843b76",
   "metadata": {},
   "outputs": [
    {
     "name": "stdout",
     "output_type": "stream",
     "text": [
      "[1 4]\n",
      "--------------------\n",
      "[4 5 6]\n"
     ]
    }
   ],
   "source": [
    "print(arr_2d[:,0])\n",
    "#\n",
    "print(\"-\" * 20)\n",
    "#\n",
    "print(arr_2d[1])"
   ]
  },
  {
   "cell_type": "markdown",
   "id": "19ce1837",
   "metadata": {},
   "source": [
    "# Important methods"
   ]
  },
  {
   "cell_type": "code",
   "execution_count": 31,
   "id": "bdc16afb",
   "metadata": {},
   "outputs": [
    {
     "name": "stdout",
     "output_type": "stream",
     "text": [
      "[[1 2 3]\n",
      " [4 5 6]]\n",
      "********************\n",
      "[1 2 3 4 5 6]\n"
     ]
    }
   ],
   "source": [
    "print(arr_2d)\n",
    "#\n",
    "print(\"*\" * 20)\n",
    "#\n",
    "print(arr_2d.flatten())"
   ]
  },
  {
   "cell_type": "code",
   "execution_count": 70,
   "id": "38211795",
   "metadata": {},
   "outputs": [
    {
     "name": "stdout",
     "output_type": "stream",
     "text": [
      "The mean value: 3.5\n",
      "The minimum value: 1\n",
      "The maximum value: 6\n",
      "The standard deviation: 1.707825127659933\n"
     ]
    }
   ],
   "source": [
    "# Getting particular values\n",
    "print(\"The mean value:\", np.mean(a=arr_2d))\n",
    "print(\"The minimum value:\", np.min(a=arr_2d))\n",
    "print(\"The maximum value:\", np.max(a=arr_2d))\n",
    "print(\"The standard deviation:\", np.std(a=arr_2d))"
   ]
  },
  {
   "cell_type": "markdown",
   "id": "276613ec",
   "metadata": {},
   "source": [
    "# Special matrices"
   ]
  },
  {
   "cell_type": "code",
   "execution_count": null,
   "id": "06d322dd",
   "metadata": {},
   "outputs": [
    {
     "name": "stdout",
     "output_type": "stream",
     "text": [
      "[[0. 0. 0.]\n",
      " [0. 0. 0.]\n",
      " [0. 0. 0.]]\n",
      "[[1. 1. 1. 1.]\n",
      " [1. 1. 1. 1.]]\n",
      "[[1. 0. 0.]\n",
      " [0. 1. 0.]\n",
      " [0. 0. 1.]]\n",
      "[[-0.98278376 -1.75741086 -0.12597606  0.4714257 ]\n",
      " [-0.14363501 -1.75270714  1.65420769 -0.77414674]]\n"
     ]
    }
   ],
   "source": [
    "## Special arrays can be built for linear algebra\n",
    "\n",
    "# Zeros\n",
    "zeros = np.zeros((3, 3))\n",
    "print(zeros)\n",
    "\n",
    "# Ones\n",
    "ones = np.ones((2, 4))\n",
    "print(ones)\n",
    "\n",
    "# Identity matrix\n",
    "print(np.eye(N=3))\n",
    "\n",
    "# Random numbers\n",
    "randoms = np.random.randn(2, 4)\n",
    "print(randoms)"
   ]
  },
  {
   "cell_type": "code",
   "execution_count": 20,
   "id": "80dc680a",
   "metadata": {},
   "outputs": [
    {
     "name": "stdout",
     "output_type": "stream",
     "text": [
      "[[-1.04010323 -0.74950739 -0.68388976  1.28730243]\n",
      " [ 0.53775621 -0.22328257  0.27027873 -0.25773923]]\n",
      "[[-1.37674233  0.9886126  -1.56275261]\n",
      " [ 0.02439585 -0.90002453 -0.01067206]\n",
      " [-0.20918737  0.82149002  0.40323609]\n",
      " [ 0.40419462  2.02269558  0.8242591 ]]\n"
     ]
    }
   ],
   "source": [
    "# Create two matrices\n",
    "x1 = np.random.randn(2, 4)\n",
    "x2 = np.random.randn(4, 3)\n",
    "\n",
    "# See what they look like\n",
    "print(x1)\n",
    "print(x2)"
   ]
  },
  {
   "cell_type": "code",
   "execution_count": 15,
   "id": "9d9b7637",
   "metadata": {},
   "outputs": [
    {
     "ename": "NameError",
     "evalue": "name 'x1' is not defined",
     "output_type": "error",
     "traceback": [
      "\u001b[31m---------------------------------------------------------------------------\u001b[39m",
      "\u001b[31mNameError\u001b[39m                                 Traceback (most recent call last)",
      "\u001b[36mCell\u001b[39m\u001b[36m \u001b[39m\u001b[32mIn[15]\u001b[39m\u001b[32m, line 2\u001b[39m\n\u001b[32m      1\u001b[39m \u001b[38;5;66;03m# Compute their scalar product\u001b[39;00m\n\u001b[32m----> \u001b[39m\u001b[32m2\u001b[39m \u001b[43mx1\u001b[49m.dot(x2)\n",
      "\u001b[31mNameError\u001b[39m: name 'x1' is not defined"
     ]
    }
   ],
   "source": [
    "# Compute their scalar product\n",
    "x1.dot(x2)"
   ]
  },
  {
   "cell_type": "code",
   "execution_count": null,
   "id": "269db569",
   "metadata": {},
   "outputs": [
    {
     "data": {
      "text/plain": [
       "array([[ 0.03208695,  0.10824856, -0.08137401],\n",
       "       [-1.40884911, -2.15640244,  1.50336391]])"
      ]
     },
     "execution_count": 26,
     "metadata": {},
     "output_type": "execute_result"
    }
   ],
   "source": [
    "# Compute their scalar product using the @ operator\n",
    "x1 @ x2"
   ]
  },
  {
   "cell_type": "code",
   "execution_count": 30,
   "id": "f740c601",
   "metadata": {},
   "outputs": [
    {
     "name": "stdout",
     "output_type": "stream",
     "text": [
      "Shape: (2, 4)\n",
      "Data type: float64\n"
     ]
    },
    {
     "data": {
      "text/plain": [
       "array([ 0.10587821, -1.55012716])"
      ]
     },
     "execution_count": 30,
     "metadata": {},
     "output_type": "execute_result"
    }
   ],
   "source": [
    "# You can verify data about the values by accessing their arguments\n",
    "print(\"Shape:\", x1.shape)\n",
    "print(\"Data type:\", x1.dtype)\n",
    "x1.diagonal()"
   ]
  },
  {
   "cell_type": "markdown",
   "id": "74c2dc4a",
   "metadata": {},
   "source": [
    "# Creating and reading your own"
   ]
  },
  {
   "cell_type": "code",
   "execution_count": 22,
   "id": "48af5eee",
   "metadata": {},
   "outputs": [
    {
     "name": "stdout",
     "output_type": "stream",
     "text": [
      "[[1 2 3]\n",
      " [4 5 6]\n",
      " [7 8 9]]\n"
     ]
    }
   ],
   "source": [
    "# You can build your own arrays by OOOOO\n",
    "ex_array = np.array([[1, 2, 3],\n",
    "                     [4, 5, 6],\n",
    "                     [7, 8, 9]])\n",
    "\n",
    "# See what it looks like\n",
    "print(ex_array)"
   ]
  },
  {
   "cell_type": "code",
   "execution_count": 23,
   "id": "a33a0106",
   "metadata": {},
   "outputs": [
    {
     "name": "stdout",
     "output_type": "stream",
     "text": [
      "[[0. 0. 1. ... 0. 0. 0.]\n",
      " [0. 0. 0. ... 0. 0. 0.]\n",
      " [0. 0. 1. ... 0. 0. 0.]\n",
      " ...\n",
      " [0. 0. 1. ... 0. 0. 0.]\n",
      " [0. 0. 0. ... 0. 0. 0.]\n",
      " [0. 0. 0. ... 0. 0. 0.]]\n",
      "(220, 56)\n"
     ]
    }
   ],
   "source": [
    "# The function works on other formats besides .txt BTW\n",
    "tricho = np.genfromtxt(fname=\"data/trichoptera.csv\", skip_header=1, delimiter=\",\")\n",
    "\n",
    "# See what it looks like\n",
    "print(tricho)\n",
    "print(tricho.shape)"
   ]
  },
  {
   "cell_type": "markdown",
   "id": "939a73b7",
   "metadata": {},
   "source": [
    "# 3. Indexing, Slicing, and Modifying"
   ]
  },
  {
   "cell_type": "code",
   "execution_count": 27,
   "id": "fba93b9d",
   "metadata": {},
   "outputs": [
    {
     "name": "stdout",
     "output_type": "stream",
     "text": [
      "Total sum of the trichoptera dataset:\n",
      "1651.0\n",
      "\n",
      "Column sums of the trichoptera dataset:\n",
      "[ 95.  59. 127. 148.  64. 121.  73.  60.  54.  81.  98.  65.  52.  62.\n",
      "  37.  71.  34.  57.  39.  28.  16.  26.  37.  26.   8.  11.   4.   7.\n",
      "   9.   9.  13.   8.   5.   3.   5.   6.   1.   3.   3.   3.   1.   5.\n",
      "   2.   2.   2.   1.   1.   1.   1.   1.   1.   1.   1.   1.   1.   1.]\n",
      "\n",
      "Row sums of the trichoptera dataset:\n",
      "[ 1.  1.  2.  2.  1.  1.  2.  1.  3.  2.  2.  1.  1.  3.  2.  2.  2.  1.\n",
      "  0.  0.  1.  0.  7.  6. 12.  9. 11.  8.  7.  6.  9.  4.  7.  7.  8. 17.\n",
      "  8. 11.  9.  5.  1.  8. 11.  2. 14.  9. 16. 19. 10. 11. 13. 12. 14. 11.\n",
      " 14. 15. 12. 12. 13. 11. 12.  2.  0.  4. 12.  3. 14. 11. 17. 15. 14.  9.\n",
      " 15. 12. 10. 13. 13. 14. 12. 14. 16. 15. 10.  4.  2.  7. 10.  7. 19.  7.\n",
      " 19. 16. 13. 10. 12. 14. 17. 10. 11. 16. 15. 14. 13. 16. 10.  3.  0.  4.\n",
      " 15.  9. 14.  6. 15. 12. 10. 11.  8. 17. 12.  8.  6. 12. 12. 10. 14. 13.\n",
      "  6.  5.  0.  5. 14.  8.  9.  3. 12.  9. 12.  9.  8.  6.  7.  5.  5.  7.\n",
      "  9.  8.  8. 11.  5.  2.  0.  5. 14.  4. 10.  7. 14.  9. 13.  8. 11.  9.\n",
      "  8.  3.  4.  4.  7.  6.  8.  8.  5.  3.  0.  1. 13.  6.  7.  2.  8.  3.\n",
      "  7.  6.  5.  3.  6.  1.  2.  5.  3.  7.  6.  7.  3.  1.  0.  2.  5.  3.\n",
      "  3.  3.  3.  2.  7.  3.  4.  4.  3.  3.  3.  3.  3.  3.  5.  2.  4.  1.\n",
      "  0.  2.  2.  3.]\n"
     ]
    }
   ],
   "source": [
    "# Use the axis parameter to define which axis you want to add along\n",
    "\n",
    "# Total sum\n",
    "print(\"Total sum of the trichoptera dataset:\")\n",
    "print(tricho.sum(axis=None))\n",
    "\n",
    "# Row sums\n",
    "print(\"\\nColumn sums of the trichoptera dataset:\")\n",
    "print(tricho.sum(axis=0))\n",
    "\n",
    "# Column sums\n",
    "print(\"\\nRow sums of the trichoptera dataset:\")\n",
    "print(tricho.sum(axis=1))"
   ]
  },
  {
   "cell_type": "markdown",
   "id": "c9783d03",
   "metadata": {},
   "source": [
    "# Array manipulation"
   ]
  },
  {
   "cell_type": "code",
   "execution_count": null,
   "id": "3dfe745d",
   "metadata": {},
   "outputs": [],
   "source": [
    "# I actually didn't tell you the whole story. The 220 points refer to the SAME 22\n",
    "# points sampled repeatedly over 10 periods.\n",
    "# (it's more complicated but let's stick to that)"
   ]
  },
  {
   "cell_type": "code",
   "execution_count": 48,
   "id": "f1030e13",
   "metadata": {},
   "outputs": [
    {
     "name": "stdout",
     "output_type": "stream",
     "text": [
      "[[[0. 0. 1. ... 0. 0. 0.]\n",
      "  [0. 0. 0. ... 0. 0. 0.]\n",
      "  [0. 0. 1. ... 0. 0. 0.]\n",
      "  ...\n",
      "  [0. 0. 0. ... 0. 0. 0.]\n",
      "  [0. 0. 0. ... 0. 0. 0.]\n",
      "  [0. 0. 0. ... 0. 0. 0.]]\n",
      "\n",
      " [[1. 0. 1. ... 0. 0. 0.]\n",
      "  [0. 0. 1. ... 0. 0. 0.]\n",
      "  [1. 1. 1. ... 0. 0. 0.]\n",
      "  ...\n",
      "  [0. 0. 1. ... 0. 0. 0.]\n",
      "  [0. 0. 1. ... 0. 0. 0.]\n",
      "  [0. 0. 0. ... 0. 0. 0.]]\n",
      "\n",
      " [[1. 1. 1. ... 0. 0. 0.]\n",
      "  [1. 1. 1. ... 0. 0. 0.]\n",
      "  [1. 1. 1. ... 0. 0. 0.]\n",
      "  ...\n",
      "  [0. 0. 1. ... 0. 0. 0.]\n",
      "  [0. 0. 1. ... 0. 0. 0.]\n",
      "  [0. 0. 0. ... 0. 0. 0.]]\n",
      "\n",
      " ...\n",
      "\n",
      " [[1. 0. 1. ... 0. 0. 0.]\n",
      "  [0. 0. 1. ... 0. 0. 0.]\n",
      "  [1. 0. 1. ... 0. 0. 0.]\n",
      "  ...\n",
      "  [0. 0. 1. ... 0. 0. 0.]\n",
      "  [1. 0. 1. ... 0. 0. 0.]\n",
      "  [0. 0. 0. ... 0. 0. 0.]]\n",
      "\n",
      " [[0. 0. 1. ... 0. 0. 0.]\n",
      "  [0. 0. 1. ... 0. 0. 0.]\n",
      "  [0. 0. 1. ... 0. 0. 0.]\n",
      "  ...\n",
      "  [0. 0. 1. ... 0. 0. 0.]\n",
      "  [0. 0. 1. ... 0. 0. 0.]\n",
      "  [0. 0. 0. ... 0. 0. 0.]]\n",
      "\n",
      " [[0. 0. 1. ... 0. 0. 0.]\n",
      "  [0. 0. 1. ... 0. 0. 0.]\n",
      "  [0. 0. 1. ... 0. 0. 0.]\n",
      "  ...\n",
      "  [0. 0. 1. ... 0. 0. 0.]\n",
      "  [0. 0. 0. ... 0. 0. 0.]\n",
      "  [0. 0. 0. ... 0. 0. 0.]]]\n"
     ]
    }
   ],
   "source": [
    "# First flatten the array\n",
    "# This gives you a 10*22*56=12320 long 1D array.\n",
    "#\n",
    "# Then reshape it into a 10x22x56 3D array\n",
    "tricho_3d = tricho.flatten().reshape(10, 22, 56)\n",
    "#tricho_3d = tricho.reshape(10, 22, 56)\n",
    "#\n",
    "print(tricho_3d)"
   ]
  },
  {
   "cell_type": "code",
   "execution_count": 49,
   "id": "fc28531d",
   "metadata": {},
   "outputs": [
    {
     "name": "stdout",
     "output_type": "stream",
     "text": [
      "(10, 22, 56)\n"
     ]
    }
   ],
   "source": [
    "# See information about it\n",
    "print(tricho_3d.shape)"
   ]
  },
  {
   "cell_type": "code",
   "execution_count": null,
   "id": "3851d93e",
   "metadata": {},
   "outputs": [
    {
     "name": "stdout",
     "output_type": "stream",
     "text": [
      "\n",
      "Sums along the first axis (time) of the 3d array:\n",
      "(22, 56)\n",
      "\n",
      "Sums along the second axis (species) of the 3d array:\n",
      "(10, 56)\n",
      "\n",
      "Sums along the third axis (sites) of the 3d array:\n",
      "(10, 22)\n"
     ]
    }
   ],
   "source": [
    "# Use the axis parameter to define which axis you want to add along\n",
    "print(\"\\nSums along the first axis (time) of the 3d array:\")\n",
    "print(tricho_3d.sum(axis=0).shape)\n",
    "#\n",
    "print(\"\\nSums along the second axis (sites) of the 3d array:\")\n",
    "print(tricho_3d.sum(axis=1).shape)\n",
    "#\n",
    "print(\"\\nSums along the third axis (species) of the 3d array:\")\n",
    "print(tricho_3d.sum(axis=2).shape)\n"
   ]
  },
  {
   "cell_type": "code",
   "execution_count": 54,
   "id": "146e62e7",
   "metadata": {},
   "outputs": [
    {
     "data": {
      "text/plain": [
       "array([[ 1.,  1.,  2.,  2.,  1.,  1.,  2.,  1.,  3.,  2.,  2.,  1.,  1.,\n",
       "         3.,  2.,  2.,  2.,  1.,  0.,  0.,  1.,  0.],\n",
       "       [ 7.,  6., 12.,  9., 11.,  8.,  7.,  6.,  9.,  4.,  7.,  7.,  8.,\n",
       "        17.,  8., 11.,  9.,  5.,  1.,  8., 11.,  2.],\n",
       "       [14.,  9., 16., 19., 10., 11., 13., 12., 14., 11., 14., 15., 12.,\n",
       "        12., 13., 11., 12.,  2.,  0.,  4., 12.,  3.],\n",
       "       [14., 11., 17., 15., 14.,  9., 15., 12., 10., 13., 13., 14., 12.,\n",
       "        14., 16., 15., 10.,  4.,  2.,  7., 10.,  7.],\n",
       "       [19.,  7., 19., 16., 13., 10., 12., 14., 17., 10., 11., 16., 15.,\n",
       "        14., 13., 16., 10.,  3.,  0.,  4., 15.,  9.],\n",
       "       [14.,  6., 15., 12., 10., 11.,  8., 17., 12.,  8.,  6., 12., 12.,\n",
       "        10., 14., 13.,  6.,  5.,  0.,  5., 14.,  8.],\n",
       "       [ 9.,  3., 12.,  9., 12.,  9.,  8.,  6.,  7.,  5.,  5.,  7.,  9.,\n",
       "         8.,  8., 11.,  5.,  2.,  0.,  5., 14.,  4.],\n",
       "       [10.,  7., 14.,  9., 13.,  8., 11.,  9.,  8.,  3.,  4.,  4.,  7.,\n",
       "         6.,  8.,  8.,  5.,  3.,  0.,  1., 13.,  6.],\n",
       "       [ 7.,  2.,  8.,  3.,  7.,  6.,  5.,  3.,  6.,  1.,  2.,  5.,  3.,\n",
       "         7.,  6.,  7.,  3.,  1.,  0.,  2.,  5.,  3.],\n",
       "       [ 3.,  3.,  3.,  2.,  7.,  3.,  4.,  4.,  3.,  3.,  3.,  3.,  3.,\n",
       "         3.,  5.,  2.,  4.,  1.,  0.,  2.,  2.,  3.]])"
      ]
     },
     "execution_count": 54,
     "metadata": {},
     "output_type": "execute_result"
    }
   ],
   "source": [
    "tricho_3d.sum(axis=2)"
   ]
  },
  {
   "cell_type": "code",
   "execution_count": 42,
   "id": "85445581",
   "metadata": {},
   "outputs": [
    {
     "name": "stdout",
     "output_type": "stream",
     "text": [
      "Total sum of the 3-dimensional array:\n",
      "1651.0\n",
      "\n",
      "Sums along the first axis (time) of the 3d array:\n",
      "[[ 6.  3. 10. ...  0.  0.  0.]\n",
      " [ 3.  2.  9. ...  0.  0.  0.]\n",
      " [ 7.  4. 10. ...  0.  0.  0.]\n",
      " ...\n",
      " [ 0.  1.  8. ...  0.  0.  0.]\n",
      " [ 4.  3.  8. ...  0.  0.  0.]\n",
      " [ 2.  2.  0. ...  0.  0.  0.]]\n",
      "\n",
      "Sums along the second axis (species) of the 3d array:\n",
      "[[ 0.  0.  5.  0.  0.  4.  0.  0.  0.  7.  0.  0.  0.  0.  0.  1.  0.  0.\n",
      "   0.  0. 12.  0.  0.  0.  0.  0.  0.  0.  0.  0.  0.  0.  0.  0.  0.  0.\n",
      "   0.  0.  0.  0.  0.  0.  0.  0.  0.  0.  1.  0.  0.  0.  0.  0.  0.  1.\n",
      "   0.  0.]\n",
      " [ 9.  1. 13. 18.  1. 15.  3. 11. 22. 18. 10.  6.  1.  0.  0. 12.  0. 10.\n",
      "   0.  1.  1.  1.  0.  6.  0.  3.  0.  2.  1.  0.  2.  3.  0.  0.  0.  0.\n",
      "   0.  0.  0.  0.  1.  0.  1.  0.  0.  0.  0.  0.  0.  0.  0.  0.  0.  0.\n",
      "   1.  0.]\n",
      " [15. 15. 14. 16.  0. 13. 16. 12. 10.  7. 18. 10.  0.  4. 11. 13.  6. 14.\n",
      "   4.  9.  2.  0.  7.  3.  0.  1.  0.  1.  4.  0.  6.  0.  0.  0.  2.  0.\n",
      "   0.  1.  1.  1.  0.  0.  0.  0.  1.  0.  0.  0.  0.  0.  1.  1.  0.  0.\n",
      "   0.  0.]\n",
      " [18. 19. 20. 14.  0. 14. 17. 10.  9.  4. 19. 10.  0. 11. 15. 10.  6.  9.\n",
      "   8. 11.  0.  5.  7.  3.  0.  0.  0.  1.  0.  3.  3.  0.  0.  0.  2.  0.\n",
      "   0.  0.  1.  0.  0.  2.  0.  1.  1.  0.  0.  1.  0.  0.  0.  0.  0.  0.\n",
      "   0.  0.]\n",
      " [17. 18.  9. 12. 13. 15. 15.  4.  7.  9. 19.  9.  0. 16.  9. 11.  8.  6.\n",
      "  13.  6.  0.  8. 11.  3.  0.  0.  0.  0.  3.  4.  2.  1.  5.  2.  1.  0.\n",
      "   1.  0.  0.  1.  0.  2.  1.  1.  0.  0.  0.  0.  0.  1.  0.  0.  0.  0.\n",
      "   0.  0.]\n",
      " [16.  2. 10. 19. 21. 15. 12.  1.  3. 11. 18. 10. 12. 13.  2. 13.  2.  4.\n",
      "   6.  0.  0.  7.  6.  2.  0.  2.  0.  1.  0.  1.  0.  2.  0.  1.  0.  1.\n",
      "   0.  0.  0.  1.  0.  1.  0.  0.  0.  1.  0.  0.  0.  0.  0.  0.  1.  0.\n",
      "   0.  1.]\n",
      " [11.  1. 17. 16. 16.  9.  5.  3.  2. 10.  9.  8. 14. 10.  0.  2.  0.  3.\n",
      "   4.  0.  0.  4.  4.  1.  0.  3.  0.  1.  1.  1.  0.  1.  0.  0.  0.  2.\n",
      "   0.  0.  0.  0.  0.  0.  0.  0.  0.  0.  0.  0.  0.  0.  0.  0.  0.  0.\n",
      "   0.  0.]\n",
      " [ 9.  0. 14. 18. 11. 14.  5.  9.  1. 10.  5.  8. 13.  8.  0.  5.  8.  4.\n",
      "   4.  0.  0.  1.  2.  4.  0.  2.  0.  1.  0.  0.  0.  0.  0.  0.  0.  1.\n",
      "   0.  0.  0.  0.  0.  0.  0.  0.  0.  0.  0.  0.  0.  0.  0.  0.  0.  0.\n",
      "   0.  0.]\n",
      " [ 0.  3. 14. 18.  2. 13.  0.  7.  0.  3.  0.  2.  7.  0.  0.  4.  4.  2.\n",
      "   0.  1.  1.  0.  0.  4.  0.  0.  0.  0.  0.  0.  0.  1.  0.  0.  0.  2.\n",
      "   0.  2.  1.  0.  0.  0.  0.  0.  0.  0.  0.  0.  1.  0.  0.  0.  0.  0.\n",
      "   0.  0.]\n",
      " [ 0.  0. 11. 17.  0.  9.  0.  3.  0.  2.  0.  2.  5.  0.  0.  0.  0.  5.\n",
      "   0.  0.  0.  0.  0.  0.  8.  0.  4.  0.  0.  0.  0.  0.  0.  0.  0.  0.\n",
      "   0.  0.  0.  0.  0.  0.  0.  0.  0.  0.  0.  0.  0.  0.  0.  0.  0.  0.\n",
      "   0.  0.]]\n",
      "\n",
      "Sums along the third axis (sites) of the 3d array:\n",
      "[[ 1.  1.  2.  2.  1.  1.  2.  1.  3.  2.  2.  1.  1.  3.  2.  2.  2.  1.\n",
      "   0.  0.  1.  0.]\n",
      " [ 7.  6. 12.  9. 11.  8.  7.  6.  9.  4.  7.  7.  8. 17.  8. 11.  9.  5.\n",
      "   1.  8. 11.  2.]\n",
      " [14.  9. 16. 19. 10. 11. 13. 12. 14. 11. 14. 15. 12. 12. 13. 11. 12.  2.\n",
      "   0.  4. 12.  3.]\n",
      " [14. 11. 17. 15. 14.  9. 15. 12. 10. 13. 13. 14. 12. 14. 16. 15. 10.  4.\n",
      "   2.  7. 10.  7.]\n",
      " [19.  7. 19. 16. 13. 10. 12. 14. 17. 10. 11. 16. 15. 14. 13. 16. 10.  3.\n",
      "   0.  4. 15.  9.]\n",
      " [14.  6. 15. 12. 10. 11.  8. 17. 12.  8.  6. 12. 12. 10. 14. 13.  6.  5.\n",
      "   0.  5. 14.  8.]\n",
      " [ 9.  3. 12.  9. 12.  9.  8.  6.  7.  5.  5.  7.  9.  8.  8. 11.  5.  2.\n",
      "   0.  5. 14.  4.]\n",
      " [10.  7. 14.  9. 13.  8. 11.  9.  8.  3.  4.  4.  7.  6.  8.  8.  5.  3.\n",
      "   0.  1. 13.  6.]\n",
      " [ 7.  2.  8.  3.  7.  6.  5.  3.  6.  1.  2.  5.  3.  7.  6.  7.  3.  1.\n",
      "   0.  2.  5.  3.]\n",
      " [ 3.  3.  3.  2.  7.  3.  4.  4.  3.  3.  3.  3.  3.  3.  5.  2.  4.  1.\n",
      "   0.  2.  2.  3.]]\n"
     ]
    }
   ],
   "source": [
    "# Giving it nothing will give you the sum of the entire dataset\n",
    "print(\"Total sum of the 3-dimensional array:\")\n",
    "print(tricho_3d.sum(axis=None))\n",
    "\n",
    "# Use the axis parameter to define which axis you want to add along\n",
    "print(\"\\nSums along the first axis (time) of the 3d array:\")\n",
    "print(tricho_3d.sum(axis=0))\n",
    "#\n",
    "print(\"\\nSums along the second axis (species) of the 3d array:\")\n",
    "print(tricho_3d.sum(axis=1))\n",
    "#\n",
    "print(\"\\nSums along the third axis (sites) of the 3d array:\")\n",
    "print(tricho_3d.sum(axis=2))\n"
   ]
  },
  {
   "cell_type": "code",
   "execution_count": 96,
   "id": "bb579b40",
   "metadata": {},
   "outputs": [
    {
     "data": {
      "text/plain": [
       "np.float64(18.0)"
      ]
     },
     "execution_count": 96,
     "metadata": {},
     "output_type": "execute_result"
    }
   ],
   "source": [
    "# You can also select a particular slice\n",
    "tricho_3d[0:2, :, 2].sum()"
   ]
  },
  {
   "cell_type": "code",
   "execution_count": null,
   "id": "c9e582db",
   "metadata": {},
   "outputs": [
    {
     "ename": "SyntaxError",
     "evalue": "invalid syntax (988533085.py, line 6)",
     "output_type": "error",
     "traceback": [
      "  \u001b[36mCell\u001b[39m\u001b[36m \u001b[39m\u001b[32mIn[69]\u001b[39m\u001b[32m, line 6\u001b[39m\n\u001b[31m    \u001b[39m\u001b[31m```python\u001b[39m\n    ^\n\u001b[31mSyntaxError\u001b[39m\u001b[31m:\u001b[39m invalid syntax\n"
     ]
    }
   ],
   "source": [
    "\n",
    "\n",
    "## Indexing\n",
    "\n",
    "```python\n",
    "# Single element\n",
    "print(arr[0])  # First element\n",
    "```\n",
    "\n",
    "## Slicing\n",
    "\n",
    "```python\n",
    "# Slice elements 1 to 3\n",
    "print(arr[1:4])\n",
    "```\n",
    "\n",
    "## Modifying Elements\n",
    "\n",
    "```python\n",
    "# Change first element\n",
    "arr[0] = 100\n",
    "print(arr)\n",
    "```\n",
    "\n"
   ]
  },
  {
   "cell_type": "markdown",
   "id": "8651a230",
   "metadata": {},
   "source": [
    "# LINALG"
   ]
  },
  {
   "cell_type": "code",
   "execution_count": 55,
   "id": "bdf70ac9",
   "metadata": {},
   "outputs": [],
   "source": [
    "# Create a square matrix that could be a covariance matrix\n",
    "# between two variables\n",
    "S = np.array([[1.0, 0.8],\n",
    "              [0.8, 1.0]])"
   ]
  },
  {
   "cell_type": "code",
   "execution_count": 56,
   "id": "1d8168cb",
   "metadata": {},
   "outputs": [
    {
     "name": "stdout",
     "output_type": "stream",
     "text": [
      "The determinant of S:\n",
      "0.3599999999999999\n",
      "<class 'numpy.float64'>\n"
     ]
    }
   ],
   "source": [
    "# Compute its determinant\n",
    "print(\"The determinant of S:\")\n",
    "print(np.linalg.det(S))\n",
    "print(type(np.linalg.det(S)))"
   ]
  },
  {
   "cell_type": "code",
   "execution_count": 57,
   "id": "6f1a8808",
   "metadata": {},
   "outputs": [
    {
     "name": "stdout",
     "output_type": "stream",
     "text": [
      "The inverse of S:\n",
      "[[ 2.77777778 -2.22222222]\n",
      " [-2.22222222  2.77777778]]\n",
      "<class 'numpy.ndarray'>\n"
     ]
    }
   ],
   "source": [
    "# Get the inverse of the S matrix\n",
    "Sm1 = np.linalg.inv(S)\n",
    "\n",
    "print(\"The inverse of S:\")\n",
    "print(Sm1)\n",
    "print(type(Sm1))"
   ]
  },
  {
   "cell_type": "code",
   "execution_count": 58,
   "id": "60308c97",
   "metadata": {},
   "outputs": [
    {
     "name": "stdout",
     "output_type": "stream",
     "text": [
      "\n",
      "The result of Sm1 x S:\n",
      "[[1.00000000e+00 0.00000000e+00]\n",
      " [2.12175956e-16 1.00000000e+00]]\n",
      "<class 'numpy.ndarray'>\n",
      "\n",
      "The result of S x Sm1:\n",
      "[[1.00000000e+00 2.12175956e-16]\n",
      " [0.00000000e+00 1.00000000e+00]]\n",
      "<class 'numpy.ndarray'>\n"
     ]
    }
   ],
   "source": [
    "print(\"\\nThe result of Sm1 x S:\")\n",
    "print(Sm1 @ S)\n",
    "print(type(Sm1 @ S))\n",
    "\n",
    "print(\"\\nThe result of S x Sm1:\")\n",
    "print(S @ Sm1)\n",
    "print(type(S @ Sm1))"
   ]
  },
  {
   "cell_type": "code",
   "execution_count": 60,
   "id": "5d4b6451",
   "metadata": {},
   "outputs": [
    {
     "name": "stdout",
     "output_type": "stream",
     "text": [
      "The determinant of S2:\n",
      "0.0\n",
      "<class 'numpy.float64'>\n"
     ]
    }
   ],
   "source": [
    "# Perform eigenanalysis\n",
    "S2 = np.array([[1.0, 0.5],\n",
    "               [2.0, 1.0]])\n",
    "\n",
    "print(\"The determinant of S2:\")\n",
    "print(np.linalg.det(S2))\n",
    "print(type(np.linalg.det(S2)))"
   ]
  },
  {
   "cell_type": "code",
   "execution_count": 62,
   "id": "e74801a1",
   "metadata": {},
   "outputs": [],
   "source": [
    "# Invert matrix S2 which is singular\n",
    "# Uncomment at your own risk\n",
    "# (There ain't no risk, it's mathematically impossible)\n",
    "#np.linalg.inv(S2)"
   ]
  },
  {
   "cell_type": "code",
   "execution_count": 5,
   "id": "a0d7961d",
   "metadata": {},
   "outputs": [
    {
     "name": "stdout",
     "output_type": "stream",
     "text": [
      "The inverse of S:\n",
      "[[ 2.77777778 -2.22222222]\n",
      " [-2.22222222  2.77777778]]\n",
      "\n",
      "The result of Sm1 S:\n",
      "[[1.00000000e+00 0.00000000e+00]\n",
      " [2.12175956e-16 1.00000000e+00]]\n",
      "\n",
      "The result of S Sm1:\n",
      "[[1.00000000e+00 2.12175956e-16]\n",
      " [0.00000000e+00 1.00000000e+00]]\n"
     ]
    }
   ],
   "source": [
    "#np.linalg.cholesky\n",
    "#np.linalg.eig\n",
    "#np.linalg.qr\n",
    "#np.linalg.svd\n",
    "#np.linalg.inv\n",
    "\n",
    "Sm1 = np.linalg.inv(S)\n",
    "\n",
    "print(\"The inverse of S:\")\n",
    "print(Sm1)\n",
    "\n",
    "print(\"\\nThe result of Sm1 S:\")\n",
    "print(Sm1 @ S)\n",
    "\n",
    "print(\"\\nThe result of S Sm1:\")\n",
    "print(S @ Sm1)"
   ]
  },
  {
   "cell_type": "markdown",
   "id": "7595ec92",
   "metadata": {},
   "source": [
    "# The return of list unpacking"
   ]
  },
  {
   "cell_type": "code",
   "execution_count": null,
   "id": "9c430294",
   "metadata": {},
   "outputs": [
    {
     "name": "stdout",
     "output_type": "stream",
     "text": [
      "EigResult(eigenvalues=array([1.8, 0.2]), eigenvectors=array([[ 0.70710678, -0.70710678],\n",
      "       [ 0.70710678,  0.70710678]]))\n"
     ]
    },
    {
     "data": {
      "text/plain": [
       "SVDResult(U=array([[-0.70710678, -0.70710678],\n",
       "       [-0.70710678,  0.70710678]]), S=array([1.8, 0.2]), Vh=array([[-0.70710678, -0.70710678],\n",
       "       [-0.70710678,  0.70710678]]))"
      ]
     },
     "execution_count": 63,
     "metadata": {},
     "output_type": "execute_result"
    }
   ],
   "source": [
    "print(np.linalg.eig(S))"
   ]
  },
  {
   "cell_type": "code",
   "execution_count": 4,
   "id": "81ef9161",
   "metadata": {},
   "outputs": [],
   "source": [
    "import numpy as np\n",
    "\n",
    "\n",
    "# Perform eigenanalysis\n",
    "S = np.array([[1.0, 0.8],\n",
    "          [0.8, 1.0]])\n",
    "\n",
    "\n",
    "lam, U = np.linalg.eig(S)\n"
   ]
  },
  {
   "cell_type": "code",
   "execution_count": 87,
   "id": "ee4ead56",
   "metadata": {},
   "outputs": [
    {
     "data": {
      "text/plain": [
       "array([-5.55111512e-17,  7.07106781e-01])"
      ]
     },
     "execution_count": 87,
     "metadata": {},
     "output_type": "execute_result"
    }
   ],
   "source": [
    "U.mean(axis=1)"
   ]
  },
  {
   "cell_type": "code",
   "execution_count": 90,
   "id": "df9aa9b1",
   "metadata": {},
   "outputs": [
    {
     "name": "stdout",
     "output_type": "stream",
     "text": [
      "[[ 0.70710678 -0.70710678]\n",
      " [ 0.70710678  0.70710678]]\n",
      "[[0.5 0.5]\n",
      " [0.5 0.5]]\n",
      "[[-2.22044605e-16 -1.00000000e+00]\n",
      " [ 1.00000000e+00 -2.22044605e-16]]\n"
     ]
    }
   ],
   "source": [
    "print(U)\n",
    "print(U * U)\n",
    "print(U @ U)"
   ]
  },
  {
   "cell_type": "code",
   "execution_count": null,
   "id": "d071126e",
   "metadata": {},
   "outputs": [],
   "source": [
    "def pca(X):\n",
    "    n = X.shape[0]\n",
    "    X = X - X.mean(axis=1)\n",
    "    S = 1/(n - 1.0) * X.T @ X\n",
    "    _, U = np.linalg.eig(S)\n",
    "    F = X @ U\n",
    "    return F"
   ]
  },
  {
   "cell_type": "code",
   "execution_count": 97,
   "id": "961a5e4c",
   "metadata": {},
   "outputs": [],
   "source": [
    "def pca(X):\n",
    "    n = X.shape[0]\n",
    "    X = X - X.mean(axis=1)\n",
    "    S = 1/(n - 1.0) * X.T @ X\n",
    "    eig_out = np.linalg.eig(S)\n",
    "    U = eig_out[1]\n",
    "    F = X @ U\n",
    "    return F"
   ]
  },
  {
   "cell_type": "code",
   "execution_count": 17,
   "id": "2cfe395e",
   "metadata": {},
   "outputs": [
    {
     "data": {
      "text/plain": [
       "3"
      ]
     },
     "execution_count": 17,
     "metadata": {},
     "output_type": "execute_result"
    }
   ],
   "source": [
    "# Understanding _\n",
    "# You \n",
    "3"
   ]
  },
  {
   "cell_type": "code",
   "execution_count": 18,
   "id": "4e49c253",
   "metadata": {},
   "outputs": [
    {
     "data": {
      "text/plain": [
       "3"
      ]
     },
     "execution_count": 18,
     "metadata": {},
     "output_type": "execute_result"
    }
   ],
   "source": [
    "_"
   ]
  },
  {
   "cell_type": "markdown",
   "id": "d692f149",
   "metadata": {},
   "source": [
    "# Masked matrices"
   ]
  },
  {
   "cell_type": "code",
   "execution_count": 63,
   "id": "2a96e159",
   "metadata": {},
   "outputs": [
    {
     "name": "stdout",
     "output_type": "stream",
     "text": [
      "[[-999. -999.    1. -999.    2.]\n",
      " [   1.    2.    2.    3.    2.]\n",
      " [-999. -999.    1. -999. -999.]\n",
      " [   3.    3.    2.    2.    0.]\n",
      " [   0.    1.    2. -999.    2.]] \n",
      "\n",
      "[[ True  True False  True False]\n",
      " [False False False False False]\n",
      " [ True  True False  True  True]\n",
      " [False False False False False]\n",
      " [False False False  True False]]\n",
      "\n",
      "mymask is a:  <class 'numpy.ndarray'>\n",
      "\n",
      "ex_mask is a:  <class 'numpy.ma.MaskedArray'> \n",
      "\n",
      "[[-- -- 1.0 -- 2.0]\n",
      " [1.0 2.0 2.0 3.0 2.0]\n",
      " [-- -- 1.0 -- --]\n",
      " [3.0 3.0 2.0 2.0 0.0]\n",
      " [0.0 1.0 2.0 -- 2.0]]\n",
      "\n",
      "ex_mask is a:  <class 'numpy.ma.MaskedArray'> \n",
      "\n",
      "[[nan nan  1. nan  2.]\n",
      " [ 1.  2.  2.  3.  2.]\n",
      " [nan nan  1. nan nan]\n",
      " [ 3.  3.  2.  2.  0.]\n",
      " [ 0.  1.  2. nan  2.]]\n"
     ]
    }
   ],
   "source": [
    "# Generate a 5x5 matrix with values either -1 or 1\n",
    "ex_array = np.random.choice(a=[0.0, 1.0, 2.0, 3.0, -999.0], size=(5, 5))\n",
    "\n",
    "print(ex_array, \"\\n\")\n",
    "\n",
    "mymask = ex_array == -999\n",
    "\n",
    "print(mymask)\n",
    "\n",
    "print(\"\\nmymask is a: \", type(mymask))\n",
    "\n",
    "ex_mask = np.ma.masked_array(ex_array, mymask)\n",
    "\n",
    "print(\"\\nex_mask is a: \", type(ex_mask), \"\\n\")\n",
    "\n",
    "print(ex_mask)\n",
    "\n",
    "# Replace values that are equal to 5 with np.nan\n",
    "ex_nan = ex_array.copy()\n",
    "\n",
    "ex_nan[ex_nan == -999] = np.nan\n",
    "\n",
    "print(\"\\nex_mask is a: \", type(ex_mask), \"\\n\")\n",
    "\n",
    "print(ex_nan)"
   ]
  },
  {
   "cell_type": "code",
   "execution_count": null,
   "id": "a391abde",
   "metadata": {},
   "outputs": [
    {
     "name": "stdout",
     "output_type": "stream",
     "text": [
      "The mean of ex_array is: -238.4\n",
      "The mean of ex_mask is: 1.7894736842105263\n",
      "The mean of ex_nan is: nan\n",
      "The nanmean of ex_nan is: 1.7894736842105263\n"
     ]
    }
   ],
   "source": [
    "# Print out the mean of these arrays\n",
    "print(\"The mean of ex_array is:\", ex_array.mean())\n",
    "print(\"The mean of ex_mask is:\", ex_mask.mean())\n",
    "print(\"The mean of ex_nan is:\", ex_nan.mean())\n",
    "print(\"The nanmean of ex_nan is:\", np.nanmean(ex_nan))"
   ]
  },
  {
   "cell_type": "code",
   "execution_count": null,
   "id": "041b9131",
   "metadata": {},
   "outputs": [],
   "source": []
  },
  {
   "cell_type": "code",
   "execution_count": 77,
   "id": "3172f080",
   "metadata": {},
   "outputs": [
    {
     "data": {
      "text/plain": [
       "26.0"
      ]
     },
     "execution_count": 77,
     "metadata": {},
     "output_type": "execute_result"
    }
   ],
   "source": [
    "(1 + 1/2**53) == 1\n",
    "52/2"
   ]
  }
 ],
 "metadata": {
  "kernelspec": {
   "display_name": ".venv",
   "language": "python",
   "name": "python3"
  },
  "language_info": {
   "codemirror_mode": {
    "name": "ipython",
    "version": 3
   },
   "file_extension": ".py",
   "mimetype": "text/x-python",
   "name": "python",
   "nbconvert_exporter": "python",
   "pygments_lexer": "ipython3",
   "version": "3.13.3"
  }
 },
 "nbformat": 4,
 "nbformat_minor": 5
}
