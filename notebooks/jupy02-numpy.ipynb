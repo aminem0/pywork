{
 "cells": [
  {
   "cell_type": "markdown",
   "id": "a1b5983e",
   "metadata": {},
   "source": [
    "# Python workshop - 2025\n",
    "\n",
    "**Last update**: 2025-05-19  \n",
    "**Author**: El-Amine Mimouni  \n",
    "**Affiliation**: Québec Centre for Biodiversity Science\n",
    "\n",
    "**Overview**: In this notebook, we will see how to work with NumPy arrays.\n",
    "\n",
    "---\n",
    "\n",
    "# NumPy\n",
    "\n",
    "NumPy (Numerical Python) is the core library for numerical and scientific computing in Python. It is the main computational workhorse behind much of the compuations that are done in Python. It provides powerful support for multi-dimensional arrays and a wide range of mathematical operations.\n",
    "\n",
    "If you want to learn more about it, visit [https://numpy.org/](https://numpy.org/)."
   ]
  },
  {
   "cell_type": "code",
   "execution_count": 159,
   "id": "430730d0",
   "metadata": {},
   "outputs": [],
   "source": [
    "# Import numpy\n",
    "import numpy as np"
   ]
  },
  {
   "cell_type": "markdown",
   "id": "a960ad92",
   "metadata": {},
   "source": [
    "# Creating Arrays\n",
    "\n",
    "A NumPy array is similar to a mathematical vector or a matrix. It provides a powerful way to work with numerical data in Python. NumPy arrays are highly efficient for performing mathematical operations and offer more flexibility compared to regular Python lists. Arrays in NumPy can be constructed in many ways."
   ]
  },
  {
   "cell_type": "code",
   "execution_count": 28,
   "id": "f67d8e05",
   "metadata": {},
   "outputs": [
    {
     "name": "stdout",
     "output_type": "stream",
     "text": [
      "[1 2 3 4 5]\n",
      "<class 'numpy.ndarray'>\n",
      "--------------------------------------------------\n",
      "(5,)\n",
      "int64\n"
     ]
    }
   ],
   "source": [
    "# Create a 1-dimensional array (i.e. a vector)\n",
    "arr_1d = np.array(object=[1, 2, 3, 4, 5])\n",
    "print(arr_1d)\n",
    "print(type(arr_1d))\n",
    "#\n",
    "print(\"-\" * 50)\n",
    "# Important attributes\n",
    "print(arr_1d.shape)\n",
    "print(arr_1d.dtype)"
   ]
  },
  {
   "cell_type": "code",
   "execution_count": 29,
   "id": "e6101cae",
   "metadata": {},
   "outputs": [
    {
     "name": "stdout",
     "output_type": "stream",
     "text": [
      "[[1.2 2.5 3.1]\n",
      " [4.8 5.1 6.5]]\n",
      "<class 'numpy.ndarray'>\n",
      "--------------------------------------------------\n",
      "(2, 3)\n",
      "float64\n"
     ]
    }
   ],
   "source": [
    "# Create a 2-dimensional array (i.e. a matrix)\n",
    "# Note the fact that you are giving each row as a list in a list [[row1], [row2]].\n",
    "arr_2d = np.array(object=[[1.2, 2.5, 3.1], [4.8, 5.1, 6.5]])\n",
    "print(arr_2d)\n",
    "print(type(arr_2d))\n",
    "\n",
    "#\n",
    "print(\"-\" * 50)\n",
    "# Important attributes\n",
    "print(arr_2d.shape)\n",
    "print(arr_2d.dtype)"
   ]
  },
  {
   "cell_type": "code",
   "execution_count": 59,
   "id": "4af5788a",
   "metadata": {},
   "outputs": [
    {
     "name": "stdout",
     "output_type": "stream",
     "text": [
      "The result of multiplying every value of arr_1d by 2:\n",
      "[ 2  4  6  8 10]\n",
      "--------------------\n",
      "\n",
      "The result of adding 5.8 to every value of arr_2d:\n",
      "[[ 7.   8.3  8.9]\n",
      " [10.6 10.9 12.3]]\n"
     ]
    }
   ],
   "source": [
    "# Contrary to lists, NumPy arrays behave correctly with regards to the basic OPERATORS\n",
    "print(\"The result of multiplying every value of arr_1d by 2:\")\n",
    "print(arr_1d * 2)\n",
    "#\n",
    "print(\"-\" * 20)\n",
    "#\n",
    "print(\"\\nThe result of adding 5.8 to every value of arr_2d:\")\n",
    "print(arr_2d + 5.8)"
   ]
  },
  {
   "cell_type": "code",
   "execution_count": 31,
   "id": "34c05ccb",
   "metadata": {},
   "outputs": [
    {
     "name": "stdout",
     "output_type": "stream",
     "text": [
      "[1, 2, 3, 4, 5]\n",
      "[1 2 3 4 5]\n",
      "--------------------------------------------------\n",
      "<method-wrapper '__add__' of list object at 0x000002BA1BF24640>\n",
      "<method-wrapper '__add__' of numpy.ndarray object at 0x000002BA1BEE7450>\n"
     ]
    }
   ],
   "source": [
    "# If you have doubts, create the list-equivalent of arr_1d\n",
    "list_1d = [1, 2, 3, 4, 5]\n",
    "#\n",
    "print(list_1d)\n",
    "print(arr_1d)\n",
    "#\n",
    "print(\"-\" * 50)\n",
    "\n",
    "# Look at how they react with the + operator\n",
    "print(list_1d.__add__)\n",
    "print(arr_1d.__add__)"
   ]
  },
  {
   "cell_type": "markdown",
   "id": "85e7ff91",
   "metadata": {},
   "source": [
    "# Slicing and accessing elements\n",
    "\n",
    "It is done like with conventional Python lists."
   ]
  },
  {
   "cell_type": "code",
   "execution_count": 80,
   "id": "bea07a52",
   "metadata": {},
   "outputs": [
    {
     "name": "stdout",
     "output_type": "stream",
     "text": [
      "[[1.2 2.5 3.1]\n",
      " [4.8 5.1 6.5]]\n"
     ]
    }
   ],
   "source": [
    "# The most general form\n",
    "# Select everything\n",
    "print(arr_2d[:, :])"
   ]
  },
  {
   "cell_type": "code",
   "execution_count": 32,
   "id": "318179f1",
   "metadata": {},
   "outputs": [
    {
     "name": "stdout",
     "output_type": "stream",
     "text": [
      "The first row of arr_2d:\n",
      "[1.2 2.5 3.1]\n",
      "--------------------------------------------------\n",
      "The third column of arr_2d:\n",
      "[3.1 6.5]\n"
     ]
    }
   ],
   "source": [
    "# The most general form\n",
    "# Select everything\n",
    "print(\"The first row of arr_2d:\")\n",
    "print(arr_2d[0, :])\n",
    "\n",
    "#\n",
    "print(\"-\" * 50)\n",
    "print(\"The third column of arr_2d:\")\n",
    "print(arr_2d[:, 2])\n"
   ]
  },
  {
   "cell_type": "code",
   "execution_count": 63,
   "id": "536e7060",
   "metadata": {},
   "outputs": [
    {
     "name": "stdout",
     "output_type": "stream",
     "text": [
      "The first row of arr_2d:\n",
      "[1.2 2.5 3.1]\n",
      "\n",
      "\n",
      "[1.2 2.5 3.1]\n",
      "\n",
      "\n",
      "[1.2 2.5 3.1]\n"
     ]
    }
   ],
   "source": [
    "# The : and even , can be omitted in the case of rows\n",
    "# But I recommend leaving them for clarity\n",
    "# Also since it clearly shows the dimension of your array\n",
    "print(\"The first row of arr_2d:\")\n",
    "print(arr_2d[0, :])\n",
    "print(\"\\n\")\n",
    "print(arr_2d[0,])\n",
    "print(\"\\n\")\n",
    "print(arr_2d[0])"
   ]
  },
  {
   "cell_type": "code",
   "execution_count": 64,
   "id": "52a16584",
   "metadata": {},
   "outputs": [
    {
     "name": "stdout",
     "output_type": "stream",
     "text": [
      "Rows 1 to 2 of arr_2d:\n",
      "[[1.2 2.5 3.1]\n",
      " [4.8 5.1 6.5]]\n",
      "\n",
      "\n",
      "Columns 2 to 3 of arr_2d:\n",
      "[[2.5 3.1]\n",
      " [5.1 6.5]]\n"
     ]
    }
   ],
   "source": [
    "# If you want to select a range of rows or columns, use the colon :\n",
    "print(\"Rows 1 to 2 of arr_2d:\")\n",
    "print(arr_2d[0:2, :])\n",
    "#\n",
    "print(\"\\n\")\n",
    "#\n",
    "print(\"Columns 2 to 3 of arr_2d:\")\n",
    "print(arr_2d[:, 1:4])"
   ]
  },
  {
   "cell_type": "code",
   "execution_count": 34,
   "id": "8549f313",
   "metadata": {},
   "outputs": [
    {
     "name": "stdout",
     "output_type": "stream",
     "text": [
      "Rows 1 to 2, and columns 1 and 3 of arr_2d:\n",
      "[[1.2 3.1]\n",
      " [4.8 6.5]]\n"
     ]
    }
   ],
   "source": [
    "# If you particular values, you can input them as lists:\n",
    "print(\"Rows 1 to 2, and columns 1 and 3 of arr_2d:\")\n",
    "print(arr_2d[0:2, [0, 2]])\n"
   ]
  },
  {
   "cell_type": "markdown",
   "id": "19ce1837",
   "metadata": {},
   "source": [
    "# Important methods"
   ]
  },
  {
   "cell_type": "code",
   "execution_count": 9,
   "id": "14d7bb5d",
   "metadata": {},
   "outputs": [
    {
     "name": "stdout",
     "output_type": "stream",
     "text": [
      "Grand mean of arr_2d:\n",
      "3.866666666666667\n",
      "Column means of arr_2d:\n",
      "[3.  3.8 4.8]\n",
      "Row means of arr_2d:\n",
      "[2.26666667 5.46666667]\n"
     ]
    }
   ],
   "source": [
    "# Each matrix has the usual mathematical methods\n",
    "# These are .mean(), .min(), .max()\n",
    "\n",
    "# Note: axis=None can be left as an empty field.\n",
    "print(\"\\nGrand mean of arr_2d:\")\n",
    "print(arr_2d.mean(axis=None))\n",
    "#\n",
    "print(\"\\nColumn means of arr_2d:\")\n",
    "print(arr_2d.mean(axis=0))\n",
    "#\n",
    "print(\"\\nRow means of arr_2d:\")\n",
    "print(arr_2d.mean(axis=1))"
   ]
  },
  {
   "cell_type": "code",
   "execution_count": 70,
   "id": "38211795",
   "metadata": {},
   "outputs": [
    {
     "name": "stdout",
     "output_type": "stream",
     "text": [
      "Column means of arr_2d:\n",
      "[3.  3.8 4.8]\n",
      "\n",
      "The mean value of the MATRIX:\n",
      "[3.  3.8 4.8]\n"
     ]
    }
   ],
   "source": [
    "# Can also be used in usual PROCEDURAL\n",
    "print(\"Column means of arr_2d:\")\n",
    "print(arr_2d.mean(axis=0))\n",
    "\n",
    "print(\"\\nThe mean value of the MATRIX:\")\n",
    "print(np.mean(a=arr_2d, axis=0))"
   ]
  },
  {
   "cell_type": "code",
   "execution_count": 73,
   "id": "4c11d8b9",
   "metadata": {},
   "outputs": [
    {
     "name": "stdout",
     "output_type": "stream",
     "text": [
      "Variance of variables in arr_2d:\n",
      "[6.48 3.38 5.78]\n"
     ]
    }
   ],
   "source": [
    "# Special notice needs to be mentionned regarding the variance/stdev\n",
    "# You can calculate it by hand as shown below:\n",
    "\n",
    "# Get sample size\n",
    "n = arr_2d.shape[0]\n",
    "\n",
    "# Center arr_2d\n",
    "arr_2d_c = arr_2d - arr_2d.mean(axis=0)\n",
    "\n",
    "# Sum squared value\n",
    "arr_2d_var = sum(arr_2d_c ** 2) / (n - 1)\n",
    "\n",
    "# See the results\n",
    "print(\"Variance of variables in arr_2d:\")\n",
    "print(arr_2d_var)\n",
    "\n",
    "#((arr_2d - arr_2d.mean(axis=0)) ** 2).sum(axis=0)"
   ]
  },
  {
   "cell_type": "code",
   "execution_count": 75,
   "id": "7a0e5be3",
   "metadata": {},
   "outputs": [
    {
     "name": "stdout",
     "output_type": "stream",
     "text": [
      "Variance of variables in arr_2d.var():\n",
      "[3.24 1.69 2.89]\n"
     ]
    }
   ],
   "source": [
    "# However, the .var() method gives you\n",
    "print(\"Variance of variables in arr_2d.var():\")\n",
    "print(arr_2d.var(axis=0))\n",
    "\n",
    "#np.var(arr_2d, axis=0)"
   ]
  },
  {
   "cell_type": "code",
   "execution_count": null,
   "id": "5b9f073d",
   "metadata": {},
   "outputs": [],
   "source": [
    "# The reason for this difference is that NumPy considers the MLE estimate of the variance.\n",
    "# Therefore, sor a sample of N observations, the estimate will be divided by N rather than (N - 1)."
   ]
  },
  {
   "cell_type": "code",
   "execution_count": 57,
   "id": "d9cc7d09",
   "metadata": {},
   "outputs": [
    {
     "name": "stdout",
     "output_type": "stream",
     "text": [
      "Result of np.cov() with default parameters:\n",
      "[[0.94333333 0.74333333]\n",
      " [0.74333333 0.82333333]]\n",
      "\n",
      "Result of np.cov() with rowvar=False:\n",
      "[[6.48 4.68 6.12]\n",
      " [4.68 3.38 4.42]\n",
      " [6.12 4.42 5.78]]\n",
      "\n",
      "Result of np.cov() with rowvar=False and bias=False:\n",
      "[[6.48 4.68 6.12]\n",
      " [4.68 3.38 4.42]\n",
      " [6.12 4.42 5.78]]\n"
     ]
    }
   ],
   "source": [
    "# This can be seen in the np.cov() function, which gives \n",
    "# Special notice needs to be mentionned regarding the variance\n",
    "print(\"Result of np.cov() with default parameters:\")\n",
    "print(np.cov(arr_2d))\n",
    "\n",
    "# The default considers rowvar=true, so that the variance of the rows\n",
    "# is computed\n",
    "print(\"\\nResult of np.cov() with rowvar=False:\")\n",
    "print(np.cov(arr_2d, rowvar=False))\n",
    "\n",
    "# Thankfully for most analyses, the value of bias=False is the default\n",
    "print(\"\\nResult of np.cov() with rowvar=False and bias=False:\")\n",
    "print(np.cov(arr_2d, rowvar=False, bias=False))"
   ]
  },
  {
   "cell_type": "code",
   "execution_count": 7,
   "id": "bdc16afb",
   "metadata": {},
   "outputs": [
    {
     "name": "stdout",
     "output_type": "stream",
     "text": [
      "[[1.2 2.5 3.1]\n",
      " [4.8 5.1 6.5]]\n",
      "********************\n",
      "[1.2 2.5 3.1 4.8 5.1 6.5]\n"
     ]
    }
   ],
   "source": [
    "# MAYBE REMOVE\n",
    "print(arr_2d)\n",
    "#\n",
    "print(\"*\" * 20)\n",
    "#\n",
    "print(arr_2d.flatten())"
   ]
  },
  {
   "cell_type": "markdown",
   "id": "276613ec",
   "metadata": {},
   "source": [
    "# Special matrices"
   ]
  },
  {
   "cell_type": "code",
   "execution_count": 80,
   "id": "06d322dd",
   "metadata": {},
   "outputs": [
    {
     "name": "stdout",
     "output_type": "stream",
     "text": [
      "A 2x2 matrix of 0's:\n",
      "[[0. 0.]\n",
      " [0. 0.]]\n",
      "--------------------------------------------------\n",
      "A 4x1 matrix of 1's:\n",
      "[[1.]\n",
      " [1.]\n",
      " [1.]\n",
      " [1.]]\n",
      "--------------------------------------------------\n",
      "A 3x3 identity matrix:\n",
      "[[1. 0. 0.]\n",
      " [0. 1. 0.]\n",
      " [0. 0. 1.]]\n",
      "--------------------------------------------------\n",
      "A 2x4 matrix of random normal variates:\n",
      "[[ 0.62892756 -0.45052636  1.21577943  1.36060433]\n",
      " [ 0.48921381  0.04673573 -1.95165626 -0.08850641]]\n"
     ]
    }
   ],
   "source": [
    "## Special arrays can be built for linear algebra\n",
    "\n",
    "# Zeros\n",
    "zeros = np.zeros((2, 2))\n",
    "print(\"A 2x2 matrix of 0's:\")\n",
    "print(zeros)\n",
    "print(\"-\" * 50)\n",
    "\n",
    "# Ones\n",
    "ones = np.ones((4,1))\n",
    "print(\"A 4x1 matrix of 1's:\")\n",
    "print(ones)\n",
    "print(\"-\" * 50)\n",
    "\n",
    "# Identity matrix\n",
    "print(\"A 3x3 identity matrix:\")\n",
    "print(np.eye(N=3))\n",
    "print(\"-\" * 50)\n",
    "\n",
    "# Random numbers\n",
    "# DIFFERENT MODULE\n",
    "print(\"A 2x4 matrix of random normal variates:\")\n",
    "randoms = np.random.randn(2, 4)\n",
    "print(randoms)"
   ]
  },
  {
   "cell_type": "code",
   "execution_count": 58,
   "id": "80dc680a",
   "metadata": {},
   "outputs": [
    {
     "name": "stdout",
     "output_type": "stream",
     "text": [
      "[[-0.03598025  0.97322097  0.12797194  1.16878278]\n",
      " [-0.5541337  -0.60531605  0.04688605  0.14748479]]\n",
      "\n",
      "\n",
      "[[ 0.68710469 -0.58939942 -1.15198543]\n",
      " [ 0.75335405  1.17656137 -0.00395283]\n",
      " [ 0.70600594  0.22964846  0.10519212]\n",
      " [ 0.64225739 -0.26829781 -0.80356156]]\n"
     ]
    }
   ],
   "source": [
    "# Create two matrices\n",
    "x1 = np.random.randn(2, 4)\n",
    "x2 = np.random.randn(4, 3)\n",
    "\n",
    "# See what they look like\n",
    "print(x1)\n",
    "print(\"\\n\")\n",
    "print(x2)"
   ]
  },
  {
   "cell_type": "code",
   "execution_count": 25,
   "id": "9d9b7637",
   "metadata": {},
   "outputs": [
    {
     "data": {
      "text/plain": [
       "array([[ 0.61796906, -1.22930429, -0.68144788],\n",
       "       [-0.49698702,  0.35794264,  0.6902604 ]])"
      ]
     },
     "execution_count": 25,
     "metadata": {},
     "output_type": "execute_result"
    }
   ],
   "source": [
    "# Compute their scalar product\n",
    "x1.dot(x2)"
   ]
  },
  {
   "cell_type": "code",
   "execution_count": 26,
   "id": "269db569",
   "metadata": {},
   "outputs": [
    {
     "data": {
      "text/plain": [
       "array([[ 0.61796906, -1.22930429, -0.68144788],\n",
       "       [-0.49698702,  0.35794264,  0.6902604 ]])"
      ]
     },
     "execution_count": 26,
     "metadata": {},
     "output_type": "execute_result"
    }
   ],
   "source": [
    "# Compute their scalar product using the @ operator\n",
    "x1 @ x2"
   ]
  },
  {
   "cell_type": "code",
   "execution_count": 88,
   "id": "76c92b58",
   "metadata": {},
   "outputs": [
    {
     "data": {
      "text/plain": [
       "array([[ 1.        ,  0.68710469, -0.58939942, -1.15198543],\n",
       "       [ 1.        ,  0.75335405,  1.17656137, -0.00395283],\n",
       "       [ 1.        ,  0.70600594,  0.22964846,  0.10519212],\n",
       "       [ 1.        ,  0.64225739, -0.26829781, -0.80356156]])"
      ]
     },
     "execution_count": 88,
     "metadata": {},
     "output_type": "execute_result"
    }
   ],
   "source": [
    "# By supplying matrices into np.hstack() (horizontal stack), you can concatenate\n",
    "# matrices together.\n",
    "# Can be useful for linear regression for example.\n",
    "np.hstack([ones, x2])\n",
    "\n",
    "# There is also np.vstack() (vertical stack) for concatenating observations by\n",
    "# columns.\n",
    "\n",
    "# If you know R, these are similar to rbind() and cbind()."
   ]
  },
  {
   "cell_type": "markdown",
   "id": "74c2dc4a",
   "metadata": {},
   "source": [
    "# Creating and reading your own"
   ]
  },
  {
   "cell_type": "code",
   "execution_count": 161,
   "id": "48af5eee",
   "metadata": {},
   "outputs": [
    {
     "name": "stdout",
     "output_type": "stream",
     "text": [
      "[[1 2 3]\n",
      " [4 5 6]\n",
      " [7 8 9]]\n"
     ]
    }
   ],
   "source": [
    "# You can build your own arrays by OOOOO\n",
    "ex_array = np.array([[1, 2, 3],\n",
    "                     [4, 5, 6],\n",
    "                     [7, 8, 9]])\n",
    "\n",
    "# See what it looks like\n",
    "print(ex_array)"
   ]
  },
  {
   "cell_type": "code",
   "execution_count": 162,
   "id": "a33a0106",
   "metadata": {},
   "outputs": [
    {
     "name": "stdout",
     "output_type": "stream",
     "text": [
      "[[0. 0. 1. ... 0. 0. 0.]\n",
      " [0. 0. 0. ... 0. 0. 0.]\n",
      " [0. 0. 1. ... 0. 0. 0.]\n",
      " ...\n",
      " [0. 0. 1. ... 0. 0. 0.]\n",
      " [0. 0. 0. ... 0. 0. 0.]\n",
      " [0. 0. 0. ... 0. 0. 0.]]\n",
      "(220, 56)\n",
      "float64\n"
     ]
    }
   ],
   "source": [
    "# The function works on other formats besides .txt BTW\n",
    "tricho = np.genfromtxt(fname=\"../data/trichoptera.csv\", skip_header=1, delimiter=\",\")\n",
    "\n",
    "# See what it looks like\n",
    "print(tricho)\n",
    "print(tricho.shape)\n",
    "print(tricho.dtype)"
   ]
  },
  {
   "cell_type": "markdown",
   "id": "939a73b7",
   "metadata": {},
   "source": [
    "# 3. Indexing, Slicing, and Modifying"
   ]
  },
  {
   "cell_type": "code",
   "execution_count": 163,
   "id": "fba93b9d",
   "metadata": {},
   "outputs": [
    {
     "name": "stdout",
     "output_type": "stream",
     "text": [
      "Total sum of the trichoptera dataset:\n",
      "1651.0\n",
      "\n",
      "Column sums of the trichoptera dataset:\n",
      "[ 95.  59. 127. 148.  64. 121.  73.  60.  54.  81.  98.  65.  52.  62.\n",
      "  37.  71.  34.  57.  39.  28.  16.  26.  37.  26.   8.  11.   4.   7.\n",
      "   9.   9.  13.   8.   5.   3.   5.   6.   1.   3.   3.   3.   1.   5.\n",
      "   2.   2.   2.   1.   1.   1.   1.   1.   1.   1.   1.   1.   1.   1.]\n",
      "\n",
      "Row sums of the trichoptera dataset:\n",
      "[ 1.  1.  2.  2.  1.  1.  2.  1.  3.  2.  2.  1.  1.  3.  2.  2.  2.  1.\n",
      "  0.  0.  1.  0.  7.  6. 12.  9. 11.  8.  7.  6.  9.  4.  7.  7.  8. 17.\n",
      "  8. 11.  9.  5.  1.  8. 11.  2. 14.  9. 16. 19. 10. 11. 13. 12. 14. 11.\n",
      " 14. 15. 12. 12. 13. 11. 12.  2.  0.  4. 12.  3. 14. 11. 17. 15. 14.  9.\n",
      " 15. 12. 10. 13. 13. 14. 12. 14. 16. 15. 10.  4.  2.  7. 10.  7. 19.  7.\n",
      " 19. 16. 13. 10. 12. 14. 17. 10. 11. 16. 15. 14. 13. 16. 10.  3.  0.  4.\n",
      " 15.  9. 14.  6. 15. 12. 10. 11.  8. 17. 12.  8.  6. 12. 12. 10. 14. 13.\n",
      "  6.  5.  0.  5. 14.  8.  9.  3. 12.  9. 12.  9.  8.  6.  7.  5.  5.  7.\n",
      "  9.  8.  8. 11.  5.  2.  0.  5. 14.  4. 10.  7. 14.  9. 13.  8. 11.  9.\n",
      "  8.  3.  4.  4.  7.  6.  8.  8.  5.  3.  0.  1. 13.  6.  7.  2.  8.  3.\n",
      "  7.  6.  5.  3.  6.  1.  2.  5.  3.  7.  6.  7.  3.  1.  0.  2.  5.  3.\n",
      "  3.  3.  3.  2.  7.  3.  4.  4.  3.  3.  3.  3.  3.  3.  5.  2.  4.  1.\n",
      "  0.  2.  2.  3.]\n"
     ]
    }
   ],
   "source": [
    "# Use the axis parameter to define which axis you want to add along\n",
    "\n",
    "# Total sum\n",
    "print(\"Total sum of the trichoptera dataset:\")\n",
    "print(tricho.sum(axis=None))\n",
    "\n",
    "# Row sums\n",
    "print(\"\\nColumn sums of the trichoptera dataset:\")\n",
    "print(tricho.sum(axis=0))\n",
    "\n",
    "# Column sums\n",
    "print(\"\\nRow sums of the trichoptera dataset:\")\n",
    "print(tricho.sum(axis=1))"
   ]
  },
  {
   "cell_type": "markdown",
   "id": "c9783d03",
   "metadata": {},
   "source": [
    "# Array manipulation"
   ]
  },
  {
   "cell_type": "code",
   "execution_count": null,
   "id": "3dfe745d",
   "metadata": {},
   "outputs": [],
   "source": [
    "# I actually didn't tell you the whole story. The 220 points refer to the SAME 22\n",
    "# points sampled repeatedly over 10 periods.\n",
    "# (it's more complicated but let's stick to that)"
   ]
  },
  {
   "cell_type": "code",
   "execution_count": 164,
   "id": "f1030e13",
   "metadata": {},
   "outputs": [
    {
     "name": "stdout",
     "output_type": "stream",
     "text": [
      "[[[0. 0. 1. ... 0. 0. 0.]\n",
      "  [0. 0. 0. ... 0. 0. 0.]\n",
      "  [0. 0. 1. ... 0. 0. 0.]\n",
      "  ...\n",
      "  [0. 0. 0. ... 0. 0. 0.]\n",
      "  [0. 0. 0. ... 0. 0. 0.]\n",
      "  [0. 0. 0. ... 0. 0. 0.]]\n",
      "\n",
      " [[1. 0. 1. ... 0. 0. 0.]\n",
      "  [0. 0. 1. ... 0. 0. 0.]\n",
      "  [1. 1. 1. ... 0. 0. 0.]\n",
      "  ...\n",
      "  [0. 0. 1. ... 0. 0. 0.]\n",
      "  [0. 0. 1. ... 0. 0. 0.]\n",
      "  [0. 0. 0. ... 0. 0. 0.]]\n",
      "\n",
      " [[1. 1. 1. ... 0. 0. 0.]\n",
      "  [1. 1. 1. ... 0. 0. 0.]\n",
      "  [1. 1. 1. ... 0. 0. 0.]\n",
      "  ...\n",
      "  [0. 0. 1. ... 0. 0. 0.]\n",
      "  [0. 0. 1. ... 0. 0. 0.]\n",
      "  [0. 0. 0. ... 0. 0. 0.]]\n",
      "\n",
      " ...\n",
      "\n",
      " [[1. 0. 1. ... 0. 0. 0.]\n",
      "  [0. 0. 1. ... 0. 0. 0.]\n",
      "  [1. 0. 1. ... 0. 0. 0.]\n",
      "  ...\n",
      "  [0. 0. 1. ... 0. 0. 0.]\n",
      "  [1. 0. 1. ... 0. 0. 0.]\n",
      "  [0. 0. 0. ... 0. 0. 0.]]\n",
      "\n",
      " [[0. 0. 1. ... 0. 0. 0.]\n",
      "  [0. 0. 1. ... 0. 0. 0.]\n",
      "  [0. 0. 1. ... 0. 0. 0.]\n",
      "  ...\n",
      "  [0. 0. 1. ... 0. 0. 0.]\n",
      "  [0. 0. 1. ... 0. 0. 0.]\n",
      "  [0. 0. 0. ... 0. 0. 0.]]\n",
      "\n",
      " [[0. 0. 1. ... 0. 0. 0.]\n",
      "  [0. 0. 1. ... 0. 0. 0.]\n",
      "  [0. 0. 1. ... 0. 0. 0.]\n",
      "  ...\n",
      "  [0. 0. 1. ... 0. 0. 0.]\n",
      "  [0. 0. 0. ... 0. 0. 0.]\n",
      "  [0. 0. 0. ... 0. 0. 0.]]]\n"
     ]
    }
   ],
   "source": [
    "# First flatten the array\n",
    "# This gives you a 10*22*56=12320 long 1D array.\n",
    "#\n",
    "# Then reshape it into a 10x22x56 3D array\n",
    "tricho_3d = tricho.flatten().reshape(10, 22, 56)\n",
    "#tricho_3d = tricho.reshape(10, 22, 56)\n",
    "#\n",
    "print(tricho_3d)"
   ]
  },
  {
   "cell_type": "code",
   "execution_count": 165,
   "id": "fc28531d",
   "metadata": {},
   "outputs": [
    {
     "name": "stdout",
     "output_type": "stream",
     "text": [
      "(10, 22, 56)\n"
     ]
    }
   ],
   "source": [
    "# See information about it\n",
    "print(tricho_3d.shape)"
   ]
  },
  {
   "cell_type": "code",
   "execution_count": null,
   "id": "38ff9d8f",
   "metadata": {},
   "outputs": [],
   "source": [
    "# To make it more manageable\n",
    "# Transpose it into\n",
    "tricho_3d = tricho_3d.transpose((1, 2, 0))"
   ]
  },
  {
   "cell_type": "code",
   "execution_count": 171,
   "id": "5f7c7ae5",
   "metadata": {},
   "outputs": [
    {
     "data": {
      "text/plain": [
       "(22, 56, 10)"
      ]
     },
     "execution_count": 171,
     "metadata": {},
     "output_type": "execute_result"
    }
   ],
   "source": [
    "tricho_3d.shape"
   ]
  },
  {
   "cell_type": "code",
   "execution_count": null,
   "id": "ee5e81bf",
   "metadata": {},
   "outputs": [
    {
     "data": {
      "text/plain": [
       "array([[0., 0., 1., 0., 0., 0., 0., 0., 0., 0., 0., 0., 0., 0., 0., 0.,\n",
       "        0., 0., 0., 0., 0., 0., 0., 0., 0., 0., 0., 0., 0., 0., 0., 0.,\n",
       "        0., 0., 0., 0., 0., 0., 0., 0., 0., 0., 0., 0., 0., 0., 0., 0.,\n",
       "        0., 0., 0., 0., 0., 0., 0., 0.],\n",
       "       [0., 0., 0., 0., 0., 0., 0., 0., 0., 0., 0., 0., 0., 0., 0., 0.,\n",
       "        0., 0., 0., 0., 1., 0., 0., 0., 0., 0., 0., 0., 0., 0., 0., 0.,\n",
       "        0., 0., 0., 0., 0., 0., 0., 0., 0., 0., 0., 0., 0., 0., 0., 0.,\n",
       "        0., 0., 0., 0., 0., 0., 0., 0.],\n",
       "       [0., 0., 1., 0., 0., 0., 0., 0., 0., 0., 0., 0., 0., 0., 0., 0.,\n",
       "        0., 0., 0., 0., 1., 0., 0., 0., 0., 0., 0., 0., 0., 0., 0., 0.,\n",
       "        0., 0., 0., 0., 0., 0., 0., 0., 0., 0., 0., 0., 0., 0., 0., 0.,\n",
       "        0., 0., 0., 0., 0., 0., 0., 0.],\n",
       "       [0., 0., 1., 0., 0., 0., 0., 0., 0., 1., 0., 0., 0., 0., 0., 0.,\n",
       "        0., 0., 0., 0., 0., 0., 0., 0., 0., 0., 0., 0., 0., 0., 0., 0.,\n",
       "        0., 0., 0., 0., 0., 0., 0., 0., 0., 0., 0., 0., 0., 0., 0., 0.,\n",
       "        0., 0., 0., 0., 0., 0., 0., 0.],\n",
       "       [0., 0., 0., 0., 0., 0., 0., 0., 0., 0., 0., 0., 0., 0., 0., 0.,\n",
       "        0., 0., 0., 0., 0., 0., 0., 0., 0., 0., 0., 0., 0., 0., 0., 0.,\n",
       "        0., 0., 0., 0., 0., 0., 0., 0., 0., 0., 0., 0., 0., 0., 0., 0.,\n",
       "        0., 0., 0., 0., 0., 1., 0., 0.],\n",
       "       [0., 0., 0., 0., 0., 1., 0., 0., 0., 0., 0., 0., 0., 0., 0., 0.,\n",
       "        0., 0., 0., 0., 0., 0., 0., 0., 0., 0., 0., 0., 0., 0., 0., 0.,\n",
       "        0., 0., 0., 0., 0., 0., 0., 0., 0., 0., 0., 0., 0., 0., 0., 0.,\n",
       "        0., 0., 0., 0., 0., 0., 0., 0.],\n",
       "       [0., 0., 0., 0., 0., 1., 0., 0., 0., 0., 0., 0., 0., 0., 0., 0.,\n",
       "        0., 0., 0., 0., 1., 0., 0., 0., 0., 0., 0., 0., 0., 0., 0., 0.,\n",
       "        0., 0., 0., 0., 0., 0., 0., 0., 0., 0., 0., 0., 0., 0., 0., 0.,\n",
       "        0., 0., 0., 0., 0., 0., 0., 0.],\n",
       "       [0., 0., 0., 0., 0., 0., 0., 0., 0., 1., 0., 0., 0., 0., 0., 0.,\n",
       "        0., 0., 0., 0., 0., 0., 0., 0., 0., 0., 0., 0., 0., 0., 0., 0.,\n",
       "        0., 0., 0., 0., 0., 0., 0., 0., 0., 0., 0., 0., 0., 0., 0., 0.,\n",
       "        0., 0., 0., 0., 0., 0., 0., 0.],\n",
       "       [0., 0., 0., 0., 0., 1., 0., 0., 0., 1., 0., 0., 0., 0., 0., 0.,\n",
       "        0., 0., 0., 0., 1., 0., 0., 0., 0., 0., 0., 0., 0., 0., 0., 0.,\n",
       "        0., 0., 0., 0., 0., 0., 0., 0., 0., 0., 0., 0., 0., 0., 0., 0.,\n",
       "        0., 0., 0., 0., 0., 0., 0., 0.]])"
      ]
     },
     "execution_count": 173,
     "metadata": {},
     "output_type": "execute_result"
    }
   ],
   "source": [
    "# Now you can extract particular parts\n",
    "\n",
    "# First 10 sites for \n",
    "tricho_3d[0:9, :, 0]"
   ]
  },
  {
   "cell_type": "code",
   "execution_count": null,
   "id": "3851d93e",
   "metadata": {},
   "outputs": [
    {
     "name": "stdout",
     "output_type": "stream",
     "text": [
      "\n",
      "Sums along the first axis (time) of the 3d array:\n",
      "(22, 56)\n",
      "\n",
      "Sums along the second axis (species) of the 3d array:\n",
      "(10, 56)\n",
      "\n",
      "Sums along the third axis (sites) of the 3d array:\n",
      "(10, 22)\n"
     ]
    }
   ],
   "source": [
    "# Use the axis parameter to define which axis you want to add along\n",
    "print(\"\\nSums along the first axis (time) of the 3d array:\")\n",
    "print(tricho_3d.sum(axis=0).shape)\n",
    "#\n",
    "print(\"\\nSums along the second axis (sites) of the 3d array:\")\n",
    "print(tricho_3d.sum(axis=1).shape)\n",
    "#\n",
    "print(\"\\nSums along the third axis (species) of the 3d array:\")\n",
    "print(tricho_3d.sum(axis=2).shape)\n"
   ]
  },
  {
   "cell_type": "code",
   "execution_count": 54,
   "id": "146e62e7",
   "metadata": {},
   "outputs": [
    {
     "data": {
      "text/plain": [
       "array([[ 1.,  1.,  2.,  2.,  1.,  1.,  2.,  1.,  3.,  2.,  2.,  1.,  1.,\n",
       "         3.,  2.,  2.,  2.,  1.,  0.,  0.,  1.,  0.],\n",
       "       [ 7.,  6., 12.,  9., 11.,  8.,  7.,  6.,  9.,  4.,  7.,  7.,  8.,\n",
       "        17.,  8., 11.,  9.,  5.,  1.,  8., 11.,  2.],\n",
       "       [14.,  9., 16., 19., 10., 11., 13., 12., 14., 11., 14., 15., 12.,\n",
       "        12., 13., 11., 12.,  2.,  0.,  4., 12.,  3.],\n",
       "       [14., 11., 17., 15., 14.,  9., 15., 12., 10., 13., 13., 14., 12.,\n",
       "        14., 16., 15., 10.,  4.,  2.,  7., 10.,  7.],\n",
       "       [19.,  7., 19., 16., 13., 10., 12., 14., 17., 10., 11., 16., 15.,\n",
       "        14., 13., 16., 10.,  3.,  0.,  4., 15.,  9.],\n",
       "       [14.,  6., 15., 12., 10., 11.,  8., 17., 12.,  8.,  6., 12., 12.,\n",
       "        10., 14., 13.,  6.,  5.,  0.,  5., 14.,  8.],\n",
       "       [ 9.,  3., 12.,  9., 12.,  9.,  8.,  6.,  7.,  5.,  5.,  7.,  9.,\n",
       "         8.,  8., 11.,  5.,  2.,  0.,  5., 14.,  4.],\n",
       "       [10.,  7., 14.,  9., 13.,  8., 11.,  9.,  8.,  3.,  4.,  4.,  7.,\n",
       "         6.,  8.,  8.,  5.,  3.,  0.,  1., 13.,  6.],\n",
       "       [ 7.,  2.,  8.,  3.,  7.,  6.,  5.,  3.,  6.,  1.,  2.,  5.,  3.,\n",
       "         7.,  6.,  7.,  3.,  1.,  0.,  2.,  5.,  3.],\n",
       "       [ 3.,  3.,  3.,  2.,  7.,  3.,  4.,  4.,  3.,  3.,  3.,  3.,  3.,\n",
       "         3.,  5.,  2.,  4.,  1.,  0.,  2.,  2.,  3.]])"
      ]
     },
     "execution_count": 54,
     "metadata": {},
     "output_type": "execute_result"
    }
   ],
   "source": [
    "tricho_3d.sum(axis=2)"
   ]
  },
  {
   "cell_type": "code",
   "execution_count": 42,
   "id": "85445581",
   "metadata": {},
   "outputs": [
    {
     "name": "stdout",
     "output_type": "stream",
     "text": [
      "Total sum of the 3-dimensional array:\n",
      "1651.0\n",
      "\n",
      "Sums along the first axis (time) of the 3d array:\n",
      "[[ 6.  3. 10. ...  0.  0.  0.]\n",
      " [ 3.  2.  9. ...  0.  0.  0.]\n",
      " [ 7.  4. 10. ...  0.  0.  0.]\n",
      " ...\n",
      " [ 0.  1.  8. ...  0.  0.  0.]\n",
      " [ 4.  3.  8. ...  0.  0.  0.]\n",
      " [ 2.  2.  0. ...  0.  0.  0.]]\n",
      "\n",
      "Sums along the second axis (species) of the 3d array:\n",
      "[[ 0.  0.  5.  0.  0.  4.  0.  0.  0.  7.  0.  0.  0.  0.  0.  1.  0.  0.\n",
      "   0.  0. 12.  0.  0.  0.  0.  0.  0.  0.  0.  0.  0.  0.  0.  0.  0.  0.\n",
      "   0.  0.  0.  0.  0.  0.  0.  0.  0.  0.  1.  0.  0.  0.  0.  0.  0.  1.\n",
      "   0.  0.]\n",
      " [ 9.  1. 13. 18.  1. 15.  3. 11. 22. 18. 10.  6.  1.  0.  0. 12.  0. 10.\n",
      "   0.  1.  1.  1.  0.  6.  0.  3.  0.  2.  1.  0.  2.  3.  0.  0.  0.  0.\n",
      "   0.  0.  0.  0.  1.  0.  1.  0.  0.  0.  0.  0.  0.  0.  0.  0.  0.  0.\n",
      "   1.  0.]\n",
      " [15. 15. 14. 16.  0. 13. 16. 12. 10.  7. 18. 10.  0.  4. 11. 13.  6. 14.\n",
      "   4.  9.  2.  0.  7.  3.  0.  1.  0.  1.  4.  0.  6.  0.  0.  0.  2.  0.\n",
      "   0.  1.  1.  1.  0.  0.  0.  0.  1.  0.  0.  0.  0.  0.  1.  1.  0.  0.\n",
      "   0.  0.]\n",
      " [18. 19. 20. 14.  0. 14. 17. 10.  9.  4. 19. 10.  0. 11. 15. 10.  6.  9.\n",
      "   8. 11.  0.  5.  7.  3.  0.  0.  0.  1.  0.  3.  3.  0.  0.  0.  2.  0.\n",
      "   0.  0.  1.  0.  0.  2.  0.  1.  1.  0.  0.  1.  0.  0.  0.  0.  0.  0.\n",
      "   0.  0.]\n",
      " [17. 18.  9. 12. 13. 15. 15.  4.  7.  9. 19.  9.  0. 16.  9. 11.  8.  6.\n",
      "  13.  6.  0.  8. 11.  3.  0.  0.  0.  0.  3.  4.  2.  1.  5.  2.  1.  0.\n",
      "   1.  0.  0.  1.  0.  2.  1.  1.  0.  0.  0.  0.  0.  1.  0.  0.  0.  0.\n",
      "   0.  0.]\n",
      " [16.  2. 10. 19. 21. 15. 12.  1.  3. 11. 18. 10. 12. 13.  2. 13.  2.  4.\n",
      "   6.  0.  0.  7.  6.  2.  0.  2.  0.  1.  0.  1.  0.  2.  0.  1.  0.  1.\n",
      "   0.  0.  0.  1.  0.  1.  0.  0.  0.  1.  0.  0.  0.  0.  0.  0.  1.  0.\n",
      "   0.  1.]\n",
      " [11.  1. 17. 16. 16.  9.  5.  3.  2. 10.  9.  8. 14. 10.  0.  2.  0.  3.\n",
      "   4.  0.  0.  4.  4.  1.  0.  3.  0.  1.  1.  1.  0.  1.  0.  0.  0.  2.\n",
      "   0.  0.  0.  0.  0.  0.  0.  0.  0.  0.  0.  0.  0.  0.  0.  0.  0.  0.\n",
      "   0.  0.]\n",
      " [ 9.  0. 14. 18. 11. 14.  5.  9.  1. 10.  5.  8. 13.  8.  0.  5.  8.  4.\n",
      "   4.  0.  0.  1.  2.  4.  0.  2.  0.  1.  0.  0.  0.  0.  0.  0.  0.  1.\n",
      "   0.  0.  0.  0.  0.  0.  0.  0.  0.  0.  0.  0.  0.  0.  0.  0.  0.  0.\n",
      "   0.  0.]\n",
      " [ 0.  3. 14. 18.  2. 13.  0.  7.  0.  3.  0.  2.  7.  0.  0.  4.  4.  2.\n",
      "   0.  1.  1.  0.  0.  4.  0.  0.  0.  0.  0.  0.  0.  1.  0.  0.  0.  2.\n",
      "   0.  2.  1.  0.  0.  0.  0.  0.  0.  0.  0.  0.  1.  0.  0.  0.  0.  0.\n",
      "   0.  0.]\n",
      " [ 0.  0. 11. 17.  0.  9.  0.  3.  0.  2.  0.  2.  5.  0.  0.  0.  0.  5.\n",
      "   0.  0.  0.  0.  0.  0.  8.  0.  4.  0.  0.  0.  0.  0.  0.  0.  0.  0.\n",
      "   0.  0.  0.  0.  0.  0.  0.  0.  0.  0.  0.  0.  0.  0.  0.  0.  0.  0.\n",
      "   0.  0.]]\n",
      "\n",
      "Sums along the third axis (sites) of the 3d array:\n",
      "[[ 1.  1.  2.  2.  1.  1.  2.  1.  3.  2.  2.  1.  1.  3.  2.  2.  2.  1.\n",
      "   0.  0.  1.  0.]\n",
      " [ 7.  6. 12.  9. 11.  8.  7.  6.  9.  4.  7.  7.  8. 17.  8. 11.  9.  5.\n",
      "   1.  8. 11.  2.]\n",
      " [14.  9. 16. 19. 10. 11. 13. 12. 14. 11. 14. 15. 12. 12. 13. 11. 12.  2.\n",
      "   0.  4. 12.  3.]\n",
      " [14. 11. 17. 15. 14.  9. 15. 12. 10. 13. 13. 14. 12. 14. 16. 15. 10.  4.\n",
      "   2.  7. 10.  7.]\n",
      " [19.  7. 19. 16. 13. 10. 12. 14. 17. 10. 11. 16. 15. 14. 13. 16. 10.  3.\n",
      "   0.  4. 15.  9.]\n",
      " [14.  6. 15. 12. 10. 11.  8. 17. 12.  8.  6. 12. 12. 10. 14. 13.  6.  5.\n",
      "   0.  5. 14.  8.]\n",
      " [ 9.  3. 12.  9. 12.  9.  8.  6.  7.  5.  5.  7.  9.  8.  8. 11.  5.  2.\n",
      "   0.  5. 14.  4.]\n",
      " [10.  7. 14.  9. 13.  8. 11.  9.  8.  3.  4.  4.  7.  6.  8.  8.  5.  3.\n",
      "   0.  1. 13.  6.]\n",
      " [ 7.  2.  8.  3.  7.  6.  5.  3.  6.  1.  2.  5.  3.  7.  6.  7.  3.  1.\n",
      "   0.  2.  5.  3.]\n",
      " [ 3.  3.  3.  2.  7.  3.  4.  4.  3.  3.  3.  3.  3.  3.  5.  2.  4.  1.\n",
      "   0.  2.  2.  3.]]\n"
     ]
    }
   ],
   "source": [
    "# Giving it nothing will give you the sum of the entire dataset\n",
    "print(\"Total sum of the 3-dimensional array:\")\n",
    "print(tricho_3d.sum(axis=None))\n",
    "\n",
    "# Use the axis parameter to define which axis you want to add along\n",
    "print(\"\\nSums along the first axis (time) of the 3d array:\")\n",
    "print(tricho_3d.sum(axis=0))\n",
    "#\n",
    "print(\"\\nSums along the second axis (species) of the 3d array:\")\n",
    "print(tricho_3d.sum(axis=1))\n",
    "#\n",
    "print(\"\\nSums along the third axis (sites) of the 3d array:\")\n",
    "print(tricho_3d.sum(axis=2))\n"
   ]
  },
  {
   "cell_type": "code",
   "execution_count": 96,
   "id": "bb579b40",
   "metadata": {},
   "outputs": [
    {
     "data": {
      "text/plain": [
       "np.float64(18.0)"
      ]
     },
     "execution_count": 96,
     "metadata": {},
     "output_type": "execute_result"
    }
   ],
   "source": [
    "# You can also select a particular slice\n",
    "tricho_3d[0:2, :, 2].sum()"
   ]
  },
  {
   "cell_type": "markdown",
   "id": "baa05a3d",
   "metadata": {},
   "source": [
    "# Mini-matrix primer"
   ]
  },
  {
   "cell_type": "code",
   "execution_count": 32,
   "id": "603fedf1",
   "metadata": {},
   "outputs": [
    {
     "name": "stdout",
     "output_type": "stream",
     "text": [
      "[[2 4]\n",
      " [1 6]\n",
      " [5 3]]\n",
      "--------------------------------------------------\n",
      "(3, 2)\n"
     ]
    }
   ],
   "source": [
    "import numpy as np\n",
    "\n",
    "mat1 = np.array([[2, 4],\n",
    "                 [1, 6],\n",
    "                 [5, 3]])\n",
    "\n",
    "print(mat1)\n",
    "print(\"-\" * 50)\n",
    "print(mat1.shape)"
   ]
  },
  {
   "cell_type": "code",
   "execution_count": 33,
   "id": "5b4e4ff8",
   "metadata": {},
   "outputs": [
    {
     "name": "stdout",
     "output_type": "stream",
     "text": [
      "[[2 1 5]\n",
      " [4 6 3]]\n",
      "--------------------------------------------------\n",
      "(2, 3)\n"
     ]
    }
   ],
   "source": [
    "# The transpose of a matrix is defined as the same matrix\n",
    "# but with rows and columns inverted\n",
    "# This is an attribute .T\n",
    "print(mat1.T)\n",
    "print(\"-\" * 50)\n",
    "print(mat1.T.shape)"
   ]
  },
  {
   "cell_type": "markdown",
   "id": "d796f6c7",
   "metadata": {},
   "source": [
    "vectoros"
   ]
  },
  {
   "cell_type": "code",
   "execution_count": 49,
   "id": "a2f82147",
   "metadata": {},
   "outputs": [
    {
     "name": "stdout",
     "output_type": "stream",
     "text": [
      "[[3 2]]\n",
      "--------------------------------------------------\n",
      "(1, 2)\n",
      "++++++++++++++++++++++++++++++++++++++++++++++++++\n",
      "[[3]\n",
      " [2]]\n",
      "--------------------------------------------------\n",
      "(2, 1)\n"
     ]
    }
   ],
   "source": [
    "# A vector is a matrix but with a single dimension\n",
    "# It can be a 1xp row vector or a px1 column vector\n",
    "# When entering values into NumPy, mind the [[]] notation\n",
    "\n",
    "# NumPy assumes that when you give it a vector, it is a\n",
    "# 1xp row vector\n",
    "\n",
    "vec1 = np.array(object=[[3, 2]])\n",
    "\n",
    "print(vec1)\n",
    "print(\"-\" * 50)\n",
    "print(vec1.shape)\n",
    "#\n",
    "print(\"+\" * 50)\n",
    "#\n",
    "print(vec1.T)\n",
    "print(\"-\" * 50)\n",
    "print(vec1.T.shape)"
   ]
  },
  {
   "cell_type": "code",
   "execution_count": 51,
   "id": "be2f53ca",
   "metadata": {},
   "outputs": [
    {
     "name": "stdout",
     "output_type": "stream",
     "text": [
      "[[2 4]\n",
      " [1 6]\n",
      " [5 3]]\n",
      "--------------------------------------------------\n",
      "[[3]\n",
      " [2]]\n",
      "--------------------------------------------------\n",
      "[[14]\n",
      " [15]\n",
      " [21]]\n",
      "--------------------------------------------------\n",
      "[[14]\n",
      " [15]\n",
      " [21]]\n"
     ]
    }
   ],
   "source": [
    "print(mat1)\n",
    "print(\"-\" * 50)\n",
    "print(vec1.T)\n",
    "print(\"-\" * 50)\n",
    "print(mat1.dot(b=vec1.T))\n",
    "print(\"-\" * 50)\n",
    "print(mat1 @ vec1.T)"
   ]
  },
  {
   "cell_type": "markdown",
   "id": "91492a9d",
   "metadata": {},
   "source": [
    "dispersos"
   ]
  },
  {
   "cell_type": "code",
   "execution_count": 52,
   "id": "b01c2e6c",
   "metadata": {},
   "outputs": [
    {
     "name": "stdout",
     "output_type": "stream",
     "text": [
      "3\n",
      "--------------------------------------------------\n",
      "[[ 8.66666667 -5.66666667]\n",
      " [-5.66666667  4.66666667]]\n",
      "--------------------------------------------------\n",
      "[[ 4.33333333 -2.83333333]\n",
      " [-2.83333333  2.33333333]]\n"
     ]
    }
   ],
   "source": [
    "# Variance-covariance matrix\n",
    "#(mat1 - mat1.mean(axis=0)).sum(axis=0)\n",
    "\n",
    "n = mat1.shape[0]\n",
    "S = (mat1 - mat1.mean(axis=0)).T @ (mat1 - mat1.mean(axis=0))\n",
    "\n",
    "print(n)\n",
    "print(\"-\" * 50)\n",
    "print(S)\n",
    "print(\"-\" * 50)\n",
    "print(1.0 / (n - 1.0) * S)"
   ]
  },
  {
   "cell_type": "code",
   "execution_count": 34,
   "id": "cf49ae3f",
   "metadata": {},
   "outputs": [
    {
     "data": {
      "text/plain": [
       "array([[ 4.33333333, -2.83333333],\n",
       "       [-2.83333333,  2.33333333]])"
      ]
     },
     "execution_count": 34,
     "metadata": {},
     "output_type": "execute_result"
    }
   ],
   "source": [
    "# This is what is obtained by the np.cov() function.\n",
    "# But now you know exactly how it works and can do it\n",
    "# by hand.\n",
    "np.cov(mat1, rowvar=False)"
   ]
  },
  {
   "cell_type": "code",
   "execution_count": null,
   "id": "7f61ca86",
   "metadata": {},
   "outputs": [],
   "source": []
  },
  {
   "cell_type": "code",
   "execution_count": null,
   "id": "47d7440f",
   "metadata": {},
   "outputs": [],
   "source": []
  },
  {
   "cell_type": "code",
   "execution_count": 16,
   "id": "751ac921",
   "metadata": {},
   "outputs": [
    {
     "name": "stdout",
     "output_type": "stream",
     "text": [
      "[[1 2 3]\n",
      " [4 5 6]]\n",
      "--------------------------------------------------\n",
      "(2, 3)\n"
     ]
    }
   ],
   "source": [
    "import numpy as np\n",
    "\n",
    "mat1 = np.array([[1, 2, 3],\n",
    "                 [4, 5, 6]])\n",
    "\n",
    "print(mat1)\n",
    "print(\"-\" * 50)\n",
    "print(mat1.shape)"
   ]
  },
  {
   "cell_type": "code",
   "execution_count": 17,
   "id": "3ff19ae8",
   "metadata": {},
   "outputs": [
    {
     "name": "stdout",
     "output_type": "stream",
     "text": [
      "[[1 4]\n",
      " [2 5]\n",
      " [3 6]]\n",
      "--------------------------------------------------\n",
      "(3, 2)\n"
     ]
    }
   ],
   "source": [
    "# The transpose of a matrix is defined as the same matrix\n",
    "# but with rows and columns inverted\n",
    "# This is an attribute .T\n",
    "print(mat1.T)\n",
    "print(\"-\" * 50)\n",
    "print(mat1.T.shape)"
   ]
  },
  {
   "cell_type": "code",
   "execution_count": 14,
   "id": "0ede22f7",
   "metadata": {},
   "outputs": [
    {
     "name": "stdout",
     "output_type": "stream",
     "text": [
      "[[1 2 5]]\n",
      "--------------------------------------------------\n",
      "(1, 3)\n",
      "++++++++++++++++++++++++++++++++++++++++++++++++++\n",
      "[[1]\n",
      " [2]\n",
      " [5]]\n",
      "--------------------------------------------------\n",
      "(3, 1)\n"
     ]
    }
   ],
   "source": [
    "# A vector is a matrix but with a single dimension\n",
    "# It can be a 1xp row vector or a px1 column vector\n",
    "# When entering values into NumPy, mind the [[]] notation\n",
    "\n",
    "# NumPy assumes that when you give it a vector, it is a\n",
    "# 1xp row vector\n",
    "\n",
    "vec1 = np.array(object=[[1, 2, 5]])\n",
    "\n",
    "print(vec1)\n",
    "print(\"-\" * 50)\n",
    "print(vec1.shape)\n",
    "#\n",
    "print(\"+\" * 50)\n",
    "#\n",
    "print(vec1.T)\n",
    "print(\"-\" * 50)\n",
    "print(vec1.T.shape)"
   ]
  },
  {
   "cell_type": "code",
   "execution_count": 24,
   "id": "d122594a",
   "metadata": {},
   "outputs": [
    {
     "name": "stdout",
     "output_type": "stream",
     "text": [
      "[[1 2 3]\n",
      " [4 5 6]]\n",
      "--------------------------------------------------\n",
      "[[1]\n",
      " [2]\n",
      " [5]]\n",
      "--------------------------------------------------\n",
      "[[20]\n",
      " [44]]\n",
      "--------------------------------------------------\n",
      "[[20]\n",
      " [44]]\n"
     ]
    }
   ],
   "source": [
    "\n",
    "print(mat1)\n",
    "print(\"-\" * 50)\n",
    "print(vec1.T)\n",
    "print(\"-\" * 50)\n",
    "print(mat1.dot(vec1.T))\n",
    "print(\"-\" * 50)\n",
    "print(mat1 @ vec1.T)"
   ]
  },
  {
   "cell_type": "code",
   "execution_count": 31,
   "id": "c0b72ef2",
   "metadata": {},
   "outputs": [
    {
     "data": {
      "text/plain": [
       "array([[4.5, 4.5, 4.5],\n",
       "       [4.5, 4.5, 4.5],\n",
       "       [4.5, 4.5, 4.5]])"
      ]
     },
     "execution_count": 31,
     "metadata": {},
     "output_type": "execute_result"
    }
   ],
   "source": [
    "# Variance-covariance matrix\n",
    "#(mat1 - mat1.mean(axis=0)).sum(axis=0)\n",
    "\n",
    "(mat1 - mat1.mean(axis=0)).T @ (mat1 - mat1.mean(axis=0))"
   ]
  },
  {
   "cell_type": "code",
   "execution_count": 30,
   "id": "88c57af7",
   "metadata": {},
   "outputs": [
    {
     "data": {
      "text/plain": [
       "array([[4.5, 4.5, 4.5],\n",
       "       [4.5, 4.5, 4.5],\n",
       "       [4.5, 4.5, 4.5]])"
      ]
     },
     "execution_count": 30,
     "metadata": {},
     "output_type": "execute_result"
    }
   ],
   "source": [
    "np.cov(mat1, rowvar=False)"
   ]
  },
  {
   "cell_type": "markdown",
   "id": "8651a230",
   "metadata": {},
   "source": [
    "# LINALG"
   ]
  },
  {
   "cell_type": "code",
   "execution_count": 90,
   "id": "bdf70ac9",
   "metadata": {},
   "outputs": [],
   "source": [
    "# Create a square matrix that could be a covariance matrix\n",
    "# between two variables\n",
    "S = np.array([[1.0, 0.8],\n",
    "              [0.8, 1.0]])"
   ]
  },
  {
   "cell_type": "code",
   "execution_count": 93,
   "id": "1d8168cb",
   "metadata": {},
   "outputs": [
    {
     "name": "stdout",
     "output_type": "stream",
     "text": [
      "The determinant of S:\n",
      "0.3599999999999999\n",
      "<class 'numpy.float64'>\n"
     ]
    }
   ],
   "source": [
    "# Compute its determinant\n",
    "print(\"The determinant of S:\")\n",
    "print(np.linalg.det(a=S))\n",
    "print(type(np.linalg.det(a=S)))"
   ]
  },
  {
   "cell_type": "code",
   "execution_count": 94,
   "id": "6f1a8808",
   "metadata": {},
   "outputs": [
    {
     "name": "stdout",
     "output_type": "stream",
     "text": [
      "The inverse of S:\n",
      "[[ 2.77777778 -2.22222222]\n",
      " [-2.22222222  2.77777778]]\n",
      "<class 'numpy.ndarray'>\n"
     ]
    }
   ],
   "source": [
    "# Get the inverse of the S matrix\n",
    "Sm1 = np.linalg.inv(a=S)\n",
    "\n",
    "print(\"The inverse of S:\")\n",
    "print(Sm1)\n",
    "print(type(Sm1))"
   ]
  },
  {
   "cell_type": "code",
   "execution_count": 95,
   "id": "60308c97",
   "metadata": {},
   "outputs": [
    {
     "name": "stdout",
     "output_type": "stream",
     "text": [
      "\n",
      "The result of Sm1 x S:\n",
      "[[1.00000000e+00 0.00000000e+00]\n",
      " [2.12175956e-16 1.00000000e+00]]\n",
      "<class 'numpy.ndarray'>\n",
      "\n",
      "The result of S x Sm1:\n",
      "[[1.00000000e+00 2.12175956e-16]\n",
      " [0.00000000e+00 1.00000000e+00]]\n",
      "<class 'numpy.ndarray'>\n"
     ]
    }
   ],
   "source": [
    "print(\"\\nThe result of Sm1 x S:\")\n",
    "print(Sm1 @ S)\n",
    "print(type(Sm1 @ S))\n",
    "\n",
    "print(\"\\nThe result of S x Sm1:\")\n",
    "print(S @ Sm1)\n",
    "print(type(S @ Sm1))"
   ]
  },
  {
   "cell_type": "code",
   "execution_count": 99,
   "id": "e74801a1",
   "metadata": {},
   "outputs": [],
   "source": [
    "# Invert matrix S2 which is singular\n",
    "# Uncomment at your own risk\n",
    "# (There ain't no risk, it's mathematically impossible)\n",
    "#np.linalg.inv(S2)"
   ]
  },
  {
   "cell_type": "markdown",
   "id": "7595ec92",
   "metadata": {},
   "source": [
    "# The return of list unpacking"
   ]
  },
  {
   "cell_type": "code",
   "execution_count": 5,
   "id": "a0d7961d",
   "metadata": {},
   "outputs": [
    {
     "name": "stdout",
     "output_type": "stream",
     "text": [
      "The inverse of S:\n",
      "[[ 2.77777778 -2.22222222]\n",
      " [-2.22222222  2.77777778]]\n",
      "\n",
      "The result of Sm1 S:\n",
      "[[1.00000000e+00 0.00000000e+00]\n",
      " [2.12175956e-16 1.00000000e+00]]\n",
      "\n",
      "The result of S Sm1:\n",
      "[[1.00000000e+00 2.12175956e-16]\n",
      " [0.00000000e+00 1.00000000e+00]]\n"
     ]
    }
   ],
   "source": [
    "#np.linalg.cholesky\n",
    "#np.linalg.eig\n",
    "#np.linalg.qr\n",
    "#np.linalg.svd\n",
    "#np.linalg.inv\n",
    "\n",
    "Sm1 = np.linalg.inv(S)\n",
    "\n",
    "print(\"The inverse of S:\")\n",
    "print(Sm1)\n",
    "\n",
    "print(\"\\nThe result of Sm1 S:\")\n",
    "print(Sm1 @ S)\n",
    "\n",
    "print(\"\\nThe result of S Sm1:\")\n",
    "print(S @ Sm1)"
   ]
  },
  {
   "cell_type": "code",
   "execution_count": 100,
   "id": "9c430294",
   "metadata": {},
   "outputs": [
    {
     "name": "stdout",
     "output_type": "stream",
     "text": [
      "EigResult(eigenvalues=array([1.8, 0.2]), eigenvectors=array([[ 0.70710678, -0.70710678],\n",
      "       [ 0.70710678,  0.70710678]]))\n"
     ]
    }
   ],
   "source": [
    "# Perform eigenanalysis of S\n",
    "print(np.linalg.eig(a=S))"
   ]
  },
  {
   "cell_type": "code",
   "execution_count": null,
   "id": "d071126e",
   "metadata": {},
   "outputs": [],
   "source": [
    "def pca(X):\n",
    "    n = X.shape[0]\n",
    "    X = X - X.mean(axis=1)\n",
    "    S = 1/(n - 1.0) * X.T @ X\n",
    "    _, U = np.linalg.eig(S)\n",
    "    F = X @ U\n",
    "    return F"
   ]
  },
  {
   "cell_type": "code",
   "execution_count": 97,
   "id": "961a5e4c",
   "metadata": {},
   "outputs": [],
   "source": [
    "def pca(X):\n",
    "    n = X.shape[0]\n",
    "    X = X - X.mean(axis=1)\n",
    "    S = 1/(n - 1.0) * X.T @ X\n",
    "    eig_out = np.linalg.eig(S)\n",
    "    U = eig_out[1]\n",
    "    F = X @ U\n",
    "    return F"
   ]
  },
  {
   "cell_type": "markdown",
   "id": "d692f149",
   "metadata": {},
   "source": [
    "# Masked matrices"
   ]
  },
  {
   "cell_type": "code",
   "execution_count": 117,
   "id": "2a96e159",
   "metadata": {},
   "outputs": [
    {
     "name": "stdout",
     "output_type": "stream",
     "text": [
      "Array with some values as -999\n",
      "[[   2. -999.    2.    1.    3.]\n",
      " [-999.    2.    2.    3.    3.]\n",
      " [   1.    1.    2.    1.    1.]\n",
      " [   3. -999. -999.    2.    1.]\n",
      " [   2.    3.    2.    1.    3.]]\n",
      "\n",
      "Array with -999 coded as np.nan:\n",
      "[[ 2. nan  2.  1.  3.]\n",
      " [nan  2.  2.  3.  3.]\n",
      " [ 1.  1.  2.  1.  1.]\n",
      " [ 3. nan nan  2.  1.]\n",
      " [ 2.  3.  2.  1.  3.]]\n"
     ]
    }
   ],
   "source": [
    "# Generate a 5x5 matrix with values either -1 or 1\n",
    "ex_array = np.random.choice(a=[0.0, 1.0, 2.0, 3.0, -999.0], size=(5, 5))\n",
    "\n",
    "# See the values in my array\n",
    "print(\"Array with some values as -999\")\n",
    "print(ex_array)\n",
    "\n",
    "# Create a copy of the array and\n",
    "# Replace values that are equal to -999 with np.nan\n",
    "ex_nan = ex_array.copy()\n",
    "ex_nan[ex_nan == -999] = np.nan\n",
    "\n",
    "# See the values in the mask\n",
    "print(\"\\nArray with -999 coded as np.nan:\")\n",
    "print(ex_nan)"
   ]
  },
  {
   "cell_type": "code",
   "execution_count": 122,
   "id": "3750f85f",
   "metadata": {},
   "outputs": [
    {
     "name": "stdout",
     "output_type": "stream",
     "text": [
      "Boolean mask:\n",
      "[[False  True False False False]\n",
      " [ True False False False False]\n",
      " [False False False False False]\n",
      " [False  True  True False False]\n",
      " [False False False False False]]\n",
      "\n",
      "Masked array:\n",
      "[[2.0 -- 2.0 1.0 3.0]\n",
      " [-- 2.0 2.0 3.0 3.0]\n",
      " [1.0 1.0 2.0 1.0 1.0]\n",
      " [3.0 -- -- 2.0 1.0]\n",
      " [2.0 3.0 2.0 1.0 3.0]]\n"
     ]
    }
   ],
   "source": [
    "# Determine a boolean mask defined by whether or not\n",
    "# values are equal to -999\n",
    "mymask = ex_array == -999\n",
    "\n",
    "# See the values in the mask\n",
    "print(\"Boolean mask:\")\n",
    "print(mymask)\n",
    "\n",
    "# Create a masked array from this mask\n",
    "print(\"\\nMasked array:\")\n",
    "ex_mask = np.ma.masked_array(ex_array, mask=mymask)\n",
    "print(ex_mask)"
   ]
  },
  {
   "cell_type": "code",
   "execution_count": 126,
   "id": "a391abde",
   "metadata": {},
   "outputs": [
    {
     "name": "stdout",
     "output_type": "stream",
     "text": [
      "The mean of ex_array is: -158.2\n",
      "The mean of ex_nan is: nan\n",
      "The nanmean of ex_nan is: 1.9523809523809523\n",
      "The mean of ex_mask is: 1.9523809523809523\n"
     ]
    }
   ],
   "source": [
    "# Print out the mean of these arrays\n",
    "print(\"The mean of ex_array is:\", ex_array.mean())\n",
    "print(\"The mean of ex_nan is:\", ex_nan.mean())\n",
    "print(\"The nanmean of ex_nan is:\", np.nanmean(ex_nan))\n",
    "print(\"The mean of ex_mask is:\", ex_mask.mean())"
   ]
  },
  {
   "cell_type": "markdown",
   "id": "d9feed9d",
   "metadata": {},
   "source": [
    "# Views and copies"
   ]
  },
  {
   "cell_type": "code",
   "execution_count": 136,
   "id": "33fd508f",
   "metadata": {},
   "outputs": [
    {
     "name": "stdout",
     "output_type": "stream",
     "text": [
      "[1 2 3 4 5]\n",
      "[3 4 5]\n",
      "[3 4 5]\n"
     ]
    }
   ],
   "source": [
    "# Create two vectors\n",
    "vec_1 = np.array([1, 2, 3, 4, 5])\n",
    "vec_2 = vec_1[2:]\n",
    "vec_3 = vec_1[2:].copy()\n",
    "\n",
    "# Look at them!\n",
    "print(vec_1)\n",
    "print(vec_2)\n",
    "print(vec_3)"
   ]
  },
  {
   "cell_type": "code",
   "execution_count": 151,
   "id": "066947a6",
   "metadata": {},
   "outputs": [
    {
     "name": "stdout",
     "output_type": "stream",
     "text": [
      "ID of vec_1: 2998782129232\n",
      "ID of vec_2: 2998782128368\n",
      "ID of vec_3: 2998782074512\n"
     ]
    }
   ],
   "source": [
    "print(\"ID of vec_1:\", id(vec_1))\n",
    "print(\"ID of vec_2:\", id(vec_2))\n",
    "print(\"ID of vec_3:\", id(vec_3))"
   ]
  },
  {
   "cell_type": "code",
   "execution_count": 155,
   "id": "f936751a",
   "metadata": {},
   "outputs": [
    {
     "name": "stdout",
     "output_type": "stream",
     "text": [
      "Does vec_1 share memory with vec_2?\n",
      "True\n",
      "\n",
      "Does vec_1 share memory with vec_3?\n",
      "False\n",
      "\n",
      "Does vec_2 share memory with vec_3?\n",
      "False\n"
     ]
    }
   ],
   "source": [
    "print(\"Does vec_1 share memory with vec_2?\")\n",
    "print(np.shares_memory(vec_1, vec_2))\n",
    "\n",
    "print(\"\\nDoes vec_1 share memory with vec_3?\")\n",
    "print(np.shares_memory(vec_1, vec_3))\n",
    "\n",
    "print(\"\\nDoes vec_2 share memory with vec_3?\")\n",
    "print(np.shares_memory(vec_2, vec_3))"
   ]
  },
  {
   "cell_type": "code",
   "execution_count": 152,
   "id": "b46a8f7e",
   "metadata": {},
   "outputs": [
    {
     "name": "stdout",
     "output_type": "stream",
     "text": [
      "Values of vec_1:\n",
      "[   1    2    3 9999    5]\n",
      "\n",
      "Values of vec_2:\n",
      "[   3 9999    5]\n",
      "\n",
      "Values of vec_3:\n",
      "[3 4 5]\n"
     ]
    }
   ],
   "source": [
    "# Change a value in vec_2\n",
    "vec_2[1] = 9999\n",
    "\n",
    "# Look at them!\n",
    "print(\"Values of vec_1:\")\n",
    "print(vec_1)\n",
    "\n",
    "print(\"\\nValues of vec_2:\")\n",
    "print(vec_2)\n",
    "\n",
    "print(\"\\nValues of vec_3:\")\n",
    "print(vec_3)"
   ]
  },
  {
   "cell_type": "code",
   "execution_count": null,
   "id": "4f46f82b",
   "metadata": {},
   "outputs": [],
   "source": [
    "# So ask yourself when subsetting:\n",
    "\n",
    "# Will I do some analyses on this part and then go back to the original data?\n",
    "\n",
    "# - If YES: Consider a .copy() of the data so you don't alter it unintentionally.\n",
    "# - If NO: You can stick with a view, it is more memory-efficient (i.e. you weren't going to use it anyways)."
   ]
  }
 ],
 "metadata": {
  "kernelspec": {
   "display_name": ".venv",
   "language": "python",
   "name": "python3"
  },
  "language_info": {
   "codemirror_mode": {
    "name": "ipython",
    "version": 3
   },
   "file_extension": ".py",
   "mimetype": "text/x-python",
   "name": "python",
   "nbconvert_exporter": "python",
   "pygments_lexer": "ipython3",
   "version": "3.13.3"
  }
 },
 "nbformat": 4,
 "nbformat_minor": 5
}
