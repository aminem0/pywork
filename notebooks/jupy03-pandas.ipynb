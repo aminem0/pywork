{
 "cells": [
  {
   "cell_type": "markdown",
   "id": "7eda6f21",
   "metadata": {},
   "source": [
    "# Jupyter Notebook: 03_pandas_basics.ipynb\n",
    "\n",
    "# ---\n",
    "\n",
    "# # Pandas Basics\n",
    "\n",
    "Welcome! Now that you know NumPy, let's learn **Pandas**, the library for data manipulation and analysis.\n",
    "\n",
    "---\n",
    "\n",
    "## Table of Contents\n",
    "\n",
    "1. What is Pandas?\n",
    "2. Series and DataFrames\n",
    "3. Reading and Writing Data\n",
    "4. Selecting and Filtering Data\n",
    "5. Operations on Data\n",
    "6. Mini-Exercises\n",
    "\n",
    "---\n",
    "\n",
    "# 1. What is Pandas?\n",
    "\n",
    "**Pandas** is a Python library that makes it easy to work with structured data (tables).\n",
    "\n",
    "First, let's import it:\n",
    "\n",
    "```python\n",
    "import pandas as pd\n",
    "```\n",
    "\n",
    "---\n",
    "\n",
    "# 2. Series and DataFrames\n",
    "\n",
    "## Series\n",
    "A **Series** is a one-dimensional labeled array.\n",
    "\n",
    "```python\n",
    "# Create a Series\n",
    "s = pd.Series([10, 20, 30, 40])\n",
    "print(s)\n",
    "```\n",
    "\n",
    "## DataFrames\n",
    "A **DataFrame** is a two-dimensional labeled data structure (like a spreadsheet).\n",
    "\n",
    "```python\n",
    "# Create a DataFrame\n",
    "data = {\n",
    "    'Name': ['Alice', 'Bob', 'Charlie'],\n",
    "    'Age': [25, 30, 35],\n",
    "    'City': ['New York', 'Paris', 'London']\n",
    "}\n",
    "\n",
    "df = pd.DataFrame(data)\n",
    "print(df)\n",
    "```\n",
    "\n",
    "---\n",
    "\n",
    "# 3. Reading and Writing Data\n",
    "\n",
    "## Reading CSV files\n",
    "\n",
    "```python\n",
    "# Read a CSV file\n",
    "df = pd.read_csv('path/to/your/file.csv')\n",
    "print(df.head())\n",
    "```\n",
    "\n",
    "> (We'll use built-in small examples for now. No need for a real file yet.)\n",
    "\n",
    "## Writing CSV files\n",
    "\n",
    "```python\n",
    "# Save a DataFrame to CSV\n",
    "df.to_csv('my_data.csv', index=False)\n",
    "```\n",
    "\n",
    "---\n",
    "\n",
    "# 4. Selecting and Filtering Data\n",
    "\n",
    "## Selecting Columns\n",
    "\n",
    "```python\n",
    "# Select one column\n",
    "print(df['Name'])\n",
    "\n",
    "# Select multiple columns\n",
    "print(df[['Name', 'City']])\n",
    "```\n",
    "\n",
    "## Selecting Rows\n",
    "\n",
    "```python\n",
    "# Select by index\n",
    "print(df.iloc[0])  # First row\n",
    "\n",
    "# Select by label (requires a set index)\n",
    "# df.set_index('Name', inplace=True)\n",
    "# print(df.loc['Alice'])\n",
    "```\n",
    "\n",
    "## Filtering Rows\n",
    "\n",
    "```python\n",
    "# People older than 28\n",
    "older_than_28 = df[df['Age'] > 28]\n",
    "print(older_than_28)\n",
    "```\n",
    "\n",
    "---\n",
    "\n",
    "# 5. Operations on Data\n",
    "\n",
    "## Basic Operations\n",
    "\n",
    "```python\n",
    "# Mean age\n",
    "print(df['Age'].mean())\n",
    "```\n",
    "\n",
    "## Adding Columns\n",
    "\n",
    "```python\n",
    "# Add a new column\n",
    "\n",
    "# Example: Age in 5 years\n",
    "df['Age_in_5_years'] = df['Age'] + 5\n",
    "print(df)\n",
    "```\n",
    "\n",
    "## Grouping Data\n",
    "\n",
    "```python\n",
    "# Group by city and get average age\n",
    "print(df.groupby('City')['Age'].mean())\n",
    "```\n",
    "\n",
    "---\n",
    "\n",
    "# 6. Mini-Exercises\n",
    "\n",
    "### 6.1 Create a DataFrame with your own data (3 columns, 5 rows)\n",
    "\n",
    "```python\n",
    "# Your code here\n",
    "data = {\n",
    "    'Animal': ['Dog', 'Cat', 'Rabbit', 'Hamster', 'Bird'],\n",
    "    'Age': [5, 3, 2, 1, 4],\n",
    "    'Type': ['Mammal', 'Mammal', 'Mammal', 'Mammal', 'Bird']\n",
    "}\n",
    "\n",
    "pets = pd.DataFrame(data)\n",
    "print(pets)\n",
    "```\n",
    "\n",
    "### 6.2 Select only the animals older than 2 years\n",
    "\n",
    "```python\n",
    "# Your code here\n",
    "older_pets = pets[pets['Age'] > 2]\n",
    "print(older_pets)\n",
    "```\n",
    "\n",
    "### 6.3 Group your data by type and calculate the average age\n",
    "\n",
    "```python\n",
    "# Your code here\n",
    "avg_age_by_type = pets.groupby('Type')['Age'].mean()\n",
    "print(avg_age_by_type)\n",
    "```\n",
    "\n",
    "---\n",
    "\n",
    "# Congratulations! 🎉\n",
    "\n",
    "You've learned the basics of **Pandas**!\n",
    "\n",
    "Next, we'll move on to **visualizing data** with **Matplotlib**!\n",
    "\n",
    "---\n",
    "\n",
    "# Quick Recap\n",
    "- **Series** = 1D data; **DataFrame** = 2D data.\n",
    "- Load data with `read_csv()`, save with `to_csv()`.\n",
    "- Select columns and rows easily.\n",
    "- Filter, group, and calculate statistics.\n",
    "\n",
    "See you in the next notebook!\n"
   ]
  },
  {
   "cell_type": "markdown",
   "id": "567a803a",
   "metadata": {},
   "source": [
    "# Pandas\n",
    "\n",
    "Pandas stands for panel data (so not the animal 🐼). It is a more USER.\n",
    "\n",
    "If you want to learn more about it, visit [https://pandas.pydata.org/](https://pandas.pydata.org/)."
   ]
  },
  {
   "cell_type": "code",
   "execution_count": 1,
   "id": "e4d785d6",
   "metadata": {},
   "outputs": [],
   "source": [
    "# Import dependencies\n",
    "import pandas as pd"
   ]
  },
  {
   "cell_type": "markdown",
   "id": "92175079",
   "metadata": {},
   "source": [
    "# MOVE BUT SHOW"
   ]
  },
  {
   "cell_type": "markdown",
   "id": "e5dedab4",
   "metadata": {},
   "source": [
    "# Creating a pandas dataframe"
   ]
  },
  {
   "cell_type": "code",
   "execution_count": null,
   "id": "2793db08",
   "metadata": {},
   "outputs": [
    {
     "name": "stdout",
     "output_type": "stream",
     "text": [
      "0     10\n",
      "1     20\n",
      "2     30\n",
      "3     40\n",
      "4    180\n",
      "dtype: int64\n",
      "<class 'pandas.core.series.Series'>\n"
     ]
    }
   ],
   "source": [
    "# Create a Series\n",
    "my_series = pd.Series(data=[10, 20, 30, 40, 180])\n",
    "\n",
    "print(my_series)\n",
    "print(type(my_series))"
   ]
  },
  {
   "cell_type": "code",
   "execution_count": 11,
   "id": "3e4e9826",
   "metadata": {},
   "outputs": [
    {
     "name": "stdout",
     "output_type": "stream",
     "text": [
      "2.095594125462855\n",
      "4.502672300647195\n"
     ]
    }
   ],
   "source": [
    "print(my_series.skew())\n",
    "print(my_series.kurtosis())"
   ]
  },
  {
   "cell_type": "code",
   "execution_count": null,
   "id": "993ae7f2",
   "metadata": {},
   "outputs": [
    {
     "name": "stdout",
     "output_type": "stream",
     "text": [
      "0    Biscoe\n",
      "1    Biscoe\n",
      "2     Dream\n",
      "3     Dream\n",
      "4     Dream\n",
      "dtype: object\n",
      "<class 'pandas.core.series.Series'>\n"
     ]
    }
   ],
   "source": [
    "# Create a Series\n",
    "my_series2 = pd.Series(data=[\"Biscoe\", \"Biscoe\", \"Dream\", \"Dream\", \"Dream\"])\n",
    "\n",
    "print(my_series2)\n",
    "print(type(my_series2))"
   ]
  },
  {
   "cell_type": "code",
   "execution_count": 17,
   "id": "d0a60f7a",
   "metadata": {},
   "outputs": [
    {
     "name": "stdout",
     "output_type": "stream",
     "text": [
      "Dream\n",
      "Biscoe\n"
     ]
    }
   ],
   "source": [
    "print(my_series2.max())\n",
    "print(my_series2.min())"
   ]
  },
  {
   "cell_type": "code",
   "execution_count": 18,
   "id": "aa24cc0d",
   "metadata": {},
   "outputs": [
    {
     "name": "stdout",
     "output_type": "stream",
     "text": [
      "{'island': ['Biscoe', 'Dream', 'Dream'], 'bill_length_mm': [39.1, 39.5, 40.3], 'bill_depth_mm': [18.7, 17.4, 18.0]}\n"
     ]
    }
   ],
   "source": [
    "# Create a small dictionary\n",
    "# You should know by now\n",
    "penguins_dico = {\n",
    "    \"island\": [\"Biscoe\", \"Dream\", \"Dream\"],\n",
    "    \"bill_length_mm\": [39.1, 39.5, 40.3],\n",
    "    \"bill_depth_mm\": [18.7, 17.4, 18.0]\n",
    "    }\n",
    "\n",
    "print(penguins_dico)"
   ]
  },
  {
   "cell_type": "code",
   "execution_count": 19,
   "id": "7e62fefe",
   "metadata": {},
   "outputs": [
    {
     "name": "stdout",
     "output_type": "stream",
     "text": [
      "   island  bill_length_mm  bill_depth_mm\n",
      "0  Biscoe            39.1           18.7\n",
      "1   Dream            39.5           17.4\n",
      "2   Dream            40.3           18.0\n"
     ]
    }
   ],
   "source": [
    "penguins_df = pd.DataFrame(data=penguins_dico)\n",
    "print(penguins_df)"
   ]
  },
  {
   "cell_type": "code",
   "execution_count": 23,
   "id": "1cd66eb9",
   "metadata": {},
   "outputs": [
    {
     "data": {
      "text/plain": [
       "array([['Biscoe', 39.1, 18.7],\n",
       "       ['Dream', 39.5, 17.4],\n",
       "       ['Dream', 40.3, 18.0]], dtype=object)"
      ]
     },
     "execution_count": 23,
     "metadata": {},
     "output_type": "execute_result"
    }
   ],
   "source": [
    "penguins_df.values"
   ]
  },
  {
   "cell_type": "code",
   "execution_count": 24,
   "id": "4ac88913",
   "metadata": {},
   "outputs": [
    {
     "data": {
      "text/plain": [
       "numpy.ndarray"
      ]
     },
     "execution_count": 24,
     "metadata": {},
     "output_type": "execute_result"
    }
   ],
   "source": [
    "type(penguins_df.values)"
   ]
  },
  {
   "cell_type": "code",
   "execution_count": 20,
   "id": "2800750a",
   "metadata": {},
   "outputs": [
    {
     "name": "stdout",
     "output_type": "stream",
     "text": [
      "[['Biscoe' 39.1 18.7]\n",
      " ['Dream' 39.5 17.4]\n",
      " ['Dream' 40.3 18.0]]\n",
      "--------------------------------------------------\n",
      "<class 'numpy.ndarray'>\n",
      "(3, 3)\n",
      "island             object\n",
      "bill_length_mm    float64\n",
      "bill_depth_mm     float64\n",
      "dtype: object\n"
     ]
    }
   ],
   "source": [
    "# Have a look at the values attribute\n",
    "print(penguins_df.values)\n",
    "\n",
    "#\n",
    "print(\"-\" * 50)\n",
    "\n",
    "# Have a look at the type of object it is\n",
    "print(type(penguins_df.values))\n",
    "print(penguins_df.shape)\n",
    "print(penguins_df.dtypes)"
   ]
  },
  {
   "cell_type": "code",
   "execution_count": 21,
   "id": "4231d898",
   "metadata": {},
   "outputs": [
    {
     "data": {
      "text/plain": [
       "island            BiscoeDreamDream\n",
       "bill_length_mm               118.9\n",
       "bill_depth_mm                 54.1\n",
       "dtype: object"
      ]
     },
     "execution_count": 21,
     "metadata": {},
     "output_type": "execute_result"
    }
   ],
   "source": [
    "# So you still have access to familiar methods\n",
    "penguins_df.sum(axis=0)"
   ]
  },
  {
   "cell_type": "markdown",
   "id": "f690c698",
   "metadata": {},
   "source": [
    "# Better indexing\n",
    "\n",
    "Because Pandas has column indices, it is capable of"
   ]
  },
  {
   "cell_type": "code",
   "execution_count": null,
   "id": "f986b912",
   "metadata": {},
   "outputs": [],
   "source": []
  },
  {
   "cell_type": "code",
   "execution_count": 29,
   "id": "8cf9564f",
   "metadata": {},
   "outputs": [
    {
     "name": "stdout",
     "output_type": "stream",
     "text": [
      "   island  bill_length_mm  bill_depth_mm\n",
      "0  Biscoe            39.1           18.7\n",
      "1   Dream            39.5           17.4\n",
      "2   Dream            40.3           18.0\n"
     ]
    }
   ],
   "source": [
    "print(penguins_df)"
   ]
  },
  {
   "cell_type": "code",
   "execution_count": 32,
   "id": "d324282e",
   "metadata": {},
   "outputs": [
    {
     "data": {
      "text/plain": [
       "RangeIndex(start=0, stop=3, step=1)"
      ]
     },
     "execution_count": 32,
     "metadata": {},
     "output_type": "execute_result"
    }
   ],
   "source": [
    "penguins_df.columns\n",
    "(penguins_df.index)"
   ]
  },
  {
   "cell_type": "code",
   "execution_count": 35,
   "id": "b8709117",
   "metadata": {},
   "outputs": [
    {
     "name": "stdout",
     "output_type": "stream",
     "text": [
      "0    39.1\n",
      "1    39.5\n",
      "2    40.3\n",
      "Name: bill_length_mm, dtype: float64\n",
      "0    Biscoe\n",
      "1     Dream\n",
      "2     Dream\n",
      "Name: island, dtype: object\n"
     ]
    }
   ],
   "source": [
    "# Access the column directly\n",
    "print(penguins_df[\"bill_length_mm\"])\n",
    "#\n",
    "print(penguins_df[\"island\"])"
   ]
  },
  {
   "cell_type": "code",
   "execution_count": 37,
   "id": "70d62459",
   "metadata": {},
   "outputs": [
    {
     "name": "stdout",
     "output_type": "stream",
     "text": [
      "   bill_length_mm  bill_depth_mm\n",
      "0            39.1           18.7\n",
      "1            39.5           17.4\n",
      "2            40.3           18.0\n"
     ]
    }
   ],
   "source": [
    "# You can access several columns by giving their names as a list\n",
    "print(penguins_df[[\"bill_length_mm\", \"bill_depth_mm\"]])"
   ]
  },
  {
   "cell_type": "code",
   "execution_count": 142,
   "id": "0112cb2c",
   "metadata": {},
   "outputs": [
    {
     "data": {
      "text/html": [
       "<div>\n",
       "<style scoped>\n",
       "    .dataframe tbody tr th:only-of-type {\n",
       "        vertical-align: middle;\n",
       "    }\n",
       "\n",
       "    .dataframe tbody tr th {\n",
       "        vertical-align: top;\n",
       "    }\n",
       "\n",
       "    .dataframe thead th {\n",
       "        text-align: right;\n",
       "    }\n",
       "</style>\n",
       "<table border=\"1\" class=\"dataframe\">\n",
       "  <thead>\n",
       "    <tr style=\"text-align: right;\">\n",
       "      <th></th>\n",
       "      <th>bill_length_mm</th>\n",
       "      <th>body_mass_g</th>\n",
       "    </tr>\n",
       "  </thead>\n",
       "  <tbody>\n",
       "    <tr>\n",
       "      <th>0</th>\n",
       "      <td>39.1</td>\n",
       "      <td>3750.0</td>\n",
       "    </tr>\n",
       "    <tr>\n",
       "      <th>1</th>\n",
       "      <td>39.5</td>\n",
       "      <td>3800.0</td>\n",
       "    </tr>\n",
       "    <tr>\n",
       "      <th>2</th>\n",
       "      <td>40.3</td>\n",
       "      <td>3250.0</td>\n",
       "    </tr>\n",
       "    <tr>\n",
       "      <th>3</th>\n",
       "      <td>NaN</td>\n",
       "      <td>NaN</td>\n",
       "    </tr>\n",
       "  </tbody>\n",
       "</table>\n",
       "</div>"
      ],
      "text/plain": [
       "   bill_length_mm  body_mass_g\n",
       "0            39.1       3750.0\n",
       "1            39.5       3800.0\n",
       "2            40.3       3250.0\n",
       "3             NaN          NaN"
      ]
     },
     "execution_count": 142,
     "metadata": {},
     "output_type": "execute_result"
    }
   ],
   "source": [
    "# Accessing both columns and rows is (usually) done with .loc[]\n",
    "palmer.loc[0:3, [\"bill_length_mm\", \"body_mass_g\"]]"
   ]
  },
  {
   "cell_type": "code",
   "execution_count": 145,
   "id": "33af21d0",
   "metadata": {},
   "outputs": [
    {
     "data": {
      "text/html": [
       "<div>\n",
       "<style scoped>\n",
       "    .dataframe tbody tr th:only-of-type {\n",
       "        vertical-align: middle;\n",
       "    }\n",
       "\n",
       "    .dataframe tbody tr th {\n",
       "        vertical-align: top;\n",
       "    }\n",
       "\n",
       "    .dataframe thead th {\n",
       "        text-align: right;\n",
       "    }\n",
       "</style>\n",
       "<table border=\"1\" class=\"dataframe\">\n",
       "  <thead>\n",
       "    <tr style=\"text-align: right;\">\n",
       "      <th></th>\n",
       "      <th>bill_length_mm</th>\n",
       "      <th>body_mass_g</th>\n",
       "    </tr>\n",
       "  </thead>\n",
       "  <tbody>\n",
       "    <tr>\n",
       "      <th>0</th>\n",
       "      <td>39.1</td>\n",
       "      <td>3750.0</td>\n",
       "    </tr>\n",
       "    <tr>\n",
       "      <th>5</th>\n",
       "      <td>39.3</td>\n",
       "      <td>3650.0</td>\n",
       "    </tr>\n",
       "    <tr>\n",
       "      <th>7</th>\n",
       "      <td>39.2</td>\n",
       "      <td>4675.0</td>\n",
       "    </tr>\n",
       "    <tr>\n",
       "      <th>13</th>\n",
       "      <td>38.6</td>\n",
       "      <td>3800.0</td>\n",
       "    </tr>\n",
       "    <tr>\n",
       "      <th>14</th>\n",
       "      <td>34.6</td>\n",
       "      <td>4400.0</td>\n",
       "    </tr>\n",
       "    <tr>\n",
       "      <th>...</th>\n",
       "      <td>...</td>\n",
       "      <td>...</td>\n",
       "    </tr>\n",
       "    <tr>\n",
       "      <th>334</th>\n",
       "      <td>50.2</td>\n",
       "      <td>3800.0</td>\n",
       "    </tr>\n",
       "    <tr>\n",
       "      <th>336</th>\n",
       "      <td>51.9</td>\n",
       "      <td>3950.0</td>\n",
       "    </tr>\n",
       "    <tr>\n",
       "      <th>339</th>\n",
       "      <td>55.8</td>\n",
       "      <td>4000.0</td>\n",
       "    </tr>\n",
       "    <tr>\n",
       "      <th>341</th>\n",
       "      <td>49.6</td>\n",
       "      <td>3775.0</td>\n",
       "    </tr>\n",
       "    <tr>\n",
       "      <th>342</th>\n",
       "      <td>50.8</td>\n",
       "      <td>4100.0</td>\n",
       "    </tr>\n",
       "  </tbody>\n",
       "</table>\n",
       "<p>168 rows × 2 columns</p>\n",
       "</div>"
      ],
      "text/plain": [
       "     bill_length_mm  body_mass_g\n",
       "0              39.1       3750.0\n",
       "5              39.3       3650.0\n",
       "7              39.2       4675.0\n",
       "13             38.6       3800.0\n",
       "14             34.6       4400.0\n",
       "..              ...          ...\n",
       "334            50.2       3800.0\n",
       "336            51.9       3950.0\n",
       "339            55.8       4000.0\n",
       "341            49.6       3775.0\n",
       "342            50.8       4100.0\n",
       "\n",
       "[168 rows x 2 columns]"
      ]
     },
     "execution_count": 145,
     "metadata": {},
     "output_type": "execute_result"
    }
   ],
   "source": [
    "# You can access column and \n",
    "palmer.loc[(palmer[\"sex\"] == \"male\"), [\"bill_length_mm\", \"body_mass_g\"]]"
   ]
  },
  {
   "cell_type": "code",
   "execution_count": 68,
   "id": "c7e367cc",
   "metadata": {},
   "outputs": [
    {
     "data": {
      "text/html": [
       "<div>\n",
       "<style scoped>\n",
       "    .dataframe tbody tr th:only-of-type {\n",
       "        vertical-align: middle;\n",
       "    }\n",
       "\n",
       "    .dataframe tbody tr th {\n",
       "        vertical-align: top;\n",
       "    }\n",
       "\n",
       "    .dataframe thead th {\n",
       "        text-align: right;\n",
       "    }\n",
       "</style>\n",
       "<table border=\"1\" class=\"dataframe\">\n",
       "  <thead>\n",
       "    <tr style=\"text-align: right;\">\n",
       "      <th></th>\n",
       "      <th>bill_length_mm</th>\n",
       "      <th>body_mass_g</th>\n",
       "    </tr>\n",
       "  </thead>\n",
       "  <tbody>\n",
       "    <tr>\n",
       "      <th>31</th>\n",
       "      <td>37.2</td>\n",
       "      <td>3900.0</td>\n",
       "    </tr>\n",
       "    <tr>\n",
       "      <th>33</th>\n",
       "      <td>40.9</td>\n",
       "      <td>3900.0</td>\n",
       "    </tr>\n",
       "    <tr>\n",
       "      <th>35</th>\n",
       "      <td>39.2</td>\n",
       "      <td>4150.0</td>\n",
       "    </tr>\n",
       "    <tr>\n",
       "      <th>36</th>\n",
       "      <td>38.8</td>\n",
       "      <td>3950.0</td>\n",
       "    </tr>\n",
       "    <tr>\n",
       "      <th>39</th>\n",
       "      <td>39.8</td>\n",
       "      <td>4650.0</td>\n",
       "    </tr>\n",
       "    <tr>\n",
       "      <th>...</th>\n",
       "      <td>...</td>\n",
       "      <td>...</td>\n",
       "    </tr>\n",
       "    <tr>\n",
       "      <th>334</th>\n",
       "      <td>50.2</td>\n",
       "      <td>3800.0</td>\n",
       "    </tr>\n",
       "    <tr>\n",
       "      <th>336</th>\n",
       "      <td>51.9</td>\n",
       "      <td>3950.0</td>\n",
       "    </tr>\n",
       "    <tr>\n",
       "      <th>339</th>\n",
       "      <td>55.8</td>\n",
       "      <td>4000.0</td>\n",
       "    </tr>\n",
       "    <tr>\n",
       "      <th>341</th>\n",
       "      <td>49.6</td>\n",
       "      <td>3775.0</td>\n",
       "    </tr>\n",
       "    <tr>\n",
       "      <th>342</th>\n",
       "      <td>50.8</td>\n",
       "      <td>4100.0</td>\n",
       "    </tr>\n",
       "  </tbody>\n",
       "</table>\n",
       "<p>62 rows × 2 columns</p>\n",
       "</div>"
      ],
      "text/plain": [
       "     bill_length_mm  body_mass_g\n",
       "31             37.2       3900.0\n",
       "33             40.9       3900.0\n",
       "35             39.2       4150.0\n",
       "36             38.8       3950.0\n",
       "39             39.8       4650.0\n",
       "..              ...          ...\n",
       "334            50.2       3800.0\n",
       "336            51.9       3950.0\n",
       "339            55.8       4000.0\n",
       "341            49.6       3775.0\n",
       "342            50.8       4100.0\n",
       "\n",
       "[62 rows x 2 columns]"
      ]
     },
     "execution_count": 68,
     "metadata": {},
     "output_type": "execute_result"
    }
   ],
   "source": [
    "# You can access column and \n",
    "palmer.loc[(palmer[\"sex\"] == \"male\") & (palmer[\"island\"] == \"Dream\"), [\"bill_length_mm\", \"body_mass_g\"]]"
   ]
  },
  {
   "cell_type": "code",
   "execution_count": null,
   "id": "16cd96d7",
   "metadata": {},
   "outputs": [
    {
     "data": {
      "text/html": [
       "<div>\n",
       "<style scoped>\n",
       "    .dataframe tbody tr th:only-of-type {\n",
       "        vertical-align: middle;\n",
       "    }\n",
       "\n",
       "    .dataframe tbody tr th {\n",
       "        vertical-align: top;\n",
       "    }\n",
       "\n",
       "    .dataframe thead th {\n",
       "        text-align: right;\n",
       "    }\n",
       "</style>\n",
       "<table border=\"1\" class=\"dataframe\">\n",
       "  <thead>\n",
       "    <tr style=\"text-align: right;\">\n",
       "      <th></th>\n",
       "      <th>species</th>\n",
       "      <th>island</th>\n",
       "    </tr>\n",
       "  </thead>\n",
       "  <tbody>\n",
       "    <tr>\n",
       "      <th>0</th>\n",
       "      <td>Adelie</td>\n",
       "      <td>Torgersen</td>\n",
       "    </tr>\n",
       "    <tr>\n",
       "      <th>1</th>\n",
       "      <td>Adelie</td>\n",
       "      <td>Torgersen</td>\n",
       "    </tr>\n",
       "    <tr>\n",
       "      <th>2</th>\n",
       "      <td>Adelie</td>\n",
       "      <td>Torgersen</td>\n",
       "    </tr>\n",
       "  </tbody>\n",
       "</table>\n",
       "</div>"
      ],
      "text/plain": [
       "  species     island\n",
       "0  Adelie  Torgersen\n",
       "1  Adelie  Torgersen\n",
       "2  Adelie  Torgersen"
      ]
     },
     "execution_count": 58,
     "metadata": {},
     "output_type": "execute_result"
    }
   ],
   "source": [
    "# Another method exists, integer location\n",
    "# Based on NumPy counting\n",
    "palmer.iloc[0:3, 0:2]"
   ]
  },
  {
   "cell_type": "markdown",
   "id": "6720a9ae",
   "metadata": {},
   "source": [
    "# LOCATION VS. INTEGER LOCATIONS"
   ]
  },
  {
   "cell_type": "markdown",
   "id": "e6fb5df0",
   "metadata": {},
   "source": [
    "# Additional features\n",
    "\n",
    "Pandas is more than just sugarcoating NumPy."
   ]
  },
  {
   "cell_type": "code",
   "execution_count": 38,
   "id": "333a7721",
   "metadata": {},
   "outputs": [
    {
     "name": "stdout",
     "output_type": "stream",
     "text": [
      "       species     island  bill_length_mm  bill_depth_mm  flipper_length_mm  \\\n",
      "0       Adelie  Torgersen            39.1           18.7              181.0   \n",
      "1       Adelie  Torgersen            39.5           17.4              186.0   \n",
      "2       Adelie  Torgersen            40.3           18.0              195.0   \n",
      "3       Adelie  Torgersen             NaN            NaN                NaN   \n",
      "4       Adelie  Torgersen            36.7           19.3              193.0   \n",
      "..         ...        ...             ...            ...                ...   \n",
      "339  Chinstrap      Dream            55.8           19.8              207.0   \n",
      "340  Chinstrap      Dream            43.5           18.1              202.0   \n",
      "341  Chinstrap      Dream            49.6           18.2              193.0   \n",
      "342  Chinstrap      Dream            50.8           19.0              210.0   \n",
      "343  Chinstrap      Dream            50.2           18.7              198.0   \n",
      "\n",
      "     body_mass_g     sex  year  \n",
      "0         3750.0    male  2007  \n",
      "1         3800.0  female  2007  \n",
      "2         3250.0  female  2007  \n",
      "3            NaN     NaN  2007  \n",
      "4         3450.0  female  2007  \n",
      "..           ...     ...   ...  \n",
      "339       4000.0    male  2009  \n",
      "340       3400.0  female  2009  \n",
      "341       3775.0    male  2009  \n",
      "342       4100.0    male  2009  \n",
      "343       3775.0  female  2009  \n",
      "\n",
      "[344 rows x 8 columns]\n",
      "<class 'pandas.core.frame.DataFrame'>\n",
      "<class 'numpy.ndarray'>\n"
     ]
    }
   ],
   "source": [
    "# Read the entire Palmer penguins dataset\n",
    "palmer = pd.read_csv(filepath_or_buffer=\"../data/penguins.csv\")\n",
    "\n",
    "#\n",
    "print(palmer)\n",
    "print(type(palmer))\n",
    "print(type(palmer.values))"
   ]
  },
  {
   "cell_type": "code",
   "execution_count": 39,
   "id": "0aabeffa",
   "metadata": {},
   "outputs": [
    {
     "name": "stdout",
     "output_type": "stream",
     "text": [
      "Index(['species', 'island', 'bill_length_mm', 'bill_depth_mm',\n",
      "       'flipper_length_mm', 'body_mass_g', 'sex', 'year'],\n",
      "      dtype='object')\n"
     ]
    }
   ],
   "source": [
    "# You can check the column names with the .columns attribute\n",
    "print(palmer.columns)"
   ]
  },
  {
   "cell_type": "code",
   "execution_count": null,
   "id": "1f520cb3",
   "metadata": {},
   "outputs": [
    {
     "data": {
      "text/plain": [
       "0         Adelie\n",
       "1         Adelie\n",
       "2         Adelie\n",
       "3         Adelie\n",
       "4         Adelie\n",
       "         ...    \n",
       "339    Chinstrap\n",
       "340    Chinstrap\n",
       "341    Chinstrap\n",
       "342    Chinstrap\n",
       "343    Chinstrap\n",
       "Name: species, Length: 344, dtype: object"
      ]
     },
     "execution_count": 26,
     "metadata": {},
     "output_type": "execute_result"
    }
   ],
   "source": [
    "# Columns are now attributes of the DataFrame\n",
    "# This means that you can select individual columns by their name rather than by their number\n",
    "palmer[\"island\"]\n",
    "#palmer.species"
   ]
  },
  {
   "cell_type": "code",
   "execution_count": 52,
   "id": "30fc486c",
   "metadata": {},
   "outputs": [
    {
     "data": {
      "text/html": [
       "<div>\n",
       "<style scoped>\n",
       "    .dataframe tbody tr th:only-of-type {\n",
       "        vertical-align: middle;\n",
       "    }\n",
       "\n",
       "    .dataframe tbody tr th {\n",
       "        vertical-align: top;\n",
       "    }\n",
       "\n",
       "    .dataframe thead th {\n",
       "        text-align: right;\n",
       "    }\n",
       "</style>\n",
       "<table border=\"1\" class=\"dataframe\">\n",
       "  <thead>\n",
       "    <tr style=\"text-align: right;\">\n",
       "      <th></th>\n",
       "      <th>species</th>\n",
       "      <th>island</th>\n",
       "      <th>bill_length_mm</th>\n",
       "      <th>bill_depth_mm</th>\n",
       "      <th>flipper_length_mm</th>\n",
       "      <th>body_mass_g</th>\n",
       "      <th>sex</th>\n",
       "      <th>year</th>\n",
       "    </tr>\n",
       "  </thead>\n",
       "  <tbody>\n",
       "    <tr>\n",
       "      <th>0</th>\n",
       "      <td>Adelie</td>\n",
       "      <td>Torgersen</td>\n",
       "      <td>39.1</td>\n",
       "      <td>18.7</td>\n",
       "      <td>181.0</td>\n",
       "      <td>3750.0</td>\n",
       "      <td>male</td>\n",
       "      <td>2007</td>\n",
       "    </tr>\n",
       "    <tr>\n",
       "      <th>1</th>\n",
       "      <td>Adelie</td>\n",
       "      <td>Torgersen</td>\n",
       "      <td>39.5</td>\n",
       "      <td>17.4</td>\n",
       "      <td>186.0</td>\n",
       "      <td>3800.0</td>\n",
       "      <td>female</td>\n",
       "      <td>2007</td>\n",
       "    </tr>\n",
       "    <tr>\n",
       "      <th>2</th>\n",
       "      <td>Adelie</td>\n",
       "      <td>Torgersen</td>\n",
       "      <td>40.3</td>\n",
       "      <td>18.0</td>\n",
       "      <td>195.0</td>\n",
       "      <td>3250.0</td>\n",
       "      <td>female</td>\n",
       "      <td>2007</td>\n",
       "    </tr>\n",
       "    <tr>\n",
       "      <th>3</th>\n",
       "      <td>Adelie</td>\n",
       "      <td>Torgersen</td>\n",
       "      <td>NaN</td>\n",
       "      <td>NaN</td>\n",
       "      <td>NaN</td>\n",
       "      <td>NaN</td>\n",
       "      <td>NaN</td>\n",
       "      <td>2007</td>\n",
       "    </tr>\n",
       "    <tr>\n",
       "      <th>4</th>\n",
       "      <td>Adelie</td>\n",
       "      <td>Torgersen</td>\n",
       "      <td>36.7</td>\n",
       "      <td>19.3</td>\n",
       "      <td>193.0</td>\n",
       "      <td>3450.0</td>\n",
       "      <td>female</td>\n",
       "      <td>2007</td>\n",
       "    </tr>\n",
       "    <tr>\n",
       "      <th>...</th>\n",
       "      <td>...</td>\n",
       "      <td>...</td>\n",
       "      <td>...</td>\n",
       "      <td>...</td>\n",
       "      <td>...</td>\n",
       "      <td>...</td>\n",
       "      <td>...</td>\n",
       "      <td>...</td>\n",
       "    </tr>\n",
       "    <tr>\n",
       "      <th>339</th>\n",
       "      <td>Chinstrap</td>\n",
       "      <td>Dream</td>\n",
       "      <td>55.8</td>\n",
       "      <td>19.8</td>\n",
       "      <td>207.0</td>\n",
       "      <td>4000.0</td>\n",
       "      <td>male</td>\n",
       "      <td>2009</td>\n",
       "    </tr>\n",
       "    <tr>\n",
       "      <th>340</th>\n",
       "      <td>Chinstrap</td>\n",
       "      <td>Dream</td>\n",
       "      <td>43.5</td>\n",
       "      <td>18.1</td>\n",
       "      <td>202.0</td>\n",
       "      <td>3400.0</td>\n",
       "      <td>female</td>\n",
       "      <td>2009</td>\n",
       "    </tr>\n",
       "    <tr>\n",
       "      <th>341</th>\n",
       "      <td>Chinstrap</td>\n",
       "      <td>Dream</td>\n",
       "      <td>49.6</td>\n",
       "      <td>18.2</td>\n",
       "      <td>193.0</td>\n",
       "      <td>3775.0</td>\n",
       "      <td>male</td>\n",
       "      <td>2009</td>\n",
       "    </tr>\n",
       "    <tr>\n",
       "      <th>342</th>\n",
       "      <td>Chinstrap</td>\n",
       "      <td>Dream</td>\n",
       "      <td>50.8</td>\n",
       "      <td>19.0</td>\n",
       "      <td>210.0</td>\n",
       "      <td>4100.0</td>\n",
       "      <td>male</td>\n",
       "      <td>2009</td>\n",
       "    </tr>\n",
       "    <tr>\n",
       "      <th>343</th>\n",
       "      <td>Chinstrap</td>\n",
       "      <td>Dream</td>\n",
       "      <td>50.2</td>\n",
       "      <td>18.7</td>\n",
       "      <td>198.0</td>\n",
       "      <td>3775.0</td>\n",
       "      <td>female</td>\n",
       "      <td>2009</td>\n",
       "    </tr>\n",
       "  </tbody>\n",
       "</table>\n",
       "<p>344 rows × 8 columns</p>\n",
       "</div>"
      ],
      "text/plain": [
       "       species     island  bill_length_mm  bill_depth_mm  flipper_length_mm  \\\n",
       "0       Adelie  Torgersen            39.1           18.7              181.0   \n",
       "1       Adelie  Torgersen            39.5           17.4              186.0   \n",
       "2       Adelie  Torgersen            40.3           18.0              195.0   \n",
       "3       Adelie  Torgersen             NaN            NaN                NaN   \n",
       "4       Adelie  Torgersen            36.7           19.3              193.0   \n",
       "..         ...        ...             ...            ...                ...   \n",
       "339  Chinstrap      Dream            55.8           19.8              207.0   \n",
       "340  Chinstrap      Dream            43.5           18.1              202.0   \n",
       "341  Chinstrap      Dream            49.6           18.2              193.0   \n",
       "342  Chinstrap      Dream            50.8           19.0              210.0   \n",
       "343  Chinstrap      Dream            50.2           18.7              198.0   \n",
       "\n",
       "     body_mass_g     sex  year  \n",
       "0         3750.0    male  2007  \n",
       "1         3800.0  female  2007  \n",
       "2         3250.0  female  2007  \n",
       "3            NaN     NaN  2007  \n",
       "4         3450.0  female  2007  \n",
       "..           ...     ...   ...  \n",
       "339       4000.0    male  2009  \n",
       "340       3400.0  female  2009  \n",
       "341       3775.0    male  2009  \n",
       "342       4100.0    male  2009  \n",
       "343       3775.0  female  2009  \n",
       "\n",
       "[344 rows x 8 columns]"
      ]
     },
     "execution_count": 52,
     "metadata": {},
     "output_type": "execute_result"
    }
   ],
   "source": [
    "# Again the most general form use the .loc attribute, as:\n",
    "palmer.loc[:, :]"
   ]
  },
  {
   "cell_type": "code",
   "execution_count": null,
   "id": "cab5afaf",
   "metadata": {},
   "outputs": [
    {
     "data": {
      "text/plain": [
       "0     39.1\n",
       "1     39.5\n",
       "2     40.3\n",
       "3      NaN\n",
       "4     36.7\n",
       "5     39.3\n",
       "6     38.9\n",
       "7     39.2\n",
       "8     34.1\n",
       "9     42.0\n",
       "10    37.8\n",
       "Name: bill_length_mm, dtype: float64"
      ]
     },
     "execution_count": 56,
     "metadata": {},
     "output_type": "execute_result"
    }
   ],
   "source": [
    "# However, the choice is a bit different\n",
    "# For columns, these must be the names themselves\n",
    "# For example \"bill_length\" for the first 10 observations\n",
    "palmer.loc[0:10, \"bill_length_mm\"]"
   ]
  },
  {
   "cell_type": "code",
   "execution_count": 66,
   "id": "fcc72c83",
   "metadata": {},
   "outputs": [
    {
     "data": {
      "text/html": [
       "<div>\n",
       "<style scoped>\n",
       "    .dataframe tbody tr th:only-of-type {\n",
       "        vertical-align: middle;\n",
       "    }\n",
       "\n",
       "    .dataframe tbody tr th {\n",
       "        vertical-align: top;\n",
       "    }\n",
       "\n",
       "    .dataframe thead th {\n",
       "        text-align: right;\n",
       "    }\n",
       "</style>\n",
       "<table border=\"1\" class=\"dataframe\">\n",
       "  <thead>\n",
       "    <tr style=\"text-align: right;\">\n",
       "      <th></th>\n",
       "      <th>sex</th>\n",
       "      <th>bill_length_mm</th>\n",
       "      <th>bill_depth_mm</th>\n",
       "    </tr>\n",
       "  </thead>\n",
       "  <tbody>\n",
       "    <tr>\n",
       "      <th>0</th>\n",
       "      <td>male</td>\n",
       "      <td>39.1</td>\n",
       "      <td>18.7</td>\n",
       "    </tr>\n",
       "    <tr>\n",
       "      <th>1</th>\n",
       "      <td>female</td>\n",
       "      <td>39.5</td>\n",
       "      <td>17.4</td>\n",
       "    </tr>\n",
       "    <tr>\n",
       "      <th>2</th>\n",
       "      <td>female</td>\n",
       "      <td>40.3</td>\n",
       "      <td>18.0</td>\n",
       "    </tr>\n",
       "    <tr>\n",
       "      <th>3</th>\n",
       "      <td>NaN</td>\n",
       "      <td>NaN</td>\n",
       "      <td>NaN</td>\n",
       "    </tr>\n",
       "    <tr>\n",
       "      <th>4</th>\n",
       "      <td>female</td>\n",
       "      <td>36.7</td>\n",
       "      <td>19.3</td>\n",
       "    </tr>\n",
       "    <tr>\n",
       "      <th>...</th>\n",
       "      <td>...</td>\n",
       "      <td>...</td>\n",
       "      <td>...</td>\n",
       "    </tr>\n",
       "    <tr>\n",
       "      <th>339</th>\n",
       "      <td>male</td>\n",
       "      <td>55.8</td>\n",
       "      <td>19.8</td>\n",
       "    </tr>\n",
       "    <tr>\n",
       "      <th>340</th>\n",
       "      <td>female</td>\n",
       "      <td>43.5</td>\n",
       "      <td>18.1</td>\n",
       "    </tr>\n",
       "    <tr>\n",
       "      <th>341</th>\n",
       "      <td>male</td>\n",
       "      <td>49.6</td>\n",
       "      <td>18.2</td>\n",
       "    </tr>\n",
       "    <tr>\n",
       "      <th>342</th>\n",
       "      <td>male</td>\n",
       "      <td>50.8</td>\n",
       "      <td>19.0</td>\n",
       "    </tr>\n",
       "    <tr>\n",
       "      <th>343</th>\n",
       "      <td>female</td>\n",
       "      <td>50.2</td>\n",
       "      <td>18.7</td>\n",
       "    </tr>\n",
       "  </tbody>\n",
       "</table>\n",
       "<p>344 rows × 3 columns</p>\n",
       "</div>"
      ],
      "text/plain": [
       "        sex  bill_length_mm  bill_depth_mm\n",
       "0      male            39.1           18.7\n",
       "1    female            39.5           17.4\n",
       "2    female            40.3           18.0\n",
       "3       NaN             NaN            NaN\n",
       "4    female            36.7           19.3\n",
       "..      ...             ...            ...\n",
       "339    male            55.8           19.8\n",
       "340  female            43.5           18.1\n",
       "341    male            49.6           18.2\n",
       "342    male            50.8           19.0\n",
       "343  female            50.2           18.7\n",
       "\n",
       "[344 rows x 3 columns]"
      ]
     },
     "execution_count": 66,
     "metadata": {},
     "output_type": "execute_result"
    }
   ],
   "source": [
    "# Groups of columns are given as a list\n",
    "palmer.loc[:, [\"sex\", \"bill_length_mm\", \"bill_depth_mm\"]]"
   ]
  },
  {
   "cell_type": "code",
   "execution_count": 61,
   "id": "26873870",
   "metadata": {},
   "outputs": [
    {
     "data": {
      "text/plain": [
       "0       True\n",
       "1      False\n",
       "2      False\n",
       "3      False\n",
       "4      False\n",
       "       ...  \n",
       "339     True\n",
       "340    False\n",
       "341     True\n",
       "342     True\n",
       "343    False\n",
       "Name: sex, Length: 344, dtype: bool"
      ]
     },
     "execution_count": 61,
     "metadata": {},
     "output_type": "execute_result"
    }
   ],
   "source": [
    "# In addition, you can also use boolean filters for rows\n",
    "palmer[\"sex\"] == \"male\""
   ]
  },
  {
   "cell_type": "code",
   "execution_count": 65,
   "id": "184059d4",
   "metadata": {},
   "outputs": [
    {
     "data": {
      "text/html": [
       "<div>\n",
       "<style scoped>\n",
       "    .dataframe tbody tr th:only-of-type {\n",
       "        vertical-align: middle;\n",
       "    }\n",
       "\n",
       "    .dataframe tbody tr th {\n",
       "        vertical-align: top;\n",
       "    }\n",
       "\n",
       "    .dataframe thead th {\n",
       "        text-align: right;\n",
       "    }\n",
       "</style>\n",
       "<table border=\"1\" class=\"dataframe\">\n",
       "  <thead>\n",
       "    <tr style=\"text-align: right;\">\n",
       "      <th></th>\n",
       "      <th>sex</th>\n",
       "      <th>bill_length_mm</th>\n",
       "      <th>bill_depth_mm</th>\n",
       "    </tr>\n",
       "  </thead>\n",
       "  <tbody>\n",
       "    <tr>\n",
       "      <th>0</th>\n",
       "      <td>male</td>\n",
       "      <td>39.1</td>\n",
       "      <td>18.7</td>\n",
       "    </tr>\n",
       "    <tr>\n",
       "      <th>5</th>\n",
       "      <td>male</td>\n",
       "      <td>39.3</td>\n",
       "      <td>20.6</td>\n",
       "    </tr>\n",
       "    <tr>\n",
       "      <th>7</th>\n",
       "      <td>male</td>\n",
       "      <td>39.2</td>\n",
       "      <td>19.6</td>\n",
       "    </tr>\n",
       "    <tr>\n",
       "      <th>13</th>\n",
       "      <td>male</td>\n",
       "      <td>38.6</td>\n",
       "      <td>21.2</td>\n",
       "    </tr>\n",
       "    <tr>\n",
       "      <th>14</th>\n",
       "      <td>male</td>\n",
       "      <td>34.6</td>\n",
       "      <td>21.1</td>\n",
       "    </tr>\n",
       "    <tr>\n",
       "      <th>...</th>\n",
       "      <td>...</td>\n",
       "      <td>...</td>\n",
       "      <td>...</td>\n",
       "    </tr>\n",
       "    <tr>\n",
       "      <th>334</th>\n",
       "      <td>male</td>\n",
       "      <td>50.2</td>\n",
       "      <td>18.8</td>\n",
       "    </tr>\n",
       "    <tr>\n",
       "      <th>336</th>\n",
       "      <td>male</td>\n",
       "      <td>51.9</td>\n",
       "      <td>19.5</td>\n",
       "    </tr>\n",
       "    <tr>\n",
       "      <th>339</th>\n",
       "      <td>male</td>\n",
       "      <td>55.8</td>\n",
       "      <td>19.8</td>\n",
       "    </tr>\n",
       "    <tr>\n",
       "      <th>341</th>\n",
       "      <td>male</td>\n",
       "      <td>49.6</td>\n",
       "      <td>18.2</td>\n",
       "    </tr>\n",
       "    <tr>\n",
       "      <th>342</th>\n",
       "      <td>male</td>\n",
       "      <td>50.8</td>\n",
       "      <td>19.0</td>\n",
       "    </tr>\n",
       "  </tbody>\n",
       "</table>\n",
       "<p>168 rows × 3 columns</p>\n",
       "</div>"
      ],
      "text/plain": [
       "      sex  bill_length_mm  bill_depth_mm\n",
       "0    male            39.1           18.7\n",
       "5    male            39.3           20.6\n",
       "7    male            39.2           19.6\n",
       "13   male            38.6           21.2\n",
       "14   male            34.6           21.1\n",
       "..    ...             ...            ...\n",
       "334  male            50.2           18.8\n",
       "336  male            51.9           19.5\n",
       "339  male            55.8           19.8\n",
       "341  male            49.6           18.2\n",
       "342  male            50.8           19.0\n",
       "\n",
       "[168 rows x 3 columns]"
      ]
     },
     "execution_count": 65,
     "metadata": {},
     "output_type": "execute_result"
    }
   ],
   "source": [
    "# Groups of columns are given as a list\n",
    "palmer.loc[palmer[\"sex\"] == \"male\", [\"sex\", \"bill_length_mm\", \"bill_depth_mm\"]]"
   ]
  },
  {
   "cell_type": "code",
   "execution_count": 72,
   "id": "df6a0e1f",
   "metadata": {},
   "outputs": [
    {
     "data": {
      "text/html": [
       "<div>\n",
       "<style scoped>\n",
       "    .dataframe tbody tr th:only-of-type {\n",
       "        vertical-align: middle;\n",
       "    }\n",
       "\n",
       "    .dataframe tbody tr th {\n",
       "        vertical-align: top;\n",
       "    }\n",
       "\n",
       "    .dataframe thead th {\n",
       "        text-align: right;\n",
       "    }\n",
       "</style>\n",
       "<table border=\"1\" class=\"dataframe\">\n",
       "  <thead>\n",
       "    <tr style=\"text-align: right;\">\n",
       "      <th></th>\n",
       "      <th>island</th>\n",
       "      <th>sex</th>\n",
       "      <th>bill_length_mm</th>\n",
       "      <th>bill_depth_mm</th>\n",
       "    </tr>\n",
       "  </thead>\n",
       "  <tbody>\n",
       "    <tr>\n",
       "      <th>31</th>\n",
       "      <td>Dream</td>\n",
       "      <td>male</td>\n",
       "      <td>37.2</td>\n",
       "      <td>18.1</td>\n",
       "    </tr>\n",
       "    <tr>\n",
       "      <th>33</th>\n",
       "      <td>Dream</td>\n",
       "      <td>male</td>\n",
       "      <td>40.9</td>\n",
       "      <td>18.9</td>\n",
       "    </tr>\n",
       "    <tr>\n",
       "      <th>35</th>\n",
       "      <td>Dream</td>\n",
       "      <td>male</td>\n",
       "      <td>39.2</td>\n",
       "      <td>21.1</td>\n",
       "    </tr>\n",
       "    <tr>\n",
       "      <th>36</th>\n",
       "      <td>Dream</td>\n",
       "      <td>male</td>\n",
       "      <td>38.8</td>\n",
       "      <td>20.0</td>\n",
       "    </tr>\n",
       "    <tr>\n",
       "      <th>39</th>\n",
       "      <td>Dream</td>\n",
       "      <td>male</td>\n",
       "      <td>39.8</td>\n",
       "      <td>19.1</td>\n",
       "    </tr>\n",
       "    <tr>\n",
       "      <th>...</th>\n",
       "      <td>...</td>\n",
       "      <td>...</td>\n",
       "      <td>...</td>\n",
       "      <td>...</td>\n",
       "    </tr>\n",
       "    <tr>\n",
       "      <th>334</th>\n",
       "      <td>Dream</td>\n",
       "      <td>male</td>\n",
       "      <td>50.2</td>\n",
       "      <td>18.8</td>\n",
       "    </tr>\n",
       "    <tr>\n",
       "      <th>336</th>\n",
       "      <td>Dream</td>\n",
       "      <td>male</td>\n",
       "      <td>51.9</td>\n",
       "      <td>19.5</td>\n",
       "    </tr>\n",
       "    <tr>\n",
       "      <th>339</th>\n",
       "      <td>Dream</td>\n",
       "      <td>male</td>\n",
       "      <td>55.8</td>\n",
       "      <td>19.8</td>\n",
       "    </tr>\n",
       "    <tr>\n",
       "      <th>341</th>\n",
       "      <td>Dream</td>\n",
       "      <td>male</td>\n",
       "      <td>49.6</td>\n",
       "      <td>18.2</td>\n",
       "    </tr>\n",
       "    <tr>\n",
       "      <th>342</th>\n",
       "      <td>Dream</td>\n",
       "      <td>male</td>\n",
       "      <td>50.8</td>\n",
       "      <td>19.0</td>\n",
       "    </tr>\n",
       "  </tbody>\n",
       "</table>\n",
       "<p>62 rows × 4 columns</p>\n",
       "</div>"
      ],
      "text/plain": [
       "    island   sex  bill_length_mm  bill_depth_mm\n",
       "31   Dream  male            37.2           18.1\n",
       "33   Dream  male            40.9           18.9\n",
       "35   Dream  male            39.2           21.1\n",
       "36   Dream  male            38.8           20.0\n",
       "39   Dream  male            39.8           19.1\n",
       "..     ...   ...             ...            ...\n",
       "334  Dream  male            50.2           18.8\n",
       "336  Dream  male            51.9           19.5\n",
       "339  Dream  male            55.8           19.8\n",
       "341  Dream  male            49.6           18.2\n",
       "342  Dream  male            50.8           19.0\n",
       "\n",
       "[62 rows x 4 columns]"
      ]
     },
     "execution_count": 72,
     "metadata": {},
     "output_type": "execute_result"
    }
   ],
   "source": [
    "# Note the parentheses\n",
    "palmer.loc[(palmer[\"sex\"] == \"male\") & (palmer[\"island\"] == \"Dream\"), [\"island\", \"sex\", \"bill_length_mm\", \"bill_depth_mm\"]]"
   ]
  },
  {
   "cell_type": "markdown",
   "id": "c9af5a70",
   "metadata": {},
   "source": [
    "# Quick summaries"
   ]
  },
  {
   "cell_type": "code",
   "execution_count": 27,
   "id": "e3c92b77",
   "metadata": {},
   "outputs": [
    {
     "name": "stdout",
     "output_type": "stream",
     "text": [
      "       bill_length_mm  bill_depth_mm  flipper_length_mm  body_mass_g  \\\n",
      "count      342.000000     342.000000         342.000000   342.000000   \n",
      "mean        43.921930      17.151170         200.915205  4201.754386   \n",
      "std          5.459584       1.974793          14.061714   801.954536   \n",
      "min         32.100000      13.100000         172.000000  2700.000000   \n",
      "25%         39.225000      15.600000         190.000000  3550.000000   \n",
      "50%         44.450000      17.300000         197.000000  4050.000000   \n",
      "75%         48.500000      18.700000         213.000000  4750.000000   \n",
      "max         59.600000      21.500000         231.000000  6300.000000   \n",
      "\n",
      "              year  \n",
      "count   344.000000  \n",
      "mean   2008.029070  \n",
      "std       0.818356  \n",
      "min    2007.000000  \n",
      "25%    2007.000000  \n",
      "50%    2008.000000  \n",
      "75%    2009.000000  \n",
      "max    2009.000000  \n"
     ]
    }
   ],
   "source": [
    "# You can also get quick summaries of variables\n",
    "print(palmer.describe(include=\"number\"))"
   ]
  },
  {
   "cell_type": "code",
   "execution_count": 29,
   "id": "4aba631e",
   "metadata": {},
   "outputs": [
    {
     "name": "stdout",
     "output_type": "stream",
     "text": [
      "       species  island   sex\n",
      "count      344     344   333\n",
      "unique       3       3     2\n",
      "top     Adelie  Biscoe  male\n",
      "freq       152     168   168\n"
     ]
    }
   ],
   "source": [
    "# Qualitative variables use the argument \"object\"\n",
    "print(palmer.describe(include=\"object\"))"
   ]
  },
  {
   "cell_type": "code",
   "execution_count": null,
   "id": "bad386a6",
   "metadata": {},
   "outputs": [
    {
     "name": "stdout",
     "output_type": "stream",
     "text": [
      "       species  island  bill_length_mm  bill_depth_mm  flipper_length_mm  \\\n",
      "count      344     344      342.000000     342.000000         342.000000   \n",
      "unique       3       3             NaN            NaN                NaN   \n",
      "top     Adelie  Biscoe             NaN            NaN                NaN   \n",
      "freq       152     168             NaN            NaN                NaN   \n",
      "mean       NaN     NaN       43.921930      17.151170         200.915205   \n",
      "std        NaN     NaN        5.459584       1.974793          14.061714   \n",
      "min        NaN     NaN       32.100000      13.100000         172.000000   \n",
      "25%        NaN     NaN       39.225000      15.600000         190.000000   \n",
      "50%        NaN     NaN       44.450000      17.300000         197.000000   \n",
      "75%        NaN     NaN       48.500000      18.700000         213.000000   \n",
      "max        NaN     NaN       59.600000      21.500000         231.000000   \n",
      "\n",
      "        body_mass_g   sex         year  \n",
      "count    342.000000   333   344.000000  \n",
      "unique          NaN     2          NaN  \n",
      "top             NaN  male          NaN  \n",
      "freq            NaN   168          NaN  \n",
      "mean    4201.754386   NaN  2008.029070  \n",
      "std      801.954536   NaN     0.818356  \n",
      "min     2700.000000   NaN  2007.000000  \n",
      "25%     3550.000000   NaN  2007.000000  \n",
      "50%     4050.000000   NaN  2008.000000  \n",
      "75%     4750.000000   NaN  2009.000000  \n",
      "max     6300.000000   NaN  2009.000000  \n"
     ]
    }
   ],
   "source": [
    "# You can use the argument \"all\" to get it for all variables,\n",
    "# but the resulting table is ugly and somewhat useless\n",
    "print(palmer.describe(include=\"all\"))"
   ]
  },
  {
   "cell_type": "markdown",
   "id": "efc60966",
   "metadata": {},
   "source": [
    "# Data cleaning\n",
    "\n",
    "Data cleaning is efficient, you can remove NaN values"
   ]
  },
  {
   "cell_type": "code",
   "execution_count": 32,
   "id": "6c14d180",
   "metadata": {},
   "outputs": [
    {
     "data": {
      "text/html": [
       "<div>\n",
       "<style scoped>\n",
       "    .dataframe tbody tr th:only-of-type {\n",
       "        vertical-align: middle;\n",
       "    }\n",
       "\n",
       "    .dataframe tbody tr th {\n",
       "        vertical-align: top;\n",
       "    }\n",
       "\n",
       "    .dataframe thead th {\n",
       "        text-align: right;\n",
       "    }\n",
       "</style>\n",
       "<table border=\"1\" class=\"dataframe\">\n",
       "  <thead>\n",
       "    <tr style=\"text-align: right;\">\n",
       "      <th></th>\n",
       "      <th>species</th>\n",
       "      <th>island</th>\n",
       "      <th>bill_length_mm</th>\n",
       "      <th>bill_depth_mm</th>\n",
       "      <th>flipper_length_mm</th>\n",
       "      <th>body_mass_g</th>\n",
       "      <th>sex</th>\n",
       "      <th>year</th>\n",
       "    </tr>\n",
       "  </thead>\n",
       "  <tbody>\n",
       "    <tr>\n",
       "      <th>0</th>\n",
       "      <td>Adelie</td>\n",
       "      <td>Torgersen</td>\n",
       "      <td>39.1</td>\n",
       "      <td>18.7</td>\n",
       "      <td>181.0</td>\n",
       "      <td>3750.0</td>\n",
       "      <td>male</td>\n",
       "      <td>2007</td>\n",
       "    </tr>\n",
       "    <tr>\n",
       "      <th>1</th>\n",
       "      <td>Adelie</td>\n",
       "      <td>Torgersen</td>\n",
       "      <td>39.5</td>\n",
       "      <td>17.4</td>\n",
       "      <td>186.0</td>\n",
       "      <td>3800.0</td>\n",
       "      <td>female</td>\n",
       "      <td>2007</td>\n",
       "    </tr>\n",
       "    <tr>\n",
       "      <th>2</th>\n",
       "      <td>Adelie</td>\n",
       "      <td>Torgersen</td>\n",
       "      <td>40.3</td>\n",
       "      <td>18.0</td>\n",
       "      <td>195.0</td>\n",
       "      <td>3250.0</td>\n",
       "      <td>female</td>\n",
       "      <td>2007</td>\n",
       "    </tr>\n",
       "    <tr>\n",
       "      <th>3</th>\n",
       "      <td>Adelie</td>\n",
       "      <td>Torgersen</td>\n",
       "      <td>NaN</td>\n",
       "      <td>NaN</td>\n",
       "      <td>NaN</td>\n",
       "      <td>NaN</td>\n",
       "      <td>NaN</td>\n",
       "      <td>2007</td>\n",
       "    </tr>\n",
       "    <tr>\n",
       "      <th>4</th>\n",
       "      <td>Adelie</td>\n",
       "      <td>Torgersen</td>\n",
       "      <td>36.7</td>\n",
       "      <td>19.3</td>\n",
       "      <td>193.0</td>\n",
       "      <td>3450.0</td>\n",
       "      <td>female</td>\n",
       "      <td>2007</td>\n",
       "    </tr>\n",
       "  </tbody>\n",
       "</table>\n",
       "</div>"
      ],
      "text/plain": [
       "  species     island  bill_length_mm  bill_depth_mm  flipper_length_mm  \\\n",
       "0  Adelie  Torgersen            39.1           18.7              181.0   \n",
       "1  Adelie  Torgersen            39.5           17.4              186.0   \n",
       "2  Adelie  Torgersen            40.3           18.0              195.0   \n",
       "3  Adelie  Torgersen             NaN            NaN                NaN   \n",
       "4  Adelie  Torgersen            36.7           19.3              193.0   \n",
       "\n",
       "   body_mass_g     sex  year  \n",
       "0       3750.0    male  2007  \n",
       "1       3800.0  female  2007  \n",
       "2       3250.0  female  2007  \n",
       "3          NaN     NaN  2007  \n",
       "4       3450.0  female  2007  "
      ]
     },
     "execution_count": 32,
     "metadata": {},
     "output_type": "execute_result"
    }
   ],
   "source": [
    "palmer.head()"
   ]
  },
  {
   "cell_type": "code",
   "execution_count": 35,
   "id": "49755224",
   "metadata": {},
   "outputs": [
    {
     "data": {
      "text/html": [
       "<div>\n",
       "<style scoped>\n",
       "    .dataframe tbody tr th:only-of-type {\n",
       "        vertical-align: middle;\n",
       "    }\n",
       "\n",
       "    .dataframe tbody tr th {\n",
       "        vertical-align: top;\n",
       "    }\n",
       "\n",
       "    .dataframe thead th {\n",
       "        text-align: right;\n",
       "    }\n",
       "</style>\n",
       "<table border=\"1\" class=\"dataframe\">\n",
       "  <thead>\n",
       "    <tr style=\"text-align: right;\">\n",
       "      <th></th>\n",
       "      <th>species</th>\n",
       "      <th>island</th>\n",
       "      <th>bill_length_mm</th>\n",
       "      <th>bill_depth_mm</th>\n",
       "      <th>flipper_length_mm</th>\n",
       "      <th>body_mass_g</th>\n",
       "      <th>sex</th>\n",
       "      <th>year</th>\n",
       "    </tr>\n",
       "  </thead>\n",
       "  <tbody>\n",
       "    <tr>\n",
       "      <th>0</th>\n",
       "      <td>Adelie</td>\n",
       "      <td>Torgersen</td>\n",
       "      <td>39.1</td>\n",
       "      <td>18.7</td>\n",
       "      <td>181.0</td>\n",
       "      <td>3750.0</td>\n",
       "      <td>male</td>\n",
       "      <td>2007</td>\n",
       "    </tr>\n",
       "    <tr>\n",
       "      <th>1</th>\n",
       "      <td>Adelie</td>\n",
       "      <td>Torgersen</td>\n",
       "      <td>39.5</td>\n",
       "      <td>17.4</td>\n",
       "      <td>186.0</td>\n",
       "      <td>3800.0</td>\n",
       "      <td>female</td>\n",
       "      <td>2007</td>\n",
       "    </tr>\n",
       "    <tr>\n",
       "      <th>2</th>\n",
       "      <td>Adelie</td>\n",
       "      <td>Torgersen</td>\n",
       "      <td>40.3</td>\n",
       "      <td>18.0</td>\n",
       "      <td>195.0</td>\n",
       "      <td>3250.0</td>\n",
       "      <td>female</td>\n",
       "      <td>2007</td>\n",
       "    </tr>\n",
       "    <tr>\n",
       "      <th>4</th>\n",
       "      <td>Adelie</td>\n",
       "      <td>Torgersen</td>\n",
       "      <td>36.7</td>\n",
       "      <td>19.3</td>\n",
       "      <td>193.0</td>\n",
       "      <td>3450.0</td>\n",
       "      <td>female</td>\n",
       "      <td>2007</td>\n",
       "    </tr>\n",
       "    <tr>\n",
       "      <th>5</th>\n",
       "      <td>Adelie</td>\n",
       "      <td>Torgersen</td>\n",
       "      <td>39.3</td>\n",
       "      <td>20.6</td>\n",
       "      <td>190.0</td>\n",
       "      <td>3650.0</td>\n",
       "      <td>male</td>\n",
       "      <td>2007</td>\n",
       "    </tr>\n",
       "  </tbody>\n",
       "</table>\n",
       "</div>"
      ],
      "text/plain": [
       "  species     island  bill_length_mm  bill_depth_mm  flipper_length_mm  \\\n",
       "0  Adelie  Torgersen            39.1           18.7              181.0   \n",
       "1  Adelie  Torgersen            39.5           17.4              186.0   \n",
       "2  Adelie  Torgersen            40.3           18.0              195.0   \n",
       "4  Adelie  Torgersen            36.7           19.3              193.0   \n",
       "5  Adelie  Torgersen            39.3           20.6              190.0   \n",
       "\n",
       "   body_mass_g     sex  year  \n",
       "0       3750.0    male  2007  \n",
       "1       3800.0  female  2007  \n",
       "2       3250.0  female  2007  \n",
       "4       3450.0  female  2007  \n",
       "5       3650.0    male  2007  "
      ]
     },
     "execution_count": 35,
     "metadata": {},
     "output_type": "execute_result"
    }
   ],
   "source": [
    "palmer.dropna(inplace=False).head()"
   ]
  },
  {
   "cell_type": "code",
   "execution_count": 36,
   "id": "b0398bd9",
   "metadata": {},
   "outputs": [],
   "source": [
    "# Data cleaning is efficient, you can remove\n",
    "#palmer.dropna(inplace=False)\n",
    "#palmer.dropna(inplace=False, subset=[\"sex\"])\n",
    "#palmer[palmer.isna().any(axis=1)]"
   ]
  },
  {
   "cell_type": "code",
   "execution_count": 74,
   "id": "8649a9be",
   "metadata": {},
   "outputs": [
    {
     "name": "stdout",
     "output_type": "stream",
     "text": [
      "    species  island  bill_length_mm  bill_depth_mm  flipper_length_mm  \\\n",
      "267  Gentoo  Biscoe            55.1           16.0              230.0   \n",
      "268  Gentoo  Biscoe            44.5           15.7              217.0   \n",
      "269  Gentoo  Biscoe            48.8           16.2              222.0   \n",
      "270  Gentoo  Biscoe            47.2           13.7              214.0   \n",
      "271  Gentoo  Biscoe             NaN            NaN                NaN   \n",
      "272  Gentoo  Biscoe            46.8           14.3              215.0   \n",
      "\n",
      "     body_mass_g     sex  year  \n",
      "267       5850.0    male  2009  \n",
      "268       4875.0     NaN  2009  \n",
      "269       6000.0    male  2009  \n",
      "270       4925.0  female  2009  \n",
      "271          NaN     NaN  2009  \n",
      "272       4850.0  female  2009  \n"
     ]
    }
   ],
   "source": [
    "# Removing NaN on only a particular variable\n",
    "# .dropna() removes values that are \n",
    "palmer_piece = palmer.loc[267:272, :].copy()\n",
    "#\n",
    "print(palmer_piece)"
   ]
  },
  {
   "cell_type": "code",
   "execution_count": null,
   "id": "8b688a81",
   "metadata": {},
   "outputs": [
    {
     "name": "stdout",
     "output_type": "stream",
     "text": [
      "--------------------------------------------------\n",
      "    species  island  bill_length_mm  bill_depth_mm  flipper_length_mm  \\\n",
      "267  Gentoo  Biscoe            55.1           16.0              230.0   \n",
      "269  Gentoo  Biscoe            48.8           16.2              222.0   \n",
      "270  Gentoo  Biscoe            47.2           13.7              214.0   \n",
      "272  Gentoo  Biscoe            46.8           14.3              215.0   \n",
      "\n",
      "     body_mass_g     sex  year  \n",
      "267       5850.0    male  2009  \n",
      "269       6000.0    male  2009  \n",
      "270       4925.0  female  2009  \n",
      "272       4850.0  female  2009  \n"
     ]
    }
   ],
   "source": [
    "# If you use .dropna(), you will remove both rows 268 and 271\n",
    "#\n",
    "print(palmer_piece.dropna())\n"
   ]
  },
  {
   "cell_type": "code",
   "execution_count": 76,
   "id": "34defcf4",
   "metadata": {},
   "outputs": [
    {
     "name": "stdout",
     "output_type": "stream",
     "text": [
      "    species  island  bill_length_mm  bill_depth_mm  flipper_length_mm  \\\n",
      "267  Gentoo  Biscoe            55.1           16.0              230.0   \n",
      "268  Gentoo  Biscoe            44.5           15.7              217.0   \n",
      "269  Gentoo  Biscoe            48.8           16.2              222.0   \n",
      "270  Gentoo  Biscoe            47.2           13.7              214.0   \n",
      "272  Gentoo  Biscoe            46.8           14.3              215.0   \n",
      "\n",
      "     body_mass_g     sex  year  \n",
      "267       5850.0    male  2009  \n",
      "268       4875.0     NaN  2009  \n",
      "269       6000.0    male  2009  \n",
      "270       4925.0  female  2009  \n",
      "272       4850.0  female  2009  \n"
     ]
    }
   ],
   "source": [
    "# But you can specify on which columns you want to drop rows if they contain NaN values\n",
    "#\n",
    "print(palmer_piece.dropna(subset=[\"bill_depth_mm\"]))"
   ]
  },
  {
   "cell_type": "code",
   "execution_count": 93,
   "id": "5f3a913c",
   "metadata": {},
   "outputs": [
    {
     "name": "stdout",
     "output_type": "stream",
     "text": [
      "0      2.090909\n",
      "1      2.270115\n",
      "2      2.238889\n",
      "3           NaN\n",
      "4      1.901554\n",
      "         ...   \n",
      "339    2.818182\n",
      "340    2.403315\n",
      "341    2.725275\n",
      "342    2.673684\n",
      "343    2.684492\n",
      "Length: 344, dtype: float64\n"
     ]
    }
   ],
   "source": [
    "#  You can build new variables\n",
    "print(palmer[\"bill_length_mm\"] / palmer[\"bill_depth_mm\"])\n",
    "\n",
    "# Adding a column is done simply by \n",
    "palmer[\"bill_ratio\"] = palmer[\"bill_length_mm\"] / palmer[\"bill_depth_mm\"]"
   ]
  },
  {
   "cell_type": "code",
   "execution_count": 45,
   "id": "ea9f71d4",
   "metadata": {},
   "outputs": [
    {
     "name": "stdout",
     "output_type": "stream",
     "text": [
      "Index(['species', 'island', 'bill_length_mm', 'bill_depth_mm',\n",
      "       'flipper_length_mm', 'body_mass_g', 'sex', 'year', 'bill_ratio'],\n",
      "      dtype='object')\n"
     ]
    }
   ],
   "source": [
    "# You can check to make sure it is there.\n",
    "print(palmer.columns)"
   ]
  },
  {
   "cell_type": "markdown",
   "id": "ee9791fd",
   "metadata": {},
   "source": [
    "# XXX Summarizing variables using .groupby"
   ]
  },
  {
   "cell_type": "code",
   "execution_count": 77,
   "id": "b97b670d",
   "metadata": {},
   "outputs": [
    {
     "name": "stdout",
     "output_type": "stream",
     "text": [
      "<pandas.core.groupby.generic.DataFrameGroupBy object at 0x0000023A51B98AD0>\n",
      "<class 'pandas.core.groupby.generic.DataFrameGroupBy'>\n"
     ]
    }
   ],
   "source": [
    "# You can use the .groupby() method to group dataframes by a qualitative variable\n",
    "print(palmer.groupby(by=\"island\"))\n",
    "print(type(palmer.groupby(by=\"island\")))"
   ]
  },
  {
   "cell_type": "code",
   "execution_count": 81,
   "id": "39909889",
   "metadata": {},
   "outputs": [
    {
     "name": "stdout",
     "output_type": "stream",
     "text": [
      "Average penguin bill length by island\n"
     ]
    },
    {
     "data": {
      "text/html": [
       "<div>\n",
       "<style scoped>\n",
       "    .dataframe tbody tr th:only-of-type {\n",
       "        vertical-align: middle;\n",
       "    }\n",
       "\n",
       "    .dataframe tbody tr th {\n",
       "        vertical-align: top;\n",
       "    }\n",
       "\n",
       "    .dataframe thead th {\n",
       "        text-align: right;\n",
       "    }\n",
       "</style>\n",
       "<table border=\"1\" class=\"dataframe\">\n",
       "  <thead>\n",
       "    <tr style=\"text-align: right;\">\n",
       "      <th></th>\n",
       "      <th>species</th>\n",
       "      <th>bill_length_mm</th>\n",
       "      <th>bill_depth_mm</th>\n",
       "      <th>flipper_length_mm</th>\n",
       "      <th>body_mass_g</th>\n",
       "      <th>sex</th>\n",
       "      <th>year</th>\n",
       "    </tr>\n",
       "    <tr>\n",
       "      <th>island</th>\n",
       "      <th></th>\n",
       "      <th></th>\n",
       "      <th></th>\n",
       "      <th></th>\n",
       "      <th></th>\n",
       "      <th></th>\n",
       "      <th></th>\n",
       "    </tr>\n",
       "  </thead>\n",
       "  <tbody>\n",
       "    <tr>\n",
       "      <th>Biscoe</th>\n",
       "      <td>168</td>\n",
       "      <td>167</td>\n",
       "      <td>167</td>\n",
       "      <td>167</td>\n",
       "      <td>167</td>\n",
       "      <td>163</td>\n",
       "      <td>168</td>\n",
       "    </tr>\n",
       "    <tr>\n",
       "      <th>Dream</th>\n",
       "      <td>124</td>\n",
       "      <td>124</td>\n",
       "      <td>124</td>\n",
       "      <td>124</td>\n",
       "      <td>124</td>\n",
       "      <td>123</td>\n",
       "      <td>124</td>\n",
       "    </tr>\n",
       "    <tr>\n",
       "      <th>Torgersen</th>\n",
       "      <td>52</td>\n",
       "      <td>51</td>\n",
       "      <td>51</td>\n",
       "      <td>51</td>\n",
       "      <td>51</td>\n",
       "      <td>47</td>\n",
       "      <td>52</td>\n",
       "    </tr>\n",
       "  </tbody>\n",
       "</table>\n",
       "</div>"
      ],
      "text/plain": [
       "           species  bill_length_mm  bill_depth_mm  flipper_length_mm  \\\n",
       "island                                                                 \n",
       "Biscoe         168             167            167                167   \n",
       "Dream          124             124            124                124   \n",
       "Torgersen       52              51             51                 51   \n",
       "\n",
       "           body_mass_g  sex  year  \n",
       "island                             \n",
       "Biscoe             167  163   168  \n",
       "Dream              124  123   124  \n",
       "Torgersen           51   47    52  "
      ]
     },
     "execution_count": 81,
     "metadata": {},
     "output_type": "execute_result"
    }
   ],
   "source": [
    "# You can get the function you want by using it as a method afterwards\n",
    "# .count()\n",
    "# .mean()\n",
    "# .min()\n",
    "# .max()\n",
    "print(\"Average penguin bill length by island\")\n",
    "(palmer.groupby(by=\"island\").count())"
   ]
  },
  {
   "cell_type": "code",
   "execution_count": null,
   "id": "00e651e3",
   "metadata": {},
   "outputs": [],
   "source": [
    "# The following code will fail, but look at the output to\n",
    "# understand\n",
    "#\n",
    "# You want to change the aggregate function\n",
    "print(\"Average penguin bill length by island\")\n",
    "print(palmer.groupby(by=\"island\").mean())"
   ]
  },
  {
   "cell_type": "code",
   "execution_count": 86,
   "id": "eb78c6f4",
   "metadata": {},
   "outputs": [
    {
     "name": "stdout",
     "output_type": "stream",
     "text": [
      "Average penguin bill length by island\n"
     ]
    },
    {
     "data": {
      "text/plain": [
       "island\n",
       "Biscoe       45.257485\n",
       "Dream        44.167742\n",
       "Torgersen    38.950980\n",
       "Name: bill_length_mm, dtype: float64"
      ]
     },
     "execution_count": 86,
     "metadata": {},
     "output_type": "execute_result"
    }
   ],
   "source": [
    "# You can consider a single variable by appending it at the end\n",
    "print(\"Average penguin bill length by island\")\n",
    "(palmer.groupby(by=\"island\")[\"bill_length_mm\"].mean())"
   ]
  },
  {
   "cell_type": "code",
   "execution_count": null,
   "id": "e5f68936",
   "metadata": {},
   "outputs": [
    {
     "name": "stdout",
     "output_type": "stream",
     "text": [
      "Average penguin bill length by island\n"
     ]
    },
    {
     "data": {
      "text/plain": [
       "island     species  \n",
       "Biscoe     Adelie       38.975000\n",
       "           Gentoo       47.504878\n",
       "Dream      Adelie       38.501786\n",
       "           Chinstrap    48.833824\n",
       "Torgersen  Adelie       38.950980\n",
       "Name: bill_length_mm, dtype: float64"
      ]
     },
     "execution_count": 89,
     "metadata": {},
     "output_type": "execute_result"
    }
   ],
   "source": [
    "# You can submit more than one variable in the \"by\" parameter\n",
    "# These are considered in succession\n",
    "print(\"Average penguin bill length by island, then by species\")\n",
    "(palmer.groupby(by=[\"island\", \"species\"])[\"bill_length_mm\"].mean())"
   ]
  },
  {
   "cell_type": "code",
   "execution_count": 90,
   "id": "41a62c86",
   "metadata": {},
   "outputs": [
    {
     "name": "stdout",
     "output_type": "stream",
     "text": [
      "Average penguin bill length by island, then by species, then by sex\n"
     ]
    },
    {
     "data": {
      "text/plain": [
       "island     species    sex   \n",
       "Biscoe     Adelie     female    37.359091\n",
       "                      male      40.590909\n",
       "           Gentoo     female    45.563793\n",
       "                      male      49.473770\n",
       "Dream      Adelie     female    36.911111\n",
       "                      male      40.071429\n",
       "           Chinstrap  female    46.573529\n",
       "                      male      51.094118\n",
       "Torgersen  Adelie     female    37.554167\n",
       "                      male      40.586957\n",
       "Name: bill_length_mm, dtype: float64"
      ]
     },
     "execution_count": 90,
     "metadata": {},
     "output_type": "execute_result"
    }
   ],
   "source": [
    "# You can submit more than one variable in the \"by\" parameter\n",
    "# These are considered in succession\n",
    "print(\"Average penguin bill length by island, then by species, then by sex\")\n",
    "(palmer.groupby(by=[\"island\", \"species\", \"sex\"])[\"bill_length_mm\"].mean())"
   ]
  },
  {
   "cell_type": "code",
   "execution_count": 91,
   "id": "0a97f8f3",
   "metadata": {},
   "outputs": [
    {
     "name": "stdout",
     "output_type": "stream",
     "text": [
      "Average penguin bill length and depth by island, then by species, then by sex\n"
     ]
    },
    {
     "data": {
      "text/html": [
       "<div>\n",
       "<style scoped>\n",
       "    .dataframe tbody tr th:only-of-type {\n",
       "        vertical-align: middle;\n",
       "    }\n",
       "\n",
       "    .dataframe tbody tr th {\n",
       "        vertical-align: top;\n",
       "    }\n",
       "\n",
       "    .dataframe thead th {\n",
       "        text-align: right;\n",
       "    }\n",
       "</style>\n",
       "<table border=\"1\" class=\"dataframe\">\n",
       "  <thead>\n",
       "    <tr style=\"text-align: right;\">\n",
       "      <th></th>\n",
       "      <th></th>\n",
       "      <th></th>\n",
       "      <th>bill_length_mm</th>\n",
       "      <th>bill_length_mm</th>\n",
       "    </tr>\n",
       "    <tr>\n",
       "      <th>island</th>\n",
       "      <th>species</th>\n",
       "      <th>sex</th>\n",
       "      <th></th>\n",
       "      <th></th>\n",
       "    </tr>\n",
       "  </thead>\n",
       "  <tbody>\n",
       "    <tr>\n",
       "      <th rowspan=\"4\" valign=\"top\">Biscoe</th>\n",
       "      <th rowspan=\"2\" valign=\"top\">Adelie</th>\n",
       "      <th>female</th>\n",
       "      <td>37.359091</td>\n",
       "      <td>37.359091</td>\n",
       "    </tr>\n",
       "    <tr>\n",
       "      <th>male</th>\n",
       "      <td>40.590909</td>\n",
       "      <td>40.590909</td>\n",
       "    </tr>\n",
       "    <tr>\n",
       "      <th rowspan=\"2\" valign=\"top\">Gentoo</th>\n",
       "      <th>female</th>\n",
       "      <td>45.563793</td>\n",
       "      <td>45.563793</td>\n",
       "    </tr>\n",
       "    <tr>\n",
       "      <th>male</th>\n",
       "      <td>49.473770</td>\n",
       "      <td>49.473770</td>\n",
       "    </tr>\n",
       "    <tr>\n",
       "      <th rowspan=\"4\" valign=\"top\">Dream</th>\n",
       "      <th rowspan=\"2\" valign=\"top\">Adelie</th>\n",
       "      <th>female</th>\n",
       "      <td>36.911111</td>\n",
       "      <td>36.911111</td>\n",
       "    </tr>\n",
       "    <tr>\n",
       "      <th>male</th>\n",
       "      <td>40.071429</td>\n",
       "      <td>40.071429</td>\n",
       "    </tr>\n",
       "    <tr>\n",
       "      <th rowspan=\"2\" valign=\"top\">Chinstrap</th>\n",
       "      <th>female</th>\n",
       "      <td>46.573529</td>\n",
       "      <td>46.573529</td>\n",
       "    </tr>\n",
       "    <tr>\n",
       "      <th>male</th>\n",
       "      <td>51.094118</td>\n",
       "      <td>51.094118</td>\n",
       "    </tr>\n",
       "    <tr>\n",
       "      <th rowspan=\"2\" valign=\"top\">Torgersen</th>\n",
       "      <th rowspan=\"2\" valign=\"top\">Adelie</th>\n",
       "      <th>female</th>\n",
       "      <td>37.554167</td>\n",
       "      <td>37.554167</td>\n",
       "    </tr>\n",
       "    <tr>\n",
       "      <th>male</th>\n",
       "      <td>40.586957</td>\n",
       "      <td>40.586957</td>\n",
       "    </tr>\n",
       "  </tbody>\n",
       "</table>\n",
       "</div>"
      ],
      "text/plain": [
       "                            bill_length_mm  bill_length_mm\n",
       "island    species   sex                                   \n",
       "Biscoe    Adelie    female       37.359091       37.359091\n",
       "                    male         40.590909       40.590909\n",
       "          Gentoo    female       45.563793       45.563793\n",
       "                    male         49.473770       49.473770\n",
       "Dream     Adelie    female       36.911111       36.911111\n",
       "                    male         40.071429       40.071429\n",
       "          Chinstrap female       46.573529       46.573529\n",
       "                    male         51.094118       51.094118\n",
       "Torgersen Adelie    female       37.554167       37.554167\n",
       "                    male         40.586957       40.586957"
      ]
     },
     "execution_count": 91,
     "metadata": {},
     "output_type": "execute_result"
    }
   ],
   "source": [
    "# More than one variable can be submitted, in which case they must be a list\n",
    "# You can submit more than one variable in the \"by\" parameter\n",
    "# These are considered in succession\n",
    "print(\"Average penguin bill length and depth by island, then by species, then by sex\")\n",
    "(palmer.groupby(by=[\"island\", \"species\", \"sex\"])[[\"bill_length_mm\", \"bill_length_mm\"]].mean())"
   ]
  },
  {
   "cell_type": "code",
   "execution_count": 94,
   "id": "d30c2eff",
   "metadata": {},
   "outputs": [
    {
     "data": {
      "text/html": [
       "<div>\n",
       "<style scoped>\n",
       "    .dataframe tbody tr th:only-of-type {\n",
       "        vertical-align: middle;\n",
       "    }\n",
       "\n",
       "    .dataframe tbody tr th {\n",
       "        vertical-align: top;\n",
       "    }\n",
       "\n",
       "    .dataframe thead tr th {\n",
       "        text-align: left;\n",
       "    }\n",
       "\n",
       "    .dataframe thead tr:last-of-type th {\n",
       "        text-align: right;\n",
       "    }\n",
       "</style>\n",
       "<table border=\"1\" class=\"dataframe\">\n",
       "  <thead>\n",
       "    <tr>\n",
       "      <th></th>\n",
       "      <th></th>\n",
       "      <th colspan=\"3\" halign=\"left\">body_mass_g</th>\n",
       "      <th colspan=\"3\" halign=\"left\">bill_ratio</th>\n",
       "    </tr>\n",
       "    <tr>\n",
       "      <th></th>\n",
       "      <th></th>\n",
       "      <th>min</th>\n",
       "      <th>median</th>\n",
       "      <th>max</th>\n",
       "      <th>min</th>\n",
       "      <th>median</th>\n",
       "      <th>max</th>\n",
       "    </tr>\n",
       "    <tr>\n",
       "      <th>species</th>\n",
       "      <th>sex</th>\n",
       "      <th></th>\n",
       "      <th></th>\n",
       "      <th></th>\n",
       "      <th></th>\n",
       "      <th></th>\n",
       "      <th></th>\n",
       "    </tr>\n",
       "  </thead>\n",
       "  <tbody>\n",
       "    <tr>\n",
       "      <th rowspan=\"2\" valign=\"top\">Adelie</th>\n",
       "      <th>female</th>\n",
       "      <td>2850.0</td>\n",
       "      <td>3400.0</td>\n",
       "      <td>3900.0</td>\n",
       "      <td>1.763158</td>\n",
       "      <td>2.105263</td>\n",
       "      <td>2.434524</td>\n",
       "    </tr>\n",
       "    <tr>\n",
       "      <th>male</th>\n",
       "      <td>3325.0</td>\n",
       "      <td>4000.0</td>\n",
       "      <td>4775.0</td>\n",
       "      <td>1.639810</td>\n",
       "      <td>2.151832</td>\n",
       "      <td>2.450000</td>\n",
       "    </tr>\n",
       "    <tr>\n",
       "      <th rowspan=\"2\" valign=\"top\">Chinstrap</th>\n",
       "      <th>female</th>\n",
       "      <td>2700.0</td>\n",
       "      <td>3550.0</td>\n",
       "      <td>4150.0</td>\n",
       "      <td>2.350515</td>\n",
       "      <td>2.628989</td>\n",
       "      <td>3.258427</td>\n",
       "    </tr>\n",
       "    <tr>\n",
       "      <th>male</th>\n",
       "      <td>3250.0</td>\n",
       "      <td>3950.0</td>\n",
       "      <td>4800.0</td>\n",
       "      <td>2.477387</td>\n",
       "      <td>2.667567</td>\n",
       "      <td>2.872928</td>\n",
       "    </tr>\n",
       "    <tr>\n",
       "      <th rowspan=\"2\" valign=\"top\">Gentoo</th>\n",
       "      <th>female</th>\n",
       "      <td>3950.0</td>\n",
       "      <td>4700.0</td>\n",
       "      <td>5200.0</td>\n",
       "      <td>2.836735</td>\n",
       "      <td>3.218840</td>\n",
       "      <td>3.492424</td>\n",
       "    </tr>\n",
       "    <tr>\n",
       "      <th>male</th>\n",
       "      <td>4750.0</td>\n",
       "      <td>5500.0</td>\n",
       "      <td>6300.0</td>\n",
       "      <td>2.566474</td>\n",
       "      <td>3.132075</td>\n",
       "      <td>3.612676</td>\n",
       "    </tr>\n",
       "  </tbody>\n",
       "</table>\n",
       "</div>"
      ],
      "text/plain": [
       "                 body_mass_g                 bill_ratio                    \n",
       "                         min  median     max        min    median       max\n",
       "species   sex                                                              \n",
       "Adelie    female      2850.0  3400.0  3900.0   1.763158  2.105263  2.434524\n",
       "          male        3325.0  4000.0  4775.0   1.639810  2.151832  2.450000\n",
       "Chinstrap female      2700.0  3550.0  4150.0   2.350515  2.628989  3.258427\n",
       "          male        3250.0  3950.0  4800.0   2.477387  2.667567  2.872928\n",
       "Gentoo    female      3950.0  4700.0  5200.0   2.836735  3.218840  3.492424\n",
       "          male        4750.0  5500.0  6300.0   2.566474  3.132075  3.612676"
      ]
     },
     "execution_count": 94,
     "metadata": {},
     "output_type": "execute_result"
    }
   ],
   "source": [
    "# You can even go full complexity by aggregating multiple variables\n",
    "palmer.groupby([\"species\", \"sex\"])[[\"body_mass_g\", \"bill_ratio\"]].agg([\"min\", \"median\", \"max\"])"
   ]
  },
  {
   "cell_type": "markdown",
   "id": "9bdef1ab",
   "metadata": {},
   "source": [
    "# PIVOT STACK et al."
   ]
  },
  {
   "cell_type": "code",
   "execution_count": 100,
   "id": "c4216c30",
   "metadata": {},
   "outputs": [
    {
     "name": "stdout",
     "output_type": "stream",
     "text": [
      "Average penguin bill length by island, then by species\n",
      "island     species  \n",
      "Biscoe     Adelie       38.975000\n",
      "           Gentoo       47.504878\n",
      "Dream      Adelie       38.501786\n",
      "           Chinstrap    48.833824\n",
      "Torgersen  Adelie       38.950980\n",
      "Name: bill_length_mm, dtype: float64\n"
     ]
    }
   ],
   "source": [
    "# You can submit more than one variable in the \"by\" parameter\n",
    "# These are considered in succession\n",
    "toto = (palmer.groupby(by=[\"island\", \"species\"])[\"bill_length_mm\"].mean())\n",
    "\n",
    "print(\"Average penguin bill length by island, then by species\")\n",
    "print(toto)"
   ]
  },
  {
   "cell_type": "code",
   "execution_count": null,
   "id": "5c0fb20a",
   "metadata": {},
   "outputs": [
    {
     "name": "stdout",
     "output_type": "stream",
     "text": [
      "species       Adelie  Chinstrap     Gentoo\n",
      "island                                    \n",
      "Biscoe     38.975000        NaN  47.504878\n",
      "Dream      38.501786  48.833824        NaN\n",
      "Torgersen  38.950980        NaN        NaN\n",
      "island     species  \n",
      "Biscoe     Adelie       38.975000\n",
      "           Gentoo       47.504878\n",
      "Dream      Adelie       38.501786\n",
      "           Chinstrap    48.833824\n",
      "Torgersen  Adelie       38.950980\n",
      "Name: bill_length_mm, dtype: float64\n"
     ]
    }
   ],
   "source": [
    "# Unstack\n",
    "print(toto.unstack())"
   ]
  },
  {
   "cell_type": "code",
   "execution_count": 105,
   "id": "2edaf8af",
   "metadata": {},
   "outputs": [
    {
     "data": {
      "text/plain": [
       "island     species  \n",
       "Biscoe     Adelie       38.975000\n",
       "           Gentoo       47.504878\n",
       "Dream      Adelie       38.501786\n",
       "           Chinstrap    48.833824\n",
       "Torgersen  Adelie       38.950980\n",
       "Name: bill_length_mm, dtype: float64"
      ]
     },
     "execution_count": 105,
     "metadata": {},
     "output_type": "execute_result"
    }
   ],
   "source": [
    "toto"
   ]
  },
  {
   "cell_type": "code",
   "execution_count": null,
   "id": "381ad4d8",
   "metadata": {},
   "outputs": [
    {
     "name": "stdout",
     "output_type": "stream",
     "text": [
      "species       Adelie  Chinstrap     Gentoo\n",
      "island                                    \n",
      "Biscoe     38.975000        NaN  47.504878\n",
      "Dream      38.501786  48.833824        NaN\n",
      "Torgersen  38.950980        NaN        NaN\n"
     ]
    }
   ],
   "source": [
    "# Reset the index to convert the MultiIndex into columns\n",
    "toto_df = toto.reset_index()\n",
    "\n",
    "# Pivot the DataFrame: 'island' as rows, 'species' as columns, and 'bill_length_mm' as values\n",
    "pivoted_df = toto_df.pivot(index=\"island\", columns=\"species\", values=\"bill_length_mm\")\n",
    "\n",
    "# Display the result\n",
    "print(pivoted_df)"
   ]
  }
 ],
 "metadata": {
  "kernelspec": {
   "display_name": ".venv",
   "language": "python",
   "name": "python3"
  },
  "language_info": {
   "codemirror_mode": {
    "name": "ipython",
    "version": 3
   },
   "file_extension": ".py",
   "mimetype": "text/x-python",
   "name": "python",
   "nbconvert_exporter": "python",
   "pygments_lexer": "ipython3",
   "version": "3.13.3"
  }
 },
 "nbformat": 4,
 "nbformat_minor": 5
}
