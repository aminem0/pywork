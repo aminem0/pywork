{
 "cells": [
  {
   "cell_type": "markdown",
   "id": "58ff00f9",
   "metadata": {},
   "source": [
    "# Jupyter Notebook: 08_geopandas_basics.ipynb\n",
    "\n",
    "# ---\n",
    "\n",
    "# # GeoPandas Basics\n",
    "\n",
    "Today we'll learn how to work with **vector spatial data** (points, lines, polygons) using **GeoPandas**! 🗺️🐼\n",
    "\n",
    "---\n",
    "\n",
    "## Table of Contents\n",
    "\n",
    "1. What is GeoPandas?\n",
    "2. GeoDataFrames\n",
    "3. Reading Shapefiles and GeoJSON\n",
    "4. Plotting Spatial Data\n",
    "5. Basic Spatial Operations\n",
    "6. Coordinate Reference Systems (CRS)\n",
    "7. Mini-Exercises\n",
    "\n",
    "---\n",
    "\n",
    "# 1. What is GeoPandas?\n",
    "\n",
    "**GeoPandas** extends **pandas** to work with **geometries** (points, lines, polygons).\n",
    "\n",
    "Install it if needed:\n",
    "\n",
    "```bash\n",
    "pip install geopandas\n",
    "```\n",
    "\n",
    "Import it:\n",
    "\n",
    "```python\n",
    "import geopandas as gpd\n",
    "```\n",
    "\n",
    "---\n",
    "\n",
    "# 2. GeoDataFrames\n",
    "\n",
    "A **GeoDataFrame** is like a pandas DataFrame, but it stores a special `geometry` column.\n",
    "\n",
    "Let's create one manually:\n",
    "\n",
    "```python\n",
    "from shapely.geometry import Point\n",
    "\n",
    "# Sample data\n",
    "cities = [\"Montreal\", \"Paris\", \"Sydney\"]\n",
    "latitudes = [45.5017, 48.8566, -33.8688]\n",
    "longitudes = [-73.5673, 2.3522, 151.2093]\n",
    "\n",
    "# Create Points\n",
    "geometry = [Point(xy) for xy in zip(longitudes, latitudes)]\n",
    "\n",
    "# Create GeoDataFrame\n",
    "gdf = gpd.GeoDataFrame({\"City\": cities, \"Latitude\": latitudes, \"Longitude\": longitudes}, geometry=geometry)\n",
    "\n",
    "gdf\n",
    "```\n",
    "\n",
    "---\n",
    "\n",
    "# 3. Reading Shapefiles and GeoJSON\n",
    "\n",
    "You can load real spatial datasets easily:\n",
    "\n",
    "```python\n",
    "# Example: world countries\n",
    "world = gpd.read_file(gpd.datasets.get_path('naturalearth_lowres'))\n",
    "\n",
    "world.head()\n",
    "```\n",
    "\n",
    "Preview the dataset:\n",
    "\n",
    "```python\n",
    "world.plot(figsize=(12,8))\n",
    "```\n",
    "\n",
    "---\n",
    "\n",
    "# 4. Plotting Spatial Data\n",
    "\n",
    "GeoPandas makes plotting easy with Matplotlib behind the scenes:\n",
    "\n",
    "```python\n",
    "# Basic map\n",
    "world.plot()\n",
    "```\n",
    "\n",
    "Customize colors:\n",
    "\n",
    "```python\n",
    "world.plot(color=\"lightblue\", edgecolor=\"black\", figsize=(12,8))\n",
    "```\n",
    "\n",
    "Color by attribute:\n",
    "\n",
    "```python\n",
    "world.plot(column='continent', categorical=True, legend=True, figsize=(12,8))\n",
    "```\n",
    "\n",
    "---\n",
    "\n",
    "# 5. Basic Spatial Operations\n",
    "\n",
    "GeoPandas provides powerful spatial methods!\n",
    "\n",
    "## 5.1 Filtering by Attribute\n",
    "\n",
    "```python\n",
    "# Select countries in Africa\n",
    "africa = world[world['continent'] == 'Africa']\n",
    "africa.plot(color='coral', figsize=(10,6))\n",
    "```\n",
    "\n",
    "## 5.2 Buffer (creating a zone around geometries)\n",
    "\n",
    "```python\n",
    "# Buffer cities by 5 degrees (big circles for demo)\n",
    "buffered_cities = gdf.copy()\n",
    "buffered_cities[\"geometry\"] = buffered_cities.buffer(5)\n",
    "\n",
    "buffered_cities.plot(alpha=0.5)\n",
    "```\n",
    "\n",
    "## 5.3 Intersection\n",
    "\n",
    "```python\n",
    "# Find intersection between buffered cities and world\n",
    "intersection = gpd.overlay(world, buffered_cities, how='intersection')\n",
    "intersection.plot(color='purple', alpha=0.5)\n",
    "```\n",
    "\n",
    "## 5.4 Distance Calculations\n",
    "\n",
    "```python\n",
    "# Distance from Montreal to other cities\n",
    "montreal = gdf[gdf['City'] == 'Montreal'].geometry.iloc[0]\n",
    "gdf[\"Distance_to_Montreal\"] = gdf.distance(montreal)\n",
    "\n",
    "print(gdf[[\"City\", \"Distance_to_Montreal\"]])\n",
    "```\n",
    "\n",
    "⚠️ **Warning:** Distance units depend on CRS! (More below)\n",
    "\n",
    "---\n",
    "\n",
    "# 6. Coordinate Reference Systems (CRS)\n",
    "\n",
    "Check the CRS of a GeoDataFrame:\n",
    "\n",
    "```python\n",
    "print(world.crs)\n",
    "```\n",
    "\n",
    "Reproject to another CRS:\n",
    "\n",
    "```python\n",
    "# Reproject to Mercator (meters)\n",
    "world_merc = world.to_crs(epsg=3857)\n",
    "\n",
    "# Plot reprojected\n",
    "world_merc.plot(figsize=(12,8))\n",
    "```\n",
    "\n",
    "---\n",
    "\n",
    "# 7. Mini-Exercises\n",
    "\n",
    "### 7.1 Load the world dataset and filter countries in South America\n",
    "\n",
    "```python\n",
    "# Your code here\n",
    "south_america = world[world['continent'] == 'South America']\n",
    "south_america.plot(color='green', figsize=(10,6))\n",
    "```\n",
    "\n",
    "### 7.2 Plot points for Buenos Aires (Argentina) and Rio de Janeiro (Brazil)\n",
    "\n",
    "```python\n",
    "# Your code here\n",
    "cities_sa = [\"Buenos Aires\", \"Rio de Janeiro\"]\n",
    "lat_sa = [-34.6037, -22.9068]\n",
    "lon_sa = [-58.3816, -43.1729]\n",
    "\n",
    "geometry_sa = [Point(xy) for xy in zip(lon_sa, lat_sa)]\n",
    "\n",
    "gdf_sa = gpd.GeoDataFrame({\"City\": cities_sa}, geometry=geometry_sa)\n",
    "\n",
    "ax = south_america.plot(color='lightgreen', figsize=(10,6))\n",
    "gdf_sa.plot(ax=ax, color='red', markersize=50)\n",
    "```\n",
    "\n",
    "### 7.3 Buffer Buenos Aires by 2 degrees and show on map\n",
    "\n",
    "```python\n",
    "# Your code here\n",
    "buffered_ba = gdf_sa[gdf_sa['City'] == 'Buenos Aires'].buffer(2)\n",
    "\n",
    "ax = south_america.plot(color='lightgreen', figsize=(10,6))\n",
    "gdf_sa.plot(ax=ax, color='red', markersize=50)\n",
    "buffered_ba.plot(ax=ax, color='blue', alpha=0.5)\n",
    "```\n",
    "\n",
    "---\n",
    "\n",
    "# Congratulations! 🎉\n",
    "\n",
    "You've learned how to work with **GeoDataFrames**, **spatial operations**, **CRS**, and **mapping** using **GeoPandas**!\n",
    "\n",
    "Next we'll explore raster data with **rasterio**! 🛰️📈\n",
    "\n",
    "---\n",
    "\n",
    "# Quick Recap\n",
    "- GeoDataFrames store geometries + attributes.\n",
    "- Read shapefiles/GeoJSON easily.\n",
    "- Plot maps with simple commands.\n",
    "- Do spatial analysis: filtering, buffering, intersections.\n",
    "- Handle projections (CRS) properly.\n",
    "\n",
    "See you in the next notebook!\n"
   ]
  },
  {
   "cell_type": "code",
   "execution_count": 3,
   "id": "e0d6aaab",
   "metadata": {},
   "outputs": [],
   "source": [
    "# Import dependencies\n",
    "import geopandas as gpd\n",
    "import pandas as pd\n",
    "import folium\n",
    "from shapely.geometry import Point, box\n",
    "from pyproj import CRS"
   ]
  },
  {
   "cell_type": "markdown",
   "id": "37cb4996",
   "metadata": {},
   "source": [
    "# BASIC AND COMPARISONS"
   ]
  },
  {
   "cell_type": "code",
   "execution_count": 19,
   "id": "6963fcd9",
   "metadata": {},
   "outputs": [
    {
     "name": "stdout",
     "output_type": "stream",
     "text": [
      "   some_variable\n",
      "0             38\n",
      "<class 'pandas.core.frame.DataFrame'>\n",
      "POINT (1.5 2.5)\n",
      "<class 'shapely.geometry.point.Point'>\n",
      "EPSG:4326\n",
      "<class 'pyproj.crs.crs.CRS'>\n"
     ]
    }
   ],
   "source": [
    "# Creating a GeoDataFrame by hand\n",
    "my_nonspatial_df = pd.DataFrame(data=[{\"some_variable\": 38}])\n",
    "print(my_nonspatial_df)\n",
    "print(type(my_nonspatial_df))\n",
    "\n",
    "# Define geometry\n",
    "my_geometry = Point(1.5, 2.5)\n",
    "print(my_geometry)\n",
    "print(type(my_geometry))\n",
    "\n",
    "# Define CRS\n",
    "my_crs = CRS.from_epsg(4326)\n",
    "print(my_crs)\n",
    "print(type(my_crs))"
   ]
  },
  {
   "cell_type": "code",
   "execution_count": 20,
   "id": "4e41f5ff",
   "metadata": {},
   "outputs": [
    {
     "name": "stdout",
     "output_type": "stream",
     "text": [
      "   some_variable         geometry\n",
      "0             38  POINT (1.5 2.5)\n",
      "<class 'geopandas.geodataframe.GeoDataFrame'>\n"
     ]
    }
   ],
   "source": [
    "# Gotta give the geometry as a list or gpd not happy!\n",
    "my_gdf = gpd.GeoDataFrame(data=my_nonspatial_df, geometry=[my_geometry], crs=my_crs)\n",
    "\n",
    "#\n",
    "print(my_gdf)\n",
    "print(type(my_gdf))"
   ]
  },
  {
   "cell_type": "code",
   "execution_count": null,
   "id": "88bcc4ea",
   "metadata": {},
   "outputs": [],
   "source": [
    "# Use the .explore() method of GeoDataFrame\n",
    "my_gdf.explore()"
   ]
  },
  {
   "cell_type": "code",
   "execution_count": 31,
   "id": "1de8d802",
   "metadata": {},
   "outputs": [
    {
     "name": "stdout",
     "output_type": "stream",
     "text": [
      "<folium.folium.Map object at 0x0000026CFB764C50>\n",
      "<class 'folium.folium.Map'>\n"
     ]
    }
   ],
   "source": [
    "# See what type of object it is\n",
    "my_explore = my_gdf.explore()\n",
    "\n",
    "#\n",
    "print(my_explore)\n",
    "print(type(my_explore))"
   ]
  },
  {
   "cell_type": "markdown",
   "id": "fbe94977",
   "metadata": {},
   "source": [
    "# Loading spatial data"
   ]
  },
  {
   "cell_type": "code",
   "execution_count": 36,
   "id": "4acbf39c",
   "metadata": {},
   "outputs": [],
   "source": [
    "# Download reptile distribution areas\n",
    "aire_reptiles = gpd.read_file(filename=\"https://diffusion.mffp.gouv.qc.ca/Diffusion/DonneeGratuite/Faune/Aires_repartition/Amphibien/SQLite/Aires_repartition_amphibiens.sqlite\")"
   ]
  },
  {
   "cell_type": "code",
   "execution_count": 37,
   "id": "71c65a6d",
   "metadata": {},
   "outputs": [
    {
     "data": {
      "text/html": [
       "<div>\n",
       "<style scoped>\n",
       "    .dataframe tbody tr th:only-of-type {\n",
       "        vertical-align: middle;\n",
       "    }\n",
       "\n",
       "    .dataframe tbody tr th {\n",
       "        vertical-align: top;\n",
       "    }\n",
       "\n",
       "    .dataframe thead th {\n",
       "        text-align: right;\n",
       "    }\n",
       "</style>\n",
       "<table border=\"1\" class=\"dataframe\">\n",
       "  <thead>\n",
       "    <tr style=\"text-align: right;\">\n",
       "      <th></th>\n",
       "      <th>desc_entit</th>\n",
       "      <th>producteur</th>\n",
       "      <th>nom_franca</th>\n",
       "      <th>nom_angla</th>\n",
       "      <th>nom_scient</th>\n",
       "      <th>date_maj</th>\n",
       "      <th>grand_groupe</th>\n",
       "      <th>famille</th>\n",
       "      <th>shape_length</th>\n",
       "      <th>shape_area</th>\n",
       "      <th>geometry</th>\n",
       "    </tr>\n",
       "  </thead>\n",
       "  <tbody>\n",
       "    <tr>\n",
       "      <th>0</th>\n",
       "      <td>Aire de rÃ©partition</td>\n",
       "      <td>MinistÃ¨re des ForÃªts, de la Faune et des Parcs</td>\n",
       "      <td>Crapaud d'AmÃ©rique</td>\n",
       "      <td>American Toad</td>\n",
       "      <td>Anaxyrus americanus</td>\n",
       "      <td>2021</td>\n",
       "      <td>Amphibiens</td>\n",
       "      <td>Bufonidae</td>\n",
       "      <td>1.498345e+07</td>\n",
       "      <td>1.184087e+12</td>\n",
       "      <td>MULTIPOLYGON (((-485026.718 132619.355, -48500...</td>\n",
       "    </tr>\n",
       "    <tr>\n",
       "      <th>1</th>\n",
       "      <td>Aire de rÃ©partition</td>\n",
       "      <td>MinistÃ¨re des ForÃªts, de la Faune et des Parcs</td>\n",
       "      <td>Grenouille des bois</td>\n",
       "      <td>Wood Frog</td>\n",
       "      <td>Lithobates sylvaticus</td>\n",
       "      <td>2021</td>\n",
       "      <td>Amphibiens</td>\n",
       "      <td>Ranidae</td>\n",
       "      <td>1.332345e+07</td>\n",
       "      <td>1.198792e+12</td>\n",
       "      <td>MULTIPOLYGON (((-485026.718 132619.355, -48500...</td>\n",
       "    </tr>\n",
       "    <tr>\n",
       "      <th>2</th>\n",
       "      <td>Aire de rÃ©partition</td>\n",
       "      <td>MinistÃ¨re des ForÃªts, de la Faune et des Parcs</td>\n",
       "      <td>Grenouille des marais</td>\n",
       "      <td>Pickerel Frog</td>\n",
       "      <td>Lithobates palustris</td>\n",
       "      <td>2021</td>\n",
       "      <td>Amphibiens</td>\n",
       "      <td>Ranidae</td>\n",
       "      <td>5.387379e+06</td>\n",
       "      <td>1.573200e+11</td>\n",
       "      <td>MULTIPOLYGON (((-485026.718 132619.355, -48500...</td>\n",
       "    </tr>\n",
       "    <tr>\n",
       "      <th>3</th>\n",
       "      <td>Aire de rÃ©partition</td>\n",
       "      <td>MinistÃ¨re des ForÃªts, de la Faune et des Parcs</td>\n",
       "      <td>Grenouille du Nord</td>\n",
       "      <td>Mink Frog</td>\n",
       "      <td>Lithobates septentrionalis</td>\n",
       "      <td>2021</td>\n",
       "      <td>Amphibiens</td>\n",
       "      <td>Ranidae</td>\n",
       "      <td>1.106284e+07</td>\n",
       "      <td>9.748393e+11</td>\n",
       "      <td>MULTIPOLYGON (((-485026.718 132619.355, -48500...</td>\n",
       "    </tr>\n",
       "    <tr>\n",
       "      <th>4</th>\n",
       "      <td>Aire de rÃ©partition</td>\n",
       "      <td>MinistÃ¨re des ForÃªts, de la Faune et des Parcs</td>\n",
       "      <td>Grenouille lÃ©opard du Nord</td>\n",
       "      <td>Northern leopard Frog</td>\n",
       "      <td>Lithobates pipiens</td>\n",
       "      <td>2021</td>\n",
       "      <td>Amphibiens</td>\n",
       "      <td>Ranidae</td>\n",
       "      <td>9.757220e+06</td>\n",
       "      <td>6.338660e+11</td>\n",
       "      <td>MULTIPOLYGON (((-485026.718 132619.355, -48500...</td>\n",
       "    </tr>\n",
       "  </tbody>\n",
       "</table>\n",
       "</div>"
      ],
      "text/plain": [
       "             desc_entit                                        producteur  \\\n",
       "0  Aire de rÃ©partition  MinistÃ¨re des ForÃªts, de la Faune et des Parcs   \n",
       "1  Aire de rÃ©partition  MinistÃ¨re des ForÃªts, de la Faune et des Parcs   \n",
       "2  Aire de rÃ©partition  MinistÃ¨re des ForÃªts, de la Faune et des Parcs   \n",
       "3  Aire de rÃ©partition  MinistÃ¨re des ForÃªts, de la Faune et des Parcs   \n",
       "4  Aire de rÃ©partition  MinistÃ¨re des ForÃªts, de la Faune et des Parcs   \n",
       "\n",
       "                    nom_franca              nom_angla  \\\n",
       "0          Crapaud d'AmÃ©rique          American Toad   \n",
       "1          Grenouille des bois              Wood Frog   \n",
       "2        Grenouille des marais          Pickerel Frog   \n",
       "3           Grenouille du Nord              Mink Frog   \n",
       "4  Grenouille lÃ©opard du Nord  Northern leopard Frog   \n",
       "\n",
       "                   nom_scient date_maj grand_groupe    famille  shape_length  \\\n",
       "0         Anaxyrus americanus     2021   Amphibiens  Bufonidae  1.498345e+07   \n",
       "1       Lithobates sylvaticus     2021   Amphibiens    Ranidae  1.332345e+07   \n",
       "2        Lithobates palustris     2021   Amphibiens    Ranidae  5.387379e+06   \n",
       "3  Lithobates septentrionalis     2021   Amphibiens    Ranidae  1.106284e+07   \n",
       "4          Lithobates pipiens     2021   Amphibiens    Ranidae  9.757220e+06   \n",
       "\n",
       "     shape_area                                           geometry  \n",
       "0  1.184087e+12  MULTIPOLYGON (((-485026.718 132619.355, -48500...  \n",
       "1  1.198792e+12  MULTIPOLYGON (((-485026.718 132619.355, -48500...  \n",
       "2  1.573200e+11  MULTIPOLYGON (((-485026.718 132619.355, -48500...  \n",
       "3  9.748393e+11  MULTIPOLYGON (((-485026.718 132619.355, -48500...  \n",
       "4  6.338660e+11  MULTIPOLYGON (((-485026.718 132619.355, -48500...  "
      ]
     },
     "execution_count": 37,
     "metadata": {},
     "output_type": "execute_result"
    }
   ],
   "source": [
    "# See the first lines of the object\n",
    "# No UTF8\n",
    "aire_reptiles.head()"
   ]
  },
  {
   "cell_type": "code",
   "execution_count": 46,
   "id": "55cf2b4f",
   "metadata": {},
   "outputs": [],
   "source": [
    "# See distribution of the first species\n",
    "#aire_reptiles.iloc[0:1].explore()"
   ]
  },
  {
   "cell_type": "code",
   "execution_count": null,
   "id": "84ed669e",
   "metadata": {},
   "outputs": [
    {
     "data": {
      "text/html": [
       "<div>\n",
       "<style scoped>\n",
       "    .dataframe tbody tr th:only-of-type {\n",
       "        vertical-align: middle;\n",
       "    }\n",
       "\n",
       "    .dataframe tbody tr th {\n",
       "        vertical-align: top;\n",
       "    }\n",
       "\n",
       "    .dataframe thead th {\n",
       "        text-align: right;\n",
       "    }\n",
       "</style>\n",
       "<table border=\"1\" class=\"dataframe\">\n",
       "  <thead>\n",
       "    <tr style=\"text-align: right;\">\n",
       "      <th></th>\n",
       "      <th>desc_entit</th>\n",
       "      <th>producteur</th>\n",
       "      <th>nom_franca</th>\n",
       "      <th>nom_angla</th>\n",
       "      <th>nom_scient</th>\n",
       "      <th>date_maj</th>\n",
       "      <th>grand_groupe</th>\n",
       "      <th>famille</th>\n",
       "      <th>shape_length</th>\n",
       "      <th>shape_area</th>\n",
       "      <th>geometry</th>\n",
       "      <th>area_now</th>\n",
       "    </tr>\n",
       "  </thead>\n",
       "  <tbody>\n",
       "    <tr>\n",
       "      <th>0</th>\n",
       "      <td>Aire de rÃ©partition</td>\n",
       "      <td>MinistÃ¨re des ForÃªts, de la Faune et des Parcs</td>\n",
       "      <td>Crapaud d'AmÃ©rique</td>\n",
       "      <td>American Toad</td>\n",
       "      <td>Anaxyrus americanus</td>\n",
       "      <td>2021</td>\n",
       "      <td>Amphibiens</td>\n",
       "      <td>Bufonidae</td>\n",
       "      <td>1.498345e+07</td>\n",
       "      <td>1.184087e+12</td>\n",
       "      <td>MULTIPOLYGON (((-485026.718 132619.355, -48500...</td>\n",
       "      <td>1.184087e+12</td>\n",
       "    </tr>\n",
       "    <tr>\n",
       "      <th>1</th>\n",
       "      <td>Aire de rÃ©partition</td>\n",
       "      <td>MinistÃ¨re des ForÃªts, de la Faune et des Parcs</td>\n",
       "      <td>Grenouille des bois</td>\n",
       "      <td>Wood Frog</td>\n",
       "      <td>Lithobates sylvaticus</td>\n",
       "      <td>2021</td>\n",
       "      <td>Amphibiens</td>\n",
       "      <td>Ranidae</td>\n",
       "      <td>1.332345e+07</td>\n",
       "      <td>1.198792e+12</td>\n",
       "      <td>MULTIPOLYGON (((-485026.718 132619.355, -48500...</td>\n",
       "      <td>1.198792e+12</td>\n",
       "    </tr>\n",
       "    <tr>\n",
       "      <th>2</th>\n",
       "      <td>Aire de rÃ©partition</td>\n",
       "      <td>MinistÃ¨re des ForÃªts, de la Faune et des Parcs</td>\n",
       "      <td>Grenouille des marais</td>\n",
       "      <td>Pickerel Frog</td>\n",
       "      <td>Lithobates palustris</td>\n",
       "      <td>2021</td>\n",
       "      <td>Amphibiens</td>\n",
       "      <td>Ranidae</td>\n",
       "      <td>5.387379e+06</td>\n",
       "      <td>1.573200e+11</td>\n",
       "      <td>MULTIPOLYGON (((-485026.718 132619.355, -48500...</td>\n",
       "      <td>1.573200e+11</td>\n",
       "    </tr>\n",
       "    <tr>\n",
       "      <th>3</th>\n",
       "      <td>Aire de rÃ©partition</td>\n",
       "      <td>MinistÃ¨re des ForÃªts, de la Faune et des Parcs</td>\n",
       "      <td>Grenouille du Nord</td>\n",
       "      <td>Mink Frog</td>\n",
       "      <td>Lithobates septentrionalis</td>\n",
       "      <td>2021</td>\n",
       "      <td>Amphibiens</td>\n",
       "      <td>Ranidae</td>\n",
       "      <td>1.106284e+07</td>\n",
       "      <td>9.748393e+11</td>\n",
       "      <td>MULTIPOLYGON (((-485026.718 132619.355, -48500...</td>\n",
       "      <td>9.748393e+11</td>\n",
       "    </tr>\n",
       "    <tr>\n",
       "      <th>4</th>\n",
       "      <td>Aire de rÃ©partition</td>\n",
       "      <td>MinistÃ¨re des ForÃªts, de la Faune et des Parcs</td>\n",
       "      <td>Grenouille lÃ©opard du Nord</td>\n",
       "      <td>Northern leopard Frog</td>\n",
       "      <td>Lithobates pipiens</td>\n",
       "      <td>2021</td>\n",
       "      <td>Amphibiens</td>\n",
       "      <td>Ranidae</td>\n",
       "      <td>9.757220e+06</td>\n",
       "      <td>6.338660e+11</td>\n",
       "      <td>MULTIPOLYGON (((-485026.718 132619.355, -48500...</td>\n",
       "      <td>6.338660e+11</td>\n",
       "    </tr>\n",
       "  </tbody>\n",
       "</table>\n",
       "</div>"
      ],
      "text/plain": [
       "             desc_entit                                        producteur  \\\n",
       "0  Aire de rÃ©partition  MinistÃ¨re des ForÃªts, de la Faune et des Parcs   \n",
       "1  Aire de rÃ©partition  MinistÃ¨re des ForÃªts, de la Faune et des Parcs   \n",
       "2  Aire de rÃ©partition  MinistÃ¨re des ForÃªts, de la Faune et des Parcs   \n",
       "3  Aire de rÃ©partition  MinistÃ¨re des ForÃªts, de la Faune et des Parcs   \n",
       "4  Aire de rÃ©partition  MinistÃ¨re des ForÃªts, de la Faune et des Parcs   \n",
       "\n",
       "                    nom_franca              nom_angla  \\\n",
       "0          Crapaud d'AmÃ©rique          American Toad   \n",
       "1          Grenouille des bois              Wood Frog   \n",
       "2        Grenouille des marais          Pickerel Frog   \n",
       "3           Grenouille du Nord              Mink Frog   \n",
       "4  Grenouille lÃ©opard du Nord  Northern leopard Frog   \n",
       "\n",
       "                   nom_scient date_maj grand_groupe    famille  shape_length  \\\n",
       "0         Anaxyrus americanus     2021   Amphibiens  Bufonidae  1.498345e+07   \n",
       "1       Lithobates sylvaticus     2021   Amphibiens    Ranidae  1.332345e+07   \n",
       "2        Lithobates palustris     2021   Amphibiens    Ranidae  5.387379e+06   \n",
       "3  Lithobates septentrionalis     2021   Amphibiens    Ranidae  1.106284e+07   \n",
       "4          Lithobates pipiens     2021   Amphibiens    Ranidae  9.757220e+06   \n",
       "\n",
       "     shape_area                                           geometry  \\\n",
       "0  1.184087e+12  MULTIPOLYGON (((-485026.718 132619.355, -48500...   \n",
       "1  1.198792e+12  MULTIPOLYGON (((-485026.718 132619.355, -48500...   \n",
       "2  1.573200e+11  MULTIPOLYGON (((-485026.718 132619.355, -48500...   \n",
       "3  9.748393e+11  MULTIPOLYGON (((-485026.718 132619.355, -48500...   \n",
       "4  6.338660e+11  MULTIPOLYGON (((-485026.718 132619.355, -48500...   \n",
       "\n",
       "       area_now  \n",
       "0  1.184087e+12  \n",
       "1  1.198792e+12  \n",
       "2  1.573200e+11  \n",
       "3  9.748393e+11  \n",
       "4  6.338660e+11  "
      ]
     },
     "execution_count": 55,
     "metadata": {},
     "output_type": "execute_result"
    }
   ],
   "source": [
    "# Create and append a new (it already exists but we want to show)\n",
    "aire_reptiles[\"area_now\"] = aire_reptiles.geometry.area\n",
    "\n",
    "# Look at it!\n",
    "aire_reptiles.head()"
   ]
  },
  {
   "cell_type": "code",
   "execution_count": 58,
   "id": "3fe5d131",
   "metadata": {},
   "outputs": [
    {
     "data": {
      "text/plain": [
       "np.float64(0.0093994140625)"
      ]
     },
     "execution_count": 58,
     "metadata": {},
     "output_type": "execute_result"
    }
   ],
   "source": [
    "(aire_reptiles[\"area_now\"] - aire_reptiles[\"shape_area\"]).max()"
   ]
  },
  {
   "cell_type": "code",
   "execution_count": 67,
   "id": "a62ec115",
   "metadata": {},
   "outputs": [
    {
     "data": {
      "text/html": [
       "<div>\n",
       "<style scoped>\n",
       "    .dataframe tbody tr th:only-of-type {\n",
       "        vertical-align: middle;\n",
       "    }\n",
       "\n",
       "    .dataframe tbody tr th {\n",
       "        vertical-align: top;\n",
       "    }\n",
       "\n",
       "    .dataframe thead th {\n",
       "        text-align: right;\n",
       "    }\n",
       "</style>\n",
       "<table border=\"1\" class=\"dataframe\">\n",
       "  <thead>\n",
       "    <tr style=\"text-align: right;\">\n",
       "      <th></th>\n",
       "      <th>mean</th>\n",
       "      <th>std</th>\n",
       "      <th>count</th>\n",
       "    </tr>\n",
       "    <tr>\n",
       "      <th>famille</th>\n",
       "      <th></th>\n",
       "      <th></th>\n",
       "      <th></th>\n",
       "    </tr>\n",
       "  </thead>\n",
       "  <tbody>\n",
       "    <tr>\n",
       "      <th>Ambystomatidae</th>\n",
       "      <td>5.696182e+11</td>\n",
       "      <td>1.789843e+11</td>\n",
       "      <td>2</td>\n",
       "    </tr>\n",
       "    <tr>\n",
       "      <th>Bufonidae</th>\n",
       "      <td>1.184087e+12</td>\n",
       "      <td>NaN</td>\n",
       "      <td>1</td>\n",
       "    </tr>\n",
       "    <tr>\n",
       "      <th>Hylidae</th>\n",
       "      <td>1.867687e+11</td>\n",
       "      <td>3.299046e+11</td>\n",
       "      <td>4</td>\n",
       "    </tr>\n",
       "    <tr>\n",
       "      <th>Plethodontidae</th>\n",
       "      <td>2.289025e+11</td>\n",
       "      <td>3.293515e+11</td>\n",
       "      <td>6</td>\n",
       "    </tr>\n",
       "    <tr>\n",
       "      <th>Proteidae</th>\n",
       "      <td>2.150582e+10</td>\n",
       "      <td>NaN</td>\n",
       "      <td>1</td>\n",
       "    </tr>\n",
       "    <tr>\n",
       "      <th>Ranidae</th>\n",
       "      <td>6.292147e+11</td>\n",
       "      <td>4.009284e+11</td>\n",
       "      <td>6</td>\n",
       "    </tr>\n",
       "    <tr>\n",
       "      <th>Salamandridae</th>\n",
       "      <td>2.646686e+11</td>\n",
       "      <td>NaN</td>\n",
       "      <td>1</td>\n",
       "    </tr>\n",
       "  </tbody>\n",
       "</table>\n",
       "</div>"
      ],
      "text/plain": [
       "                        mean           std  count\n",
       "famille                                          \n",
       "Ambystomatidae  5.696182e+11  1.789843e+11      2\n",
       "Bufonidae       1.184087e+12           NaN      1\n",
       "Hylidae         1.867687e+11  3.299046e+11      4\n",
       "Plethodontidae  2.289025e+11  3.293515e+11      6\n",
       "Proteidae       2.150582e+10           NaN      1\n",
       "Ranidae         6.292147e+11  4.009284e+11      6\n",
       "Salamandridae   2.646686e+11           NaN      1"
      ]
     },
     "execution_count": 67,
     "metadata": {},
     "output_type": "execute_result"
    }
   ],
   "source": [
    "aire_reptiles.groupby(\"famille\")[\"area_now\"].agg([\"mean\", \"std\", \"count\"])"
   ]
  },
  {
   "cell_type": "markdown",
   "id": "d64963d9",
   "metadata": {},
   "source": [
    "# Clipping"
   ]
  },
  {
   "cell_type": "code",
   "execution_count": 83,
   "id": "f3ea3682",
   "metadata": {},
   "outputs": [
    {
     "data": {
      "text/html": [
       "<div>\n",
       "<style scoped>\n",
       "    .dataframe tbody tr th:only-of-type {\n",
       "        vertical-align: middle;\n",
       "    }\n",
       "\n",
       "    .dataframe tbody tr th {\n",
       "        vertical-align: top;\n",
       "    }\n",
       "\n",
       "    .dataframe thead th {\n",
       "        text-align: right;\n",
       "    }\n",
       "</style>\n",
       "<table border=\"1\" class=\"dataframe\">\n",
       "  <thead>\n",
       "    <tr style=\"text-align: right;\">\n",
       "      <th></th>\n",
       "      <th>name</th>\n",
       "      <th>geometry</th>\n",
       "    </tr>\n",
       "  </thead>\n",
       "  <tbody>\n",
       "    <tr>\n",
       "      <th>0</th>\n",
       "      <td>boxy</td>\n",
       "      <td>POLYGON ((-70.32 51.24, -70.32 61.14, -80.18 6...</td>\n",
       "    </tr>\n",
       "  </tbody>\n",
       "</table>\n",
       "</div>"
      ],
      "text/plain": [
       "   name                                           geometry\n",
       "0  boxy  POLYGON ((-70.32 51.24, -70.32 61.14, -80.18 6..."
      ]
     },
     "execution_count": 83,
     "metadata": {},
     "output_type": "execute_result"
    }
   ],
   "source": [
    "# Define a bounding box centered over northern Quebec\n",
    "my_bbox = box(minx=-80.18, miny=51.24, maxx=-70.32, maxy=61.14)\n",
    "\n",
    "\n",
    "# Create a GeoDataFrame\n",
    "boxy = gpd.GeoDataFrame(data=[{\"name\": \"boxy\"}], geometry=[my_bbox], crs=\"EPSG:4326\")\n",
    "boxy\n",
    "\n",
    "# Look at the bounding box\n",
    "#boxy.explore()"
   ]
  },
  {
   "cell_type": "code",
   "execution_count": 120,
   "id": "b8c4bb70",
   "metadata": {},
   "outputs": [
    {
     "name": "stderr",
     "output_type": "stream",
     "text": [
      "C:\\Users\\elami\\AppData\\Local\\Temp\\ipykernel_25876\\3823895502.py:2: UserWarning: CRS mismatch between the CRS of left geometries and the CRS of right geometries.\n",
      "Use `to_crs()` to reproject one of the input geometries to match the CRS of the other.\n",
      "\n",
      "Left CRS: EPSG:32198\n",
      "Right CRS: EPSG:4326\n",
      "\n",
      "  reptiles_clipped = gpd.clip(gdf=aire_reptiles, mask=boxy, sort=True)\n"
     ]
    }
   ],
   "source": [
    "# Clip the random polygons with the box\n",
    "reptiles_clipped = gpd.clip(gdf=aire_reptiles, mask=boxy, sort=True)"
   ]
  },
  {
   "cell_type": "code",
   "execution_count": 121,
   "id": "89b536cb",
   "metadata": {},
   "outputs": [],
   "source": [
    "# AN ON PURPOSE ERROR!\n",
    "# Reproject the left geometries to the appropriate CRS (EPSG:4326)\n",
    "# Do it in the same line to avoid creating additional objects\n",
    "reptiles_clipped = gpd.clip(gdf=aire_reptiles.to_crs(epsg=4326), mask=boxy, sort=True)"
   ]
  },
  {
   "cell_type": "code",
   "execution_count": 123,
   "id": "81575b50",
   "metadata": {},
   "outputs": [
    {
     "data": {
      "text/html": [
       "<div>\n",
       "<style scoped>\n",
       "    .dataframe tbody tr th:only-of-type {\n",
       "        vertical-align: middle;\n",
       "    }\n",
       "\n",
       "    .dataframe tbody tr th {\n",
       "        vertical-align: top;\n",
       "    }\n",
       "\n",
       "    .dataframe thead th {\n",
       "        text-align: right;\n",
       "    }\n",
       "</style>\n",
       "<table border=\"1\" class=\"dataframe\">\n",
       "  <thead>\n",
       "    <tr style=\"text-align: right;\">\n",
       "      <th></th>\n",
       "      <th>desc_entit</th>\n",
       "      <th>producteur</th>\n",
       "      <th>nom_franca</th>\n",
       "      <th>nom_angla</th>\n",
       "      <th>nom_scient</th>\n",
       "      <th>date_maj</th>\n",
       "      <th>grand_groupe</th>\n",
       "      <th>famille</th>\n",
       "      <th>shape_length</th>\n",
       "      <th>shape_area</th>\n",
       "      <th>geometry</th>\n",
       "      <th>area_now</th>\n",
       "    </tr>\n",
       "  </thead>\n",
       "  <tbody>\n",
       "    <tr>\n",
       "      <th>0</th>\n",
       "      <td>Aire de rÃ©partition</td>\n",
       "      <td>MinistÃ¨re des ForÃªts, de la Faune et des Parcs</td>\n",
       "      <td>Crapaud d'AmÃ©rique</td>\n",
       "      <td>American Toad</td>\n",
       "      <td>Anaxyrus americanus</td>\n",
       "      <td>2021</td>\n",
       "      <td>Amphibiens</td>\n",
       "      <td>Bufonidae</td>\n",
       "      <td>1.498345e+07</td>\n",
       "      <td>1.184087e+12</td>\n",
       "      <td>POLYGON ((-79.51779 51.25005, -79.51784 51.316...</td>\n",
       "      <td>1.184087e+12</td>\n",
       "    </tr>\n",
       "    <tr>\n",
       "      <th>1</th>\n",
       "      <td>Aire de rÃ©partition</td>\n",
       "      <td>MinistÃ¨re des ForÃªts, de la Faune et des Parcs</td>\n",
       "      <td>Grenouille des bois</td>\n",
       "      <td>Wood Frog</td>\n",
       "      <td>Lithobates sylvaticus</td>\n",
       "      <td>2021</td>\n",
       "      <td>Amphibiens</td>\n",
       "      <td>Ranidae</td>\n",
       "      <td>1.332345e+07</td>\n",
       "      <td>1.198792e+12</td>\n",
       "      <td>POLYGON ((-79.51779 51.25005, -79.51784 51.316...</td>\n",
       "      <td>1.198792e+12</td>\n",
       "    </tr>\n",
       "    <tr>\n",
       "      <th>3</th>\n",
       "      <td>Aire de rÃ©partition</td>\n",
       "      <td>MinistÃ¨re des ForÃªts, de la Faune et des Parcs</td>\n",
       "      <td>Grenouille du Nord</td>\n",
       "      <td>Mink Frog</td>\n",
       "      <td>Lithobates septentrionalis</td>\n",
       "      <td>2021</td>\n",
       "      <td>Amphibiens</td>\n",
       "      <td>Ranidae</td>\n",
       "      <td>1.106284e+07</td>\n",
       "      <td>9.748393e+11</td>\n",
       "      <td>POLYGON ((-79.51779 51.25005, -79.51784 51.316...</td>\n",
       "      <td>9.748393e+11</td>\n",
       "    </tr>\n",
       "    <tr>\n",
       "      <th>4</th>\n",
       "      <td>Aire de rÃ©partition</td>\n",
       "      <td>MinistÃ¨re des ForÃªts, de la Faune et des Parcs</td>\n",
       "      <td>Grenouille lÃ©opard du Nord</td>\n",
       "      <td>Northern leopard Frog</td>\n",
       "      <td>Lithobates pipiens</td>\n",
       "      <td>2021</td>\n",
       "      <td>Amphibiens</td>\n",
       "      <td>Ranidae</td>\n",
       "      <td>9.757220e+06</td>\n",
       "      <td>6.338660e+11</td>\n",
       "      <td>POLYGON ((-78.80668 53.76057, -78.66113 53.766...</td>\n",
       "      <td>6.338660e+11</td>\n",
       "    </tr>\n",
       "    <tr>\n",
       "      <th>5</th>\n",
       "      <td>Aire de rÃ©partition</td>\n",
       "      <td>MinistÃ¨re des ForÃªts, de la Faune et des Parcs</td>\n",
       "      <td>Grenouille verte</td>\n",
       "      <td>Green Frog</td>\n",
       "      <td>Lithobates clamitans</td>\n",
       "      <td>2021</td>\n",
       "      <td>Amphibiens</td>\n",
       "      <td>Ranidae</td>\n",
       "      <td>9.041373e+06</td>\n",
       "      <td>5.408896e+11</td>\n",
       "      <td>POLYGON ((-74.73656 51.25987, -74.49898 51.337...</td>\n",
       "      <td>5.408896e+11</td>\n",
       "    </tr>\n",
       "  </tbody>\n",
       "</table>\n",
       "</div>"
      ],
      "text/plain": [
       "             desc_entit                                        producteur  \\\n",
       "0  Aire de rÃ©partition  MinistÃ¨re des ForÃªts, de la Faune et des Parcs   \n",
       "1  Aire de rÃ©partition  MinistÃ¨re des ForÃªts, de la Faune et des Parcs   \n",
       "3  Aire de rÃ©partition  MinistÃ¨re des ForÃªts, de la Faune et des Parcs   \n",
       "4  Aire de rÃ©partition  MinistÃ¨re des ForÃªts, de la Faune et des Parcs   \n",
       "5  Aire de rÃ©partition  MinistÃ¨re des ForÃªts, de la Faune et des Parcs   \n",
       "\n",
       "                    nom_franca              nom_angla  \\\n",
       "0          Crapaud d'AmÃ©rique          American Toad   \n",
       "1          Grenouille des bois              Wood Frog   \n",
       "3           Grenouille du Nord              Mink Frog   \n",
       "4  Grenouille lÃ©opard du Nord  Northern leopard Frog   \n",
       "5             Grenouille verte             Green Frog   \n",
       "\n",
       "                   nom_scient date_maj grand_groupe    famille  shape_length  \\\n",
       "0         Anaxyrus americanus     2021   Amphibiens  Bufonidae  1.498345e+07   \n",
       "1       Lithobates sylvaticus     2021   Amphibiens    Ranidae  1.332345e+07   \n",
       "3  Lithobates septentrionalis     2021   Amphibiens    Ranidae  1.106284e+07   \n",
       "4          Lithobates pipiens     2021   Amphibiens    Ranidae  9.757220e+06   \n",
       "5        Lithobates clamitans     2021   Amphibiens    Ranidae  9.041373e+06   \n",
       "\n",
       "     shape_area                                           geometry  \\\n",
       "0  1.184087e+12  POLYGON ((-79.51779 51.25005, -79.51784 51.316...   \n",
       "1  1.198792e+12  POLYGON ((-79.51779 51.25005, -79.51784 51.316...   \n",
       "3  9.748393e+11  POLYGON ((-79.51779 51.25005, -79.51784 51.316...   \n",
       "4  6.338660e+11  POLYGON ((-78.80668 53.76057, -78.66113 53.766...   \n",
       "5  5.408896e+11  POLYGON ((-74.73656 51.25987, -74.49898 51.337...   \n",
       "\n",
       "       area_now  \n",
       "0  1.184087e+12  \n",
       "1  1.198792e+12  \n",
       "3  9.748393e+11  \n",
       "4  6.338660e+11  \n",
       "5  5.408896e+11  "
      ]
     },
     "execution_count": 123,
     "metadata": {},
     "output_type": "execute_result"
    }
   ],
   "source": [
    "# Everything went well, look at the first few lines\n",
    "reptiles_clipped.head()"
   ]
  },
  {
   "cell_type": "code",
   "execution_count": 126,
   "id": "b9b91ace",
   "metadata": {},
   "outputs": [
    {
     "data": {
      "text/plain": [
       "<folium.features.GeoJson at 0x26d65e33250>"
      ]
     },
     "execution_count": 126,
     "metadata": {},
     "output_type": "execute_result"
    }
   ],
   "source": [
    "# Have a look at the data and review folium concepts\n",
    "from folium import GeoJson\n",
    "my_map = boxy.explore(color=\"red\", alpha=0.75)\n",
    "GeoJson(data=aire_reptiles[0:1].to_crs(epsg=4326).geometry, tooltip=\"I was not clipped!\", color=\"purple\", alpha=0.75).add_to(parent=my_map)\n",
    "GeoJson(data=reptiles_clipped[0:1].geometry, tooltip=\"But I was!\", color=\"blue\", alpha=0.75).add_to(parent=my_map)\n",
    "#my_map"
   ]
  },
  {
   "cell_type": "markdown",
   "id": "b8c2b1a5",
   "metadata": {},
   "source": [
    "# SPATIAL JOINS"
   ]
  },
  {
   "cell_type": "code",
   "execution_count": 2,
   "id": "22f04860",
   "metadata": {},
   "outputs": [
    {
     "name": "stdout",
     "output_type": "stream",
     "text": [
      "  STE_CODE21         STE_NAME21 CHG_FLAG21  CHG_LBL21 AUS_CODE21 AUS_NAME21  \\\n",
      "0          1    New South Wales          0  No change        AUS  Australia   \n",
      "1          2           Victoria          0  No change        AUS  Australia   \n",
      "2          3         Queensland          0  No change        AUS  Australia   \n",
      "3          4    South Australia          0  No change        AUS  Australia   \n",
      "4          5  Western Australia          0  No change        AUS  Australia   \n",
      "\n",
      "     AREASQKM21                                       LOCI_URI21  \\\n",
      "0  8.007977e+05  http://linked.data.gov.au/dataset/asgsed3/STE/1   \n",
      "1  2.274962e+05  http://linked.data.gov.au/dataset/asgsed3/STE/2   \n",
      "2  1.730171e+06  http://linked.data.gov.au/dataset/asgsed3/STE/3   \n",
      "3  9.842314e+05  http://linked.data.gov.au/dataset/asgsed3/STE/4   \n",
      "4  2.526632e+06  http://linked.data.gov.au/dataset/asgsed3/STE/5   \n",
      "\n",
      "                                            geometry  \n",
      "0  MULTIPOLYGON (((159.0623 -31.50886, 159.06218 ...  \n",
      "1  MULTIPOLYGON (((146.29286 -39.15778, 146.29341...  \n",
      "2  MULTIPOLYGON (((142.5314 -10.68301, 142.53072 ...  \n",
      "3  MULTIPOLYGON (((140.66025 -38.06256, 140.66006...  \n",
      "4  MULTIPOLYGON (((117.86953 -35.19108, 117.86961...  \n",
      "(10, 9)\n"
     ]
    }
   ],
   "source": [
    "# Get australian territories and boundaries\n",
    "gdf_aus = gpd.read_file(filename=\"https://www.abs.gov.au/statistics/standards/australian-statistical-geography-standard-asgs-edition-3/jul2021-jun2026/access-and-downloads/digital-boundary-files/STE_2021_AUST_SHP_GDA2020.zip\")\n",
    "\n",
    "# Look \n",
    "print(gdf_aus.head())\n",
    "\n",
    "# Have a look at the shape of the GDF\n",
    "# Note: I hate you last line...\n",
    "print(gdf_aus.shape)"
   ]
  },
  {
   "cell_type": "code",
   "execution_count": 3,
   "id": "9d2d8411",
   "metadata": {},
   "outputs": [
    {
     "name": "stdout",
     "output_type": "stream",
     "text": [
      "EPSG:7844\n",
      "False\n",
      "- name: Australia including Lord Howe Island, Macquarie Island, Ashmore and Cartier Islands, Christmas Island, Cocos (Keeling) Islands, Norfolk Island. All onshore and offshore.\n",
      "- bounds: (93.41, -60.55, 173.34, -8.47)\n",
      "<class 'pyproj.crs.crs.CRS'>\n"
     ]
    }
   ],
   "source": [
    "# Have a look at the CRS\n",
    "print(gdf_aus.crs)\n",
    "print(gdf_aus.crs.is_projected)\n",
    "print(gdf_aus.crs.area_of_use)\n",
    "print(type(gdf_aus.crs))"
   ]
  },
  {
   "cell_type": "code",
   "execution_count": 7,
   "id": "eda067b1",
   "metadata": {},
   "outputs": [
    {
     "data": {
      "text/html": [
       "<div>\n",
       "<style scoped>\n",
       "    .dataframe tbody tr th:only-of-type {\n",
       "        vertical-align: middle;\n",
       "    }\n",
       "\n",
       "    .dataframe tbody tr th {\n",
       "        vertical-align: top;\n",
       "    }\n",
       "\n",
       "    .dataframe thead th {\n",
       "        text-align: right;\n",
       "    }\n",
       "</style>\n",
       "<table border=\"1\" class=\"dataframe\">\n",
       "  <thead>\n",
       "    <tr style=\"text-align: right;\">\n",
       "      <th></th>\n",
       "      <th>Unnamed: 0</th>\n",
       "      <th>eventId</th>\n",
       "      <th>decimalLatitude</th>\n",
       "      <th>decimalLongitude</th>\n",
       "    </tr>\n",
       "  </thead>\n",
       "  <tbody>\n",
       "    <tr>\n",
       "      <th>0</th>\n",
       "      <td>0</td>\n",
       "      <td>5087759453</td>\n",
       "      <td>-20.585195</td>\n",
       "      <td>116.787842</td>\n",
       "    </tr>\n",
       "    <tr>\n",
       "      <th>1</th>\n",
       "      <td>1</td>\n",
       "      <td>5104528592</td>\n",
       "      <td>-22.843242</td>\n",
       "      <td>122.580642</td>\n",
       "    </tr>\n",
       "    <tr>\n",
       "      <th>2</th>\n",
       "      <td>2</td>\n",
       "      <td>4510177813</td>\n",
       "      <td>-32.524942</td>\n",
       "      <td>136.163344</td>\n",
       "    </tr>\n",
       "    <tr>\n",
       "      <th>3</th>\n",
       "      <td>3</td>\n",
       "      <td>4512283168</td>\n",
       "      <td>-30.397483</td>\n",
       "      <td>136.874328</td>\n",
       "    </tr>\n",
       "    <tr>\n",
       "      <th>4</th>\n",
       "      <td>4</td>\n",
       "      <td>4516234716</td>\n",
       "      <td>-32.268875</td>\n",
       "      <td>135.993515</td>\n",
       "    </tr>\n",
       "  </tbody>\n",
       "</table>\n",
       "</div>"
      ],
      "text/plain": [
       "   Unnamed: 0     eventId  decimalLatitude  decimalLongitude\n",
       "0           0  5087759453       -20.585195        116.787842\n",
       "1           1  5104528592       -22.843242        122.580642\n",
       "2           2  4510177813       -32.524942        136.163344\n",
       "3           3  4512283168       -30.397483        136.874328\n",
       "4           4  4516234716       -32.268875        135.993515"
      ]
     },
     "execution_count": 7,
     "metadata": {},
     "output_type": "execute_result"
    }
   ],
   "source": [
    "# Read in GBIF data\n",
    "desert_pea = pd.read_csv(filepath_or_buffer=\"../data/desert_pea.csv\")\n",
    "\n",
    "# Look at the first 5 lines\n",
    "desert_pea.head()"
   ]
  },
  {
   "cell_type": "code",
   "execution_count": 8,
   "id": "61f30e19",
   "metadata": {},
   "outputs": [
    {
     "data": {
      "text/plain": [
       "[<POINT (116.788 -20.585)>,\n",
       " <POINT (122.581 -22.843)>,\n",
       " <POINT (136.163 -32.525)>,\n",
       " <POINT (136.874 -30.397)>,\n",
       " <POINT (135.994 -32.269)>]"
      ]
     },
     "execution_count": 8,
     "metadata": {},
     "output_type": "execute_result"
    }
   ],
   "source": [
    "# Create a GDF from the coordinates\n",
    "# Convert the latitude and longitude to Shapely Point geometries\n",
    "pea_geom = [Point(lon, lat) for lon, lat in zip(desert_pea[\"decimalLongitude\"], desert_pea[\"decimalLatitude\"])]\n",
    "\n",
    "# Look at the first 5 values of WKT Points\n",
    "pea_geom[0:5]"
   ]
  },
  {
   "cell_type": "code",
   "execution_count": 9,
   "id": "99316c30",
   "metadata": {},
   "outputs": [
    {
     "data": {
      "text/html": [
       "<div>\n",
       "<style scoped>\n",
       "    .dataframe tbody tr th:only-of-type {\n",
       "        vertical-align: middle;\n",
       "    }\n",
       "\n",
       "    .dataframe tbody tr th {\n",
       "        vertical-align: top;\n",
       "    }\n",
       "\n",
       "    .dataframe thead th {\n",
       "        text-align: right;\n",
       "    }\n",
       "</style>\n",
       "<table border=\"1\" class=\"dataframe\">\n",
       "  <thead>\n",
       "    <tr style=\"text-align: right;\">\n",
       "      <th></th>\n",
       "      <th>Unnamed: 0</th>\n",
       "      <th>eventId</th>\n",
       "      <th>decimalLatitude</th>\n",
       "      <th>decimalLongitude</th>\n",
       "      <th>geometry</th>\n",
       "    </tr>\n",
       "  </thead>\n",
       "  <tbody>\n",
       "    <tr>\n",
       "      <th>0</th>\n",
       "      <td>0</td>\n",
       "      <td>5087759453</td>\n",
       "      <td>-20.585195</td>\n",
       "      <td>116.787842</td>\n",
       "      <td>POINT (116.78784 -20.5852)</td>\n",
       "    </tr>\n",
       "    <tr>\n",
       "      <th>1</th>\n",
       "      <td>1</td>\n",
       "      <td>5104528592</td>\n",
       "      <td>-22.843242</td>\n",
       "      <td>122.580642</td>\n",
       "      <td>POINT (122.58064 -22.84324)</td>\n",
       "    </tr>\n",
       "    <tr>\n",
       "      <th>2</th>\n",
       "      <td>2</td>\n",
       "      <td>4510177813</td>\n",
       "      <td>-32.524942</td>\n",
       "      <td>136.163344</td>\n",
       "      <td>POINT (136.16334 -32.52494)</td>\n",
       "    </tr>\n",
       "    <tr>\n",
       "      <th>3</th>\n",
       "      <td>3</td>\n",
       "      <td>4512283168</td>\n",
       "      <td>-30.397483</td>\n",
       "      <td>136.874328</td>\n",
       "      <td>POINT (136.87433 -30.39748)</td>\n",
       "    </tr>\n",
       "    <tr>\n",
       "      <th>4</th>\n",
       "      <td>4</td>\n",
       "      <td>4516234716</td>\n",
       "      <td>-32.268875</td>\n",
       "      <td>135.993515</td>\n",
       "      <td>POINT (135.99352 -32.26888)</td>\n",
       "    </tr>\n",
       "  </tbody>\n",
       "</table>\n",
       "</div>"
      ],
      "text/plain": [
       "   Unnamed: 0     eventId  decimalLatitude  decimalLongitude  \\\n",
       "0           0  5087759453       -20.585195        116.787842   \n",
       "1           1  5104528592       -22.843242        122.580642   \n",
       "2           2  4510177813       -32.524942        136.163344   \n",
       "3           3  4512283168       -30.397483        136.874328   \n",
       "4           4  4516234716       -32.268875        135.993515   \n",
       "\n",
       "                      geometry  \n",
       "0   POINT (116.78784 -20.5852)  \n",
       "1  POINT (122.58064 -22.84324)  \n",
       "2  POINT (136.16334 -32.52494)  \n",
       "3  POINT (136.87433 -30.39748)  \n",
       "4  POINT (135.99352 -32.26888)  "
      ]
     },
     "execution_count": 9,
     "metadata": {},
     "output_type": "execute_result"
    }
   ],
   "source": [
    "# Create a GDF from the two\n",
    "gdf_pea = gpd.GeoDataFrame(data=desert_pea, geometry=pea_geom)\n",
    "\n",
    "# Observe the first 5 values\n",
    "gdf_pea.head()"
   ]
  },
  {
   "cell_type": "code",
   "execution_count": 10,
   "id": "41edac78",
   "metadata": {},
   "outputs": [
    {
     "name": "stdout",
     "output_type": "stream",
     "text": [
      "None\n"
     ]
    }
   ],
   "source": [
    "# BUT! Look at the CRS\n",
    "print(gdf_pea.crs)"
   ]
  },
  {
   "cell_type": "code",
   "execution_count": 11,
   "id": "53875ba2",
   "metadata": {},
   "outputs": [
    {
     "name": "stdout",
     "output_type": "stream",
     "text": [
      "EPSG:4326\n"
     ]
    }
   ],
   "source": [
    "# We need to manually set the CRS.\n",
    "# GBIF considers WGS84 (i.e. EPSG:4326 for their data)\n",
    "gdf_pea.set_crs(crs=\"EPSG:4326\", inplace=True)\n",
    "\n",
    "# Now it will work\n",
    "print(gdf_pea.crs)"
   ]
  },
  {
   "cell_type": "code",
   "execution_count": 17,
   "id": "77457538",
   "metadata": {},
   "outputs": [
    {
     "name": "stdout",
     "output_type": "stream",
     "text": [
      "        eventId                     geometry\n",
      "0    5087759453   POINT (116.78784 -20.5852)\n",
      "1    5104528592  POINT (122.58064 -22.84324)\n",
      "2    4510177813  POINT (136.16334 -32.52494)\n",
      "3    4512283168  POINT (136.87433 -30.39748)\n",
      "4    4516234716  POINT (135.99352 -32.26888)\n",
      "..          ...                          ...\n",
      "295  3985803395  POINT (136.88933 -30.57152)\n",
      "296  3986318782  POINT (136.92632 -30.42622)\n",
      "297  3985793950  POINT (136.55266 -31.27423)\n",
      "298  3985875946  POINT (136.86227 -33.25164)\n",
      "299  3985925954  POINT (136.54971 -31.25694)\n",
      "\n",
      "[300 rows x 2 columns]\n"
     ]
    }
   ],
   "source": [
    "###################################NOTICE\n",
    "#\n",
    "# Convert to GeoDataFrame in one go using from_xy\n",
    "# But the previous method shows each step and is therefore more\n",
    "# appropriate for a tutorial (yep!)\n",
    "#\n",
    "gdf_pea = gpd.GeoDataFrame(data=desert_pea[\"eventId\"], geometry=gpd.points_from_xy(x=desert_pea.decimalLongitude, y=desert_pea.decimalLatitude, crs=4326))\n",
    "print(gdf_pea)"
   ]
  },
  {
   "cell_type": "code",
   "execution_count": 18,
   "id": "dc4a59d8",
   "metadata": {},
   "outputs": [
    {
     "name": "stdout",
     "output_type": "stream",
     "text": [
      "EPSG:7844\n"
     ]
    }
   ],
   "source": [
    "# Now convert it to the same CRS as that of the AUSTRALIA DATA\n",
    "gdf_pea.to_crs(crs=7844, inplace=True)\n",
    "\n",
    "# Check that it has been correctly changed\n",
    "print(gdf_pea.crs)"
   ]
  },
  {
   "cell_type": "code",
   "execution_count": 19,
   "id": "d973d2df",
   "metadata": {},
   "outputs": [
    {
     "name": "stdout",
     "output_type": "stream",
     "text": [
      "        eventId                     geometry  index_right STE_CODE21  \\\n",
      "0    5087759453   POINT (116.78784 -20.5852)          4.0          5   \n",
      "1    5104528592  POINT (122.58064 -22.84324)          4.0          5   \n",
      "2    4510177813  POINT (136.16334 -32.52494)          3.0          4   \n",
      "3    4512283168  POINT (136.87433 -30.39748)          3.0          4   \n",
      "4    4516234716  POINT (135.99352 -32.26888)          3.0          4   \n",
      "..          ...                          ...          ...        ...   \n",
      "295  3985803395  POINT (136.88933 -30.57152)          3.0          4   \n",
      "296  3986318782  POINT (136.92632 -30.42622)          3.0          4   \n",
      "297  3985793950  POINT (136.55266 -31.27423)          3.0          4   \n",
      "298  3985875946  POINT (136.86227 -33.25164)          3.0          4   \n",
      "299  3985925954  POINT (136.54971 -31.25694)          3.0          4   \n",
      "\n",
      "            STE_NAME21 CHG_FLAG21  CHG_LBL21 AUS_CODE21 AUS_NAME21  \\\n",
      "0    Western Australia          0  No change        AUS  Australia   \n",
      "1    Western Australia          0  No change        AUS  Australia   \n",
      "2      South Australia          0  No change        AUS  Australia   \n",
      "3      South Australia          0  No change        AUS  Australia   \n",
      "4      South Australia          0  No change        AUS  Australia   \n",
      "..                 ...        ...        ...        ...        ...   \n",
      "295    South Australia          0  No change        AUS  Australia   \n",
      "296    South Australia          0  No change        AUS  Australia   \n",
      "297    South Australia          0  No change        AUS  Australia   \n",
      "298    South Australia          0  No change        AUS  Australia   \n",
      "299    South Australia          0  No change        AUS  Australia   \n",
      "\n",
      "       AREASQKM21                                       LOCI_URI21  \n",
      "0    2.526632e+06  http://linked.data.gov.au/dataset/asgsed3/STE/5  \n",
      "1    2.526632e+06  http://linked.data.gov.au/dataset/asgsed3/STE/5  \n",
      "2    9.842314e+05  http://linked.data.gov.au/dataset/asgsed3/STE/4  \n",
      "3    9.842314e+05  http://linked.data.gov.au/dataset/asgsed3/STE/4  \n",
      "4    9.842314e+05  http://linked.data.gov.au/dataset/asgsed3/STE/4  \n",
      "..            ...                                              ...  \n",
      "295  9.842314e+05  http://linked.data.gov.au/dataset/asgsed3/STE/4  \n",
      "296  9.842314e+05  http://linked.data.gov.au/dataset/asgsed3/STE/4  \n",
      "297  9.842314e+05  http://linked.data.gov.au/dataset/asgsed3/STE/4  \n",
      "298  9.842314e+05  http://linked.data.gov.au/dataset/asgsed3/STE/4  \n",
      "299  9.842314e+05  http://linked.data.gov.au/dataset/asgsed3/STE/4  \n",
      "\n",
      "[300 rows x 11 columns]\n"
     ]
    }
   ],
   "source": [
    "# Now you can perform spatial joins between `points_gdf` and `territories_gdf`\n",
    "# For example, join the points with the Australian territories based on location\n",
    "joined_gdf = gpd.sjoin(left_df=gdf_pea, right_df=gdf_aus, how=\"left\", predicate=\"within\")\n",
    "\n",
    "# Display the resulting GeoDataFrame\n",
    "print(joined_gdf)"
   ]
  },
  {
   "cell_type": "code",
   "execution_count": 27,
   "id": "5ac1de68",
   "metadata": {},
   "outputs": [
    {
     "name": "stdout",
     "output_type": "stream",
     "text": [
      "0      4.0\n",
      "1      4.0\n",
      "2      3.0\n",
      "3      3.0\n",
      "4      3.0\n",
      "      ... \n",
      "295    3.0\n",
      "296    3.0\n",
      "297    3.0\n",
      "298    3.0\n",
      "299    3.0\n",
      "Name: index_right, Length: 300, dtype: float64\n"
     ]
    }
   ],
   "source": [
    "# VERY IMPORTANT COLUMN\n",
    "# INDEX_RIGHT\n",
    "print(joined_gdf.index_right)"
   ]
  },
  {
   "cell_type": "code",
   "execution_count": 29,
   "id": "d135b7a5",
   "metadata": {},
   "outputs": [
    {
     "name": "stdout",
     "output_type": "stream",
     "text": [
      "(300, 11)\n",
      "index_right\n",
      "4.0    106\n",
      "3.0     94\n",
      "0.0     74\n",
      "6.0     24\n",
      "Name: count, dtype: int64\n",
      "298\n"
     ]
    }
   ],
   "source": [
    "# \n",
    "print(joined_gdf.shape)\n",
    "#\n",
    "print(joined_gdf.index_right.value_counts())\n",
    "#\n",
    "print(joined_gdf.index_right.value_counts().sum())"
   ]
  },
  {
   "cell_type": "code",
   "execution_count": 38,
   "id": "540a3b04",
   "metadata": {},
   "outputs": [],
   "source": [
    "mapy = gdf_aus.explore()\n",
    "\n",
    "#for idx, point in joined_gdf.iterrows():\n",
    "for _, point in joined_gdf.iterrows():\n",
    "    folium.Marker(\n",
    "        location=[point.geometry.y, point.geometry.x],\n",
    "        popup=point.eventId,\n",
    "        icon=folium.Icon(color=\"green\", prefix=\"fa\", icon=\"seedling\")\n",
    "    ).add_to(mapy)\n",
    "\n",
    "# Display the map\n",
    "#mapy"
   ]
  },
  {
   "cell_type": "code",
   "execution_count": 41,
   "id": "e13e6397",
   "metadata": {},
   "outputs": [
    {
     "name": "stdout",
     "output_type": "stream",
     "text": [
      "        eventId                     geometry  index_right STE_CODE21  \\\n",
      "147  4413908515  POINT (118.63845 -20.30648)          NaN        NaN   \n",
      "284  3947437828   POINT (116.59086 -20.4657)          NaN        NaN   \n",
      "\n",
      "    STE_NAME21 CHG_FLAG21 CHG_LBL21 AUS_CODE21 AUS_NAME21  AREASQKM21  \\\n",
      "147        NaN        NaN       NaN        NaN        NaN         NaN   \n",
      "284        NaN        NaN       NaN        NaN        NaN         NaN   \n",
      "\n",
      "    LOCI_URI21  \n",
      "147        NaN  \n",
      "284        NaN  \n"
     ]
    }
   ],
   "source": [
    "# See which points did not make the cut and why\n",
    "sad_points = joined_gdf[joined_gdf[\"index_right\"].isna()]\n",
    "\n",
    "print(sad_points)"
   ]
  },
  {
   "cell_type": "code",
   "execution_count": null,
   "id": "fb36b21d",
   "metadata": {},
   "outputs": [],
   "source": [
    "mapo = gdf_aus.explore()\n",
    "\n",
    "#for idx, point in sad_points.iterrows():\n",
    "for _, point in sad_points.iterrows():\n",
    "    folium.Marker(\n",
    "        location=[point.geometry.y, point.geometry.x],\n",
    "        popup=point.eventId,\n",
    "        icon=folium.Icon(color=\"red\", prefix=\"fa\", icon=\"plant-wilt\")\n",
    "    ).add_to(mapo)\n",
    "\n",
    "# Display the map\n",
    "#mapo"
   ]
  },
  {
   "cell_type": "code",
   "execution_count": 43,
   "id": "54de9dc0",
   "metadata": {},
   "outputs": [
    {
     "name": "stdout",
     "output_type": "stream",
     "text": [
      "\n",
      "Unsorted values:\n",
      "STE_NAME21\n",
      "New South Wales        74\n",
      "Northern Territory     24\n",
      "South Australia        94\n",
      "Western Australia     106\n",
      "dtype: int64\n",
      "\n",
      "Sorted values:\n",
      "STE_NAME21\n",
      "Western Australia     106\n",
      "South Australia        94\n",
      "New South Wales        74\n",
      "Northern Territory     24\n",
      "dtype: int64\n"
     ]
    }
   ],
   "source": [
    "# Group by the territory (or other relevant column in territories_gdf) and count occurrences\n",
    "# Assuming the relevant column in territories is called 'territory_name' or similar\n",
    "# If you have a different column name for the class/territory, replace 'territory_name' with that column name\n",
    "\n",
    "territory_counts = joined_gdf.groupby(\"STE_NAME21\").size()\n",
    "\n",
    "# Step 5: Print the counts of observations per territory\n",
    "print(\"\\nUnsorted values:\")\n",
    "print(territory_counts)\n",
    "\n",
    "# Note: You could also sort the counts in descending order\n",
    "print(\"\\nSorted values:\")\n",
    "print(territory_counts.sort_values(ascending=False))"
   ]
  },
  {
   "cell_type": "code",
   "execution_count": null,
   "id": "0c2f4d75",
   "metadata": {},
   "outputs": [
    {
     "name": "stdout",
     "output_type": "stream",
     "text": [
      "STE_NAME21\n",
      "Western Australia               106\n",
      "South Australia                  94\n",
      "New South Wales                  74\n",
      "Northern Territory               24\n",
      "Victoria                          1\n",
      "Queensland                        1\n",
      "Tasmania                          1\n",
      "Australian Capital Territory      1\n",
      "Other Territories                 1\n",
      "Outside Australia                 1\n",
      "Name: count, dtype: int64\n"
     ]
    },
    {
     "data": {
      "text/html": [
       "<div>\n",
       "<style scoped>\n",
       "    .dataframe tbody tr th:only-of-type {\n",
       "        vertical-align: middle;\n",
       "    }\n",
       "\n",
       "    .dataframe tbody tr th {\n",
       "        vertical-align: top;\n",
       "    }\n",
       "\n",
       "    .dataframe thead th {\n",
       "        text-align: right;\n",
       "    }\n",
       "</style>\n",
       "<table border=\"1\" class=\"dataframe\">\n",
       "  <thead>\n",
       "    <tr style=\"text-align: right;\">\n",
       "      <th></th>\n",
       "      <th>STE_CODE21</th>\n",
       "      <th>STE_NAME21</th>\n",
       "      <th>CHG_FLAG21</th>\n",
       "      <th>CHG_LBL21</th>\n",
       "      <th>AUS_CODE21</th>\n",
       "      <th>AUS_NAME21</th>\n",
       "      <th>AREASQKM21</th>\n",
       "      <th>LOCI_URI21</th>\n",
       "      <th>geometry</th>\n",
       "      <th>index_right</th>\n",
       "      <th>Unnamed: 0</th>\n",
       "      <th>eventId</th>\n",
       "      <th>decimalLatitude</th>\n",
       "      <th>decimalLongitude</th>\n",
       "    </tr>\n",
       "  </thead>\n",
       "  <tbody>\n",
       "    <tr>\n",
       "      <th>1</th>\n",
       "      <td>2</td>\n",
       "      <td>Victoria</td>\n",
       "      <td>0</td>\n",
       "      <td>No change</td>\n",
       "      <td>AUS</td>\n",
       "      <td>Australia</td>\n",
       "      <td>2.274962e+05</td>\n",
       "      <td>http://linked.data.gov.au/dataset/asgsed3/STE/2</td>\n",
       "      <td>MULTIPOLYGON (((146.29286 -39.15778, 146.29341...</td>\n",
       "      <td>NaN</td>\n",
       "      <td>NaN</td>\n",
       "      <td>NaN</td>\n",
       "      <td>NaN</td>\n",
       "      <td>NaN</td>\n",
       "    </tr>\n",
       "    <tr>\n",
       "      <th>2</th>\n",
       "      <td>3</td>\n",
       "      <td>Queensland</td>\n",
       "      <td>0</td>\n",
       "      <td>No change</td>\n",
       "      <td>AUS</td>\n",
       "      <td>Australia</td>\n",
       "      <td>1.730171e+06</td>\n",
       "      <td>http://linked.data.gov.au/dataset/asgsed3/STE/3</td>\n",
       "      <td>MULTIPOLYGON (((142.5314 -10.68301, 142.53072 ...</td>\n",
       "      <td>NaN</td>\n",
       "      <td>NaN</td>\n",
       "      <td>NaN</td>\n",
       "      <td>NaN</td>\n",
       "      <td>NaN</td>\n",
       "    </tr>\n",
       "    <tr>\n",
       "      <th>5</th>\n",
       "      <td>6</td>\n",
       "      <td>Tasmania</td>\n",
       "      <td>0</td>\n",
       "      <td>No change</td>\n",
       "      <td>AUS</td>\n",
       "      <td>Australia</td>\n",
       "      <td>6.801754e+04</td>\n",
       "      <td>http://linked.data.gov.au/dataset/asgsed3/STE/6</td>\n",
       "      <td>MULTIPOLYGON (((144.60439 -41.01001, 144.60443...</td>\n",
       "      <td>NaN</td>\n",
       "      <td>NaN</td>\n",
       "      <td>NaN</td>\n",
       "      <td>NaN</td>\n",
       "      <td>NaN</td>\n",
       "    </tr>\n",
       "    <tr>\n",
       "      <th>7</th>\n",
       "      <td>8</td>\n",
       "      <td>Australian Capital Territory</td>\n",
       "      <td>0</td>\n",
       "      <td>No change</td>\n",
       "      <td>AUS</td>\n",
       "      <td>Australia</td>\n",
       "      <td>2.358133e+03</td>\n",
       "      <td>http://linked.data.gov.au/dataset/asgsed3/STE/8</td>\n",
       "      <td>POLYGON ((149.06239 -35.1591, 149.09134 -35.14...</td>\n",
       "      <td>NaN</td>\n",
       "      <td>NaN</td>\n",
       "      <td>NaN</td>\n",
       "      <td>NaN</td>\n",
       "      <td>NaN</td>\n",
       "    </tr>\n",
       "    <tr>\n",
       "      <th>8</th>\n",
       "      <td>9</td>\n",
       "      <td>Other Territories</td>\n",
       "      <td>0</td>\n",
       "      <td>No change</td>\n",
       "      <td>AUS</td>\n",
       "      <td>Australia</td>\n",
       "      <td>2.557420e+02</td>\n",
       "      <td>http://linked.data.gov.au/dataset/asgsed3/STE/9</td>\n",
       "      <td>MULTIPOLYGON (((167.94747 -29.12757, 167.94748...</td>\n",
       "      <td>NaN</td>\n",
       "      <td>NaN</td>\n",
       "      <td>NaN</td>\n",
       "      <td>NaN</td>\n",
       "      <td>NaN</td>\n",
       "    </tr>\n",
       "    <tr>\n",
       "      <th>9</th>\n",
       "      <td>Z</td>\n",
       "      <td>Outside Australia</td>\n",
       "      <td>1</td>\n",
       "      <td>New</td>\n",
       "      <td>ZZZ</td>\n",
       "      <td>Outside Australia</td>\n",
       "      <td>NaN</td>\n",
       "      <td>http://linked.data.gov.au/dataset/asgsed3/STE/Z</td>\n",
       "      <td>None</td>\n",
       "      <td>NaN</td>\n",
       "      <td>NaN</td>\n",
       "      <td>NaN</td>\n",
       "      <td>NaN</td>\n",
       "      <td>NaN</td>\n",
       "    </tr>\n",
       "  </tbody>\n",
       "</table>\n",
       "</div>"
      ],
      "text/plain": [
       "  STE_CODE21                    STE_NAME21 CHG_FLAG21  CHG_LBL21 AUS_CODE21  \\\n",
       "1          2                      Victoria          0  No change        AUS   \n",
       "2          3                    Queensland          0  No change        AUS   \n",
       "5          6                      Tasmania          0  No change        AUS   \n",
       "7          8  Australian Capital Territory          0  No change        AUS   \n",
       "8          9             Other Territories          0  No change        AUS   \n",
       "9          Z             Outside Australia          1        New        ZZZ   \n",
       "\n",
       "          AUS_NAME21    AREASQKM21  \\\n",
       "1          Australia  2.274962e+05   \n",
       "2          Australia  1.730171e+06   \n",
       "5          Australia  6.801754e+04   \n",
       "7          Australia  2.358133e+03   \n",
       "8          Australia  2.557420e+02   \n",
       "9  Outside Australia           NaN   \n",
       "\n",
       "                                        LOCI_URI21  \\\n",
       "1  http://linked.data.gov.au/dataset/asgsed3/STE/2   \n",
       "2  http://linked.data.gov.au/dataset/asgsed3/STE/3   \n",
       "5  http://linked.data.gov.au/dataset/asgsed3/STE/6   \n",
       "7  http://linked.data.gov.au/dataset/asgsed3/STE/8   \n",
       "8  http://linked.data.gov.au/dataset/asgsed3/STE/9   \n",
       "9  http://linked.data.gov.au/dataset/asgsed3/STE/Z   \n",
       "\n",
       "                                            geometry  index_right  Unnamed: 0  \\\n",
       "1  MULTIPOLYGON (((146.29286 -39.15778, 146.29341...          NaN         NaN   \n",
       "2  MULTIPOLYGON (((142.5314 -10.68301, 142.53072 ...          NaN         NaN   \n",
       "5  MULTIPOLYGON (((144.60439 -41.01001, 144.60443...          NaN         NaN   \n",
       "7  POLYGON ((149.06239 -35.1591, 149.09134 -35.14...          NaN         NaN   \n",
       "8  MULTIPOLYGON (((167.94747 -29.12757, 167.94748...          NaN         NaN   \n",
       "9                                               None          NaN         NaN   \n",
       "\n",
       "   eventId  decimalLatitude  decimalLongitude  \n",
       "1      NaN              NaN               NaN  \n",
       "2      NaN              NaN               NaN  \n",
       "5      NaN              NaN               NaN  \n",
       "7      NaN              NaN               NaN  \n",
       "8      NaN              NaN               NaN  \n",
       "9      NaN              NaN               NaN  "
      ]
     },
     "execution_count": 58,
     "metadata": {},
     "output_type": "execute_result"
    }
   ],
   "source": [
    "##################### JUST FOR KICKS?\n",
    "# Now you can perform spatial joins between `points_gdf` and `territories_gdf`\n",
    "# For example, join the points with the Australian territories based on location\n",
    "#joined_gdf = gpd.sjoin(left_df=gdf_pea, right_df=gdf_aus, how=\"right\", predicate=\"within\")\n",
    "joined_gdf = gpd.sjoin(left_df=gdf_aus, right_df=gdf_pea, how=\"left\", predicate=\"contains\")\n",
    "\n",
    "# Display the resulting GeoDataFrame\n",
    "#print(joined_gdf)\n",
    "\n",
    "# BE CAREFUL OF ONE THING\n",
    "print(joined_gdf.STE_NAME21.value_counts())\n",
    "\n",
    "#print(joined_gdf.tail())\n",
    "\n",
    "# Don't forget to look at the index_right column!!!!\n",
    "# It ain't 1 cuz they only got 1 observation!!!\n",
    "joined_gdf[joined_gdf[\"index_right\"].isna()]"
   ]
  },
  {
   "cell_type": "code",
   "execution_count": null,
   "id": "cf0b5dbb",
   "metadata": {},
   "outputs": [],
   "source": []
  },
  {
   "cell_type": "code",
   "execution_count": null,
   "id": "ab430d3e",
   "metadata": {},
   "outputs": [],
   "source": []
  },
  {
   "cell_type": "code",
   "execution_count": null,
   "id": "824c89c8",
   "metadata": {},
   "outputs": [],
   "source": []
  },
  {
   "cell_type": "code",
   "execution_count": null,
   "id": "15bbadf2",
   "metadata": {},
   "outputs": [],
   "source": []
  },
  {
   "cell_type": "code",
   "execution_count": null,
   "id": "b2c45f45",
   "metadata": {},
   "outputs": [],
   "source": []
  },
  {
   "cell_type": "code",
   "execution_count": 31,
   "id": "30ed4480",
   "metadata": {},
   "outputs": [],
   "source": [
    "import pandas as pd\n",
    "\n",
    "pd.DataFrame({\"eventId\": ids, \"decimalLatitude\": latitudes, \"decimalLongitude\": longitudes}).to_csv(path_or_buf=\"desert_pea.csv\")"
   ]
  },
  {
   "cell_type": "code",
   "execution_count": null,
   "id": "001dd6c2",
   "metadata": {},
   "outputs": [],
   "source": []
  },
  {
   "cell_type": "markdown",
   "id": "a908c5a9",
   "metadata": {},
   "source": [
    "# Case 2: Dugongs"
   ]
  },
  {
   "cell_type": "code",
   "execution_count": 4,
   "id": "293cd8c3",
   "metadata": {},
   "outputs": [
    {
     "name": "stdout",
     "output_type": "stream",
     "text": [
      "EPSG:4283\n",
      "False\n",
      "- name: Australia including Lord Howe Island, Macquarie Island, Ashmore and Cartier Islands, Christmas Island, Cocos (Keeling) Islands, Norfolk Island. All onshore and offshore.\n",
      "- bounds: (93.41, -60.55, 173.34, -8.47)\n"
     ]
    }
   ],
   "source": [
    "marine_gdf = gpd.read_file(filename=\"https://hub.arcgis.com/api/v3/datasets/2b3eb1d42b8d4319900cf4777f0a83b9_0/downloads/data?format=shp&spatialRefId=4283&where=1%3D1\")\n",
    "\n",
    "print(marine_gdf.crs)\n",
    "print(marine_gdf.crs.is_projected)\n",
    "print(marine_gdf.crs.area_of_use)"
   ]
  },
  {
   "cell_type": "code",
   "execution_count": null,
   "id": "ee7dc0bf",
   "metadata": {},
   "outputs": [],
   "source": [
    "# Have a look\n",
    "marine_gdf.to_crs(crs=3577).explore()"
   ]
  },
  {
   "cell_type": "code",
   "execution_count": 8,
   "id": "2b9eaae3",
   "metadata": {},
   "outputs": [
    {
     "name": "stdout",
     "output_type": "stream",
     "text": [
      "EPSG:4326\n",
      "False\n",
      "- name: World.\n",
      "- bounds: (-180.0, -90.0, 180.0, 90.0)\n",
      "--------------------------------------------------\n",
      "EPSG:4283\n",
      "False\n",
      "- name: Australia including Lord Howe Island, Macquarie Island, Ashmore and Cartier Islands, Christmas Island, Cocos (Keeling) Islands, Norfolk Island. All onshore and offshore.\n",
      "- bounds: (93.41, -60.55, 173.34, -8.47)\n"
     ]
    }
   ],
   "source": [
    "\n",
    "# This time quick\n",
    "df_dugong = pd.read_csv(filepath_or_buffer=\"../data/sea_cow.csv\")\n",
    "gdf_dugong = gpd.GeoDataFrame(data=df_dugong.eventId, geometry=gpd.points_from_xy(df_dugong.decimalLongitude, df_dugong.decimalLatitude, crs=4326))\n",
    "\n",
    "# Get also Australian marine parks\n",
    "gdf_marineparks = gpd.read_file(filename=\"https://hub.arcgis.com/api/v3/datasets/2b3eb1d42b8d4319900cf4777f0a83b9_0/downloads/data?format=shp&spatialRefId=4283&where=1%3D1\")\n",
    "\n",
    "# Safety check: verify both CRS (you set the first one though...)\n",
    "print(gdf_dugong.crs)\n",
    "print(gdf_dugong.crs.is_projected)\n",
    "print(gdf_dugong.crs.area_of_use)\n",
    "#\n",
    "print(\"-\" * 50)\n",
    "#\n",
    "print(gdf_marineparks.crs)\n",
    "print(gdf_marineparks.crs.is_projected)\n",
    "print(gdf_marineparks.crs.area_of_use)"
   ]
  },
  {
   "cell_type": "code",
   "execution_count": 9,
   "id": "3bb2563d",
   "metadata": {},
   "outputs": [
    {
     "name": "stdout",
     "output_type": "stream",
     "text": [
      "EPSG:3577\n",
      "True\n",
      "- name: Australia - Australian Capital Territory; New South Wales; Northern Territory; Queensland; South Australia; Tasmania; Western Australia; Victoria.\n",
      "- bounds: (112.85, -43.7, 153.69, -9.86)\n",
      "--------------------------------------------------\n",
      "EPSG:3577\n",
      "True\n",
      "- name: Australia - Australian Capital Territory; New South Wales; Northern Territory; Queensland; South Australia; Tasmania; Western Australia; Victoria.\n",
      "- bounds: (112.85, -43.7, 153.69, -9.86)\n"
     ]
    }
   ],
   "source": [
    "# Reproject both GeoDataFrames to the same projected CRS (EPSG:7855)\n",
    "#gdf_dugong.to_crs(epsg=7855, inplace=True)\n",
    "#gdf_marineparks.to_crs(epsg=7855, inplace=True)\n",
    "\n",
    "gdf_dugong.to_crs(epsg=3577, inplace=True)\n",
    "gdf_marineparks.to_crs(epsg=3577, inplace=True)\n",
    "\n",
    "# Safety check: verify both CRS (you set the first one though...)\n",
    "print(gdf_dugong.crs)\n",
    "print(gdf_dugong.crs.is_projected)\n",
    "print(gdf_dugong.crs.area_of_use)\n",
    "#\n",
    "print(\"-\" * 50)\n",
    "#\n",
    "print(gdf_marineparks.crs)\n",
    "print(gdf_marineparks.crs.is_projected)\n",
    "print(gdf_marineparks.crs.area_of_use)"
   ]
  },
  {
   "cell_type": "code",
   "execution_count": null,
   "id": "ee6cdabc",
   "metadata": {},
   "outputs": [],
   "source": [
    "# Create a buffer around the marine park. For example, 10 km buffer\n",
    "#gdf_mpbuff = gpd.GeoDataFrame(data=gdf_marineparks, geometry=gdf_marineparks.buffer(distance=40000), crs=7855)\n",
    "gdf_mpbuff = gpd.GeoDataFrame(data=gdf_marineparks, geometry=gdf_marineparks.buffer(distance=40000), crs=3577)\n",
    "\n",
    "# Have a look at the data\n",
    "gdf_mpbuff.explore()"
   ]
  },
  {
   "cell_type": "code",
   "execution_count": 12,
   "id": "f61bcc00",
   "metadata": {},
   "outputs": [
    {
     "name": "stdout",
     "output_type": "stream",
     "text": [
      "(309, 13)\n"
     ]
    }
   ],
   "source": [
    "# 3. Perform a spatial join to find dugong sightings within the buffer\n",
    "# We use 'intersects' to check if a dugong sighting is within the buffer\n",
    "join_dugong = gpd.sjoin(left_df=gdf_dugong, right_df=gdf_mpbuff, how=\"left\", predicate=\"intersects\")\n",
    "\n",
    "# 4. Count the number of sightings within the buffer\n",
    "# NONONONO\n",
    "print(join_dugong.shape)"
   ]
  },
  {
   "cell_type": "code",
   "execution_count": 13,
   "id": "c6ee0b73",
   "metadata": {},
   "outputs": [
    {
     "data": {
      "text/plain": [
       "eventId\n",
       "4138745637    4\n",
       "4405405111    3\n",
       "4405391134    3\n",
       "3391347177    2\n",
       "4954727789    2\n",
       "             ..\n",
       "4015070427    1\n",
       "4018147180    1\n",
       "4519168632    1\n",
       "4133921777    1\n",
       "5075164945    1\n",
       "Name: count, Length: 300, dtype: int64"
      ]
     },
     "execution_count": 13,
     "metadata": {},
     "output_type": "execute_result"
    }
   ],
   "source": [
    "# Be careful!\n",
    "# Joins are done per cominations!!!!\n",
    "join_dugong.eventId.value_counts()"
   ]
  },
  {
   "cell_type": "code",
   "execution_count": null,
   "id": "d7158e8b",
   "metadata": {},
   "outputs": [],
   "source": [
    "# Extract happy dugongs and sad dugongs\n",
    "happy_dugongs = join_dugong.dropna(subset=[\"index_right\"]).copy()\n",
    "happy_dugongs.to_crs(4326, inplace=True)\n",
    "#\n",
    "sad_dugongs = join_dugong[join_dugong[\"index_right\"].isna()].copy()\n",
    "sad_dugongs.to_crs(4326, inplace=True)\n",
    "\n",
    "# Map them both on the same map\n",
    "mapa = gdf_mpbuff.explore()\n",
    "\n",
    "for _, point in happy_dugongs.iterrows():\n",
    "    folium.Marker(\n",
    "        location=[point.geometry.y, point.geometry.x],\n",
    "        popup=point.eventId,\n",
    "        icon=folium.Icon(color=\"green\", prefix=\"fa\", icon=\"hippo\")\n",
    "    ).add_to(mapa)\n",
    "\n",
    "for _, point in sad_dugongs.iterrows():\n",
    "    folium.Marker(\n",
    "        location=[point.geometry.y, point.geometry.x],\n",
    "        popup=point.eventId,\n",
    "        icon=folium.Icon(color=\"red\", prefix=\"fa\", icon=\"hippo\")  # Optional: customize icon\n",
    "    ).add_to(mapa)\n",
    "\n",
    "# Display the map\n",
    "mapa"
   ]
  },
  {
   "cell_type": "code",
   "execution_count": 75,
   "id": "582f5e0c",
   "metadata": {},
   "outputs": [
    {
     "data": {
      "text/plain": [
       "Index(['Unnamed: 0', 'eventId', 'decimalLatitude', 'decimalLongitude',\n",
       "       'geometry', 'index_right', 'OBJECTID', 'NETNAME', 'RESNAME', 'ZONENAME',\n",
       "       'ZONEIUCN', 'POLYGONID', 'NATLEGEND', 'AREA_KM2', 'SHAPEAREA',\n",
       "       'SHAPELEN'],\n",
       "      dtype='object')"
      ]
     },
     "execution_count": 75,
     "metadata": {},
     "output_type": "execute_result"
    }
   ],
   "source": [
    "join_dugong.columns"
   ]
  },
  {
   "cell_type": "code",
   "execution_count": 91,
   "id": "0652e0a8",
   "metadata": {},
   "outputs": [
    {
     "data": {
      "text/plain": [
       "ZONENAME\n",
       "Habitat Protection Zone         150\n",
       "Multiple Use Zone                13\n",
       "Recreational Use Zone             5\n",
       "National Park Zone                3\n",
       "Special Purpose Zone              1\n",
       "Special Purpose Zone (Trawl)      1\n",
       "dtype: int64"
      ]
     },
     "execution_count": 91,
     "metadata": {},
     "output_type": "execute_result"
    }
   ],
   "source": [
    "join_dugong.dropna().groupby(\"ZONENAME\").size().sort_values(ascending=False)"
   ]
  },
  {
   "cell_type": "code",
   "execution_count": 90,
   "id": "18f454e3",
   "metadata": {},
   "outputs": [
    {
     "data": {
      "text/plain": [
       "RESNAME\n",
       "Limmen                   148\n",
       "Roebuck                    8\n",
       "Dampier                    6\n",
       "Ningaloo                   6\n",
       "Gascoyne                   3\n",
       "Gulf of Carpentaria        1\n",
       "Joseph Bonaparte Gulf      1\n",
       "dtype: int64"
      ]
     },
     "execution_count": 90,
     "metadata": {},
     "output_type": "execute_result"
    }
   ],
   "source": [
    "join_dugong.dropna().groupby(\"RESNAME\").size().sort_values(ascending=False)"
   ]
  },
  {
   "cell_type": "code",
   "execution_count": 94,
   "id": "ad3d6c40",
   "metadata": {},
   "outputs": [
    {
     "data": {
      "text/plain": [
       "POLYGONID\n",
       "nolimhpz01    148\n",
       "nwroemuz01      8\n",
       "nwgasmuz03      3\n",
       "nwninruz01      3\n",
       "nwdammuz03      2\n",
       "nwdamnpz01      2\n",
       "nwdamhpz02      2\n",
       "nwninruz03      2\n",
       "nogocspt02      1\n",
       "nojbgspz01      1\n",
       "nwninnpz02      1\n",
       "dtype: int64"
      ]
     },
     "execution_count": 94,
     "metadata": {},
     "output_type": "execute_result"
    }
   ],
   "source": [
    "join_dugong.dropna().groupby(\"POLYGONID\").size().sort_values(ascending=False)"
   ]
  }
 ],
 "metadata": {
  "kernelspec": {
   "display_name": ".venv",
   "language": "python",
   "name": "python3"
  },
  "language_info": {
   "codemirror_mode": {
    "name": "ipython",
    "version": 3
   },
   "file_extension": ".py",
   "mimetype": "text/x-python",
   "name": "python",
   "nbconvert_exporter": "python",
   "pygments_lexer": "ipython3",
   "version": "3.13.3"
  }
 },
 "nbformat": 4,
 "nbformat_minor": 5
}
