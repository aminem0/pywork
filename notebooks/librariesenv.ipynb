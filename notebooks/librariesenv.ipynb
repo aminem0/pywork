{
 "cells": [
  {
   "cell_type": "markdown",
   "id": "5017b822",
   "metadata": {},
   "source": [
    "# Some\n",
    "\n",
    "[https://datatracker.ietf.org/doc/html/rfc4627](https://datatracker.ietf.org/doc/html/rfc4627)\n",
    "\n",
    "FATO [https://www.json.org/fatfree.html](https://www.json.org/fatfree.html)"
   ]
  },
  {
   "cell_type": "code",
   "execution_count": 1,
   "id": "ba33ea8b",
   "metadata": {},
   "outputs": [
    {
     "data": {
      "text/plain": [
       "['In',\n",
       " 'Out',\n",
       " '_',\n",
       " '__',\n",
       " '___',\n",
       " '__builtin__',\n",
       " '__builtins__',\n",
       " '__doc__',\n",
       " '__loader__',\n",
       " '__name__',\n",
       " '__package__',\n",
       " '__spec__',\n",
       " '__vsc_ipynb_file__',\n",
       " '_dh',\n",
       " '_i',\n",
       " '_i1',\n",
       " '_ih',\n",
       " '_ii',\n",
       " '_iii',\n",
       " '_oh',\n",
       " 'exit',\n",
       " 'get_ipython',\n",
       " 'open',\n",
       " 'quit']"
      ]
     },
     "execution_count": 1,
     "metadata": {},
     "output_type": "execute_result"
    }
   ],
   "source": [
    "# First, a function:\n",
    "dir()"
   ]
  },
  {
   "cell_type": "code",
   "execution_count": null,
   "id": "816031ab",
   "metadata": {},
   "outputs": [],
   "source": [
    "# Importing a package is as simple as:\n",
    "import math"
   ]
  },
  {
   "cell_type": "code",
   "execution_count": 14,
   "id": "3095e189",
   "metadata": {},
   "outputs": [
    {
     "data": {
      "text/plain": [
       "2.0"
      ]
     },
     "execution_count": 14,
     "metadata": {},
     "output_type": "execute_result"
    }
   ],
   "source": [
    "# You can now use the methods of the math package\n",
    "math.sqrt(4)"
   ]
  },
  {
   "cell_type": "code",
   "execution_count": null,
   "id": "6e121d16",
   "metadata": {},
   "outputs": [
    {
     "name": "stdout",
     "output_type": "stream",
     "text": [
      "<module 'math' (built-in)>\n",
      "<class 'module'>\n"
     ]
    }
   ],
   "source": [
    "# Print information about the package\n",
    "print(math)\n",
    "print(type(math))"
   ]
  },
  {
   "cell_type": "code",
   "execution_count": 5,
   "id": "5a8f5439",
   "metadata": {},
   "outputs": [],
   "source": [
    "# Packages can be aliased\n",
    "import math as ma"
   ]
  },
  {
   "cell_type": "code",
   "execution_count": 6,
   "id": "19a40657",
   "metadata": {},
   "outputs": [
    {
     "data": {
      "text/plain": [
       "2.0"
      ]
     },
     "execution_count": 6,
     "metadata": {},
     "output_type": "execute_result"
    }
   ],
   "source": [
    "# Now the package \"ma\" is calleable as a separate object\n",
    "ma.sqrt(4)"
   ]
  },
  {
   "cell_type": "code",
   "execution_count": 9,
   "id": "2c532781",
   "metadata": {},
   "outputs": [],
   "source": [
    "# You can also import individual functions as:\n",
    "from math import log, sin, cos, pi"
   ]
  },
  {
   "cell_type": "code",
   "execution_count": 14,
   "id": "72edb633",
   "metadata": {},
   "outputs": [
    {
     "name": "stdout",
     "output_type": "stream",
     "text": [
      "The logarithm of 1: 0.0\n",
      "Cosine of pi: -1.0\n"
     ]
    }
   ],
   "source": [
    "# By doing so, these are accessible from the current namespace\n",
    "# This means you can call them directly\n",
    "print(\"The logarithm of 1:\", log(1))\n",
    "print(\"Cosine of pi:\", cos(pi))"
   ]
  },
  {
   "cell_type": "code",
   "execution_count": null,
   "id": "22e201de",
   "metadata": {},
   "outputs": [],
   "source": [
    "# Just so you know, you can also use:\n",
    "from math import *\n",
    "\n",
    "# This imports EVERY function from math into the current namespace\n",
    "# Not the best, but at least you know"
   ]
  },
  {
   "cell_type": "code",
   "execution_count": null,
   "id": "19312f28",
   "metadata": {},
   "outputs": [],
   "source": []
  },
  {
   "cell_type": "code",
   "execution_count": 25,
   "metadata": {},
   "outputs": [
    {
     "name": "stdout",
     "output_type": "stream",
     "text": [
      "Sup? You just imported me!\n"
     ]
    }
   ],
   "source": [
    "import mymod"
   ]
  },
  {
   "cell_type": "code",
   "execution_count": null,
   "id": "18b8a8a5",
   "metadata": {},
   "outputs": [],
   "source": [
    "mymod.add_two"
   ]
  },
  {
   "cell_type": "code",
   "execution_count": 16,
   "id": "16dd83da",
   "metadata": {},
   "outputs": [],
   "source": [
    "# Import the json module\n",
    "import json"
   ]
  },
  {
   "cell_type": "code",
   "execution_count": 17,
   "id": "19095792",
   "metadata": {},
   "outputs": [],
   "source": [
    "# Load the pteropus.json file\n",
    "with open(file=\"../data/pteropus.json\", mode=\"r\") as f:\n",
    "    ptero = json.load(fp=f)"
   ]
  },
  {
   "cell_type": "code",
   "execution_count": 21,
   "id": "9a199ad2",
   "metadata": {},
   "outputs": [
    {
     "name": "stdout",
     "output_type": "stream",
     "text": [
      "{'scientific': 'Pteropus poliocephalus', 'common': 'Grey-headed Flying-Fox', 'taxonomy': {'class': 'Mammalia', 'order': 'Chiroptera'}, 'tags': ['bat', 'chiroptera', 'mammal'], 'observations': [{'uname': 'benweatherley', 'coords': {'latitude': -31.85, 'longitude': 152.45}, 'date': '2025-03-11T12:53:00+11:00', 'url': 'https://www.inaturalist.org/observations/265345357'}, {'uname': 'mypatchofheaven', 'coords': {'latitude': -27.53, 'longitude': 151.21}, 'date': '2024-09-03T19:43:00+10:00', 'url': 'https://www.inaturalist.org/observations/269946705'}]}\n",
      "<class 'dict'>\n"
     ]
    }
   ],
   "source": [
    "# Print it!\n",
    "print(ptero)\n",
    "print(type(ptero))"
   ]
  },
  {
   "cell_type": "code",
   "execution_count": 10,
   "id": "614c4bb9",
   "metadata": {},
   "outputs": [],
   "source": [
    "# Save the pretty-printed XML to a file\n",
    "with open(\"output.xml\", \"w\", encoding=\"utf-8\") as f:\n",
    "    f.write(pretty_xml)"
   ]
  },
  {
   "cell_type": "code",
   "execution_count": 11,
   "id": "3f81e8d4",
   "metadata": {},
   "outputs": [
    {
     "name": "stdout",
     "output_type": "stream",
     "text": [
      "781\n",
      "553\n"
     ]
    }
   ],
   "source": [
    "import os\n",
    "\n",
    "print(os.path.getsize(filename=\"../data/pteropus.json\"))\n",
    "\n",
    "with open(file=\"../data/pteropus.json\", mode=\"r\") as f:\n",
    "    dodo = json.load(fp=f)\n",
    "\n",
    "dodo\n",
    "\n",
    "with open(file=\"../data/pteropus_compact.json\", mode=\"w\") as f:\n",
    "    dodo = json.dump(obj=dodo, fp=f)\n",
    "\n",
    "print(os.path.getsize(filename=\"../data/pteropus_compact.json\"))\n"
   ]
  },
  {
   "cell_type": "code",
   "execution_count": null,
   "id": "3cadd30e",
   "metadata": {},
   "outputs": [],
   "source": []
  },
  {
   "cell_type": "code",
   "execution_count": 1,
   "id": "2518f88d",
   "metadata": {},
   "outputs": [
    {
     "data": {
      "text/plain": [
       "'elami'"
      ]
     },
     "execution_count": 1,
     "metadata": {},
     "output_type": "execute_result"
    }
   ],
   "source": [
    "import os\n",
    "\n",
    "os.getlogin()"
   ]
  },
  {
   "cell_type": "code",
   "execution_count": 2,
   "id": "81a6d27e",
   "metadata": {},
   "outputs": [
    {
     "data": {
      "text/plain": [
       "'toplapmy'"
      ]
     },
     "execution_count": 2,
     "metadata": {},
     "output_type": "execute_result"
    }
   ],
   "source": [
    "import socket\n",
    "\n",
    "socket.gethostname()"
   ]
  },
  {
   "cell_type": "code",
   "execution_count": 3,
   "id": "1109272c",
   "metadata": {},
   "outputs": [
    {
     "data": {
      "text/plain": [
       "70"
      ]
     },
     "execution_count": 3,
     "metadata": {},
     "output_type": "execute_result"
    }
   ],
   "source": [
    "import sys\n",
    "\n",
    "sys.getsizeof(object=\"../data/pteropus_compact.json\")"
   ]
  },
  {
   "cell_type": "code",
   "execution_count": null,
   "id": "71de9862",
   "metadata": {},
   "outputs": [],
   "source": []
  },
  {
   "cell_type": "code",
   "execution_count": null,
   "id": "3ff06c5c",
   "metadata": {},
   "outputs": [],
   "source": []
  },
  {
   "cell_type": "code",
   "execution_count": 7,
   "id": "93d0872c",
   "metadata": {},
   "outputs": [
    {
     "name": "stdout",
     "output_type": "stream",
     "text": [
      "List size:  920 bytes\n",
      "Tuple size: 192 bytes\n",
      "Tuple uses 728 fewer bytes than list.\n"
     ]
    }
   ],
   "source": [
    "import sys\n",
    "\n",
    "# Create a list and a tuple with the same content\n",
    "my_list = [num for num in range(0, 100)]\n",
    "my_tuple = (num for num in range(0, 100))\n",
    "\n",
    "# Measure their memory usage\n",
    "list_size = sys.getsizeof(my_list)\n",
    "tuple_size = sys.getsizeof(my_tuple)\n",
    "\n",
    "print(f\"List size:  {list_size} bytes\")\n",
    "print(f\"Tuple size: {tuple_size} bytes\")\n",
    "print(f\"Tuple uses {list_size - tuple_size} fewer bytes than list.\")\n"
   ]
  },
  {
   "cell_type": "code",
   "execution_count": null,
   "id": "a4539055",
   "metadata": {},
   "outputs": [],
   "source": []
  }
 ],
 "metadata": {
  "kernelspec": {
   "display_name": ".venv",
   "language": "python",
   "name": "python3"
  },
  "language_info": {
   "codemirror_mode": {
    "name": "ipython",
    "version": 3
   },
   "file_extension": ".py",
   "mimetype": "text/x-python",
   "name": "python",
   "nbconvert_exporter": "python",
   "pygments_lexer": "ipython3",
   "version": "3.13.3"
  }
 },
 "nbformat": 4,
 "nbformat_minor": 5
}
