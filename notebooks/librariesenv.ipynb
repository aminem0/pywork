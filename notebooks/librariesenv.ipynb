{
 "cells": [
  {
   "cell_type": "markdown",
   "id": "5017b822",
   "metadata": {},
   "source": [
    "# Some\n",
    "\n",
    "[https://datatracker.ietf.org/doc/html/rfc4627](https://datatracker.ietf.org/doc/html/rfc4627)\n",
    "\n",
    "FATO [https://www.json.org/fatfree.html](https://www.json.org/fatfree.html)"
   ]
  },
  {
   "cell_type": "code",
   "execution_count": null,
   "id": "19095792",
   "metadata": {},
   "outputs": [],
   "source": [
    "# Some "
   ]
  },
  {
   "cell_type": "code",
   "execution_count": 1,
   "id": "76f4c641",
   "metadata": {},
   "outputs": [],
   "source": [
    "import json\n",
    "import xml.etree.ElementTree as ET\n",
    "\n",
    "def build_xml_element(name, value):\n",
    "    elem = ET.Element(name)\n",
    "    if isinstance(value, dict):\n",
    "        for k, v in value.items():\n",
    "            child = build_xml_element(k, v)\n",
    "            elem.append(child)\n",
    "    elif isinstance(value, list):\n",
    "        for item in value:\n",
    "            child = build_xml_element(\"item\", item)\n",
    "            elem.append(child)\n",
    "    else:\n",
    "        elem.text = str(value)\n",
    "    return elem\n",
    "\n"
   ]
  },
  {
   "cell_type": "code",
   "execution_count": 2,
   "id": "9a199ad2",
   "metadata": {},
   "outputs": [],
   "source": [
    "with open(file=\"../data/pteropus.json\", mode=\"r\") as f:\n",
    "    data = json.load(fp=f)"
   ]
  },
  {
   "cell_type": "code",
   "execution_count": 3,
   "id": "6982f1db",
   "metadata": {},
   "outputs": [
    {
     "name": "stdout",
     "output_type": "stream",
     "text": [
      "<?xml version=\"1.0\" ?>\n",
      "<scientific>Pteropus poliocephalus</scientific>\n",
      "\n"
     ]
    }
   ],
   "source": [
    "\n",
    "# Assume top-level has one root element\n",
    "root_key = list(data.keys())[0]\n",
    "root_val = data[root_key]\n",
    "root = build_xml_element(root_key, root_val)\n",
    "\n",
    "# Convert to string or write to file\n",
    "tree = ET.ElementTree(root)\n",
    "tree.write(\"output.xml\", encoding=\"utf-8\", xml_declaration=True)\n",
    "\n",
    "# Print pretty XML to console (optional)\n",
    "from xml.dom import minidom\n",
    "\n",
    "xml_str = ET.tostring(root, encoding='utf-8')\n",
    "pretty_xml = minidom.parseString(xml_str).toprettyxml(indent=\"  \")\n",
    "print(pretty_xml)\n"
   ]
  },
  {
   "cell_type": "code",
   "execution_count": 7,
   "id": "df179625",
   "metadata": {},
   "outputs": [
    {
     "name": "stdout",
     "output_type": "stream",
     "text": [
      "<?xml version=\"1.0\" ?>\n",
      "<record>\n",
      "  <scientific>Pteropus poliocephalus</scientific>\n",
      "  <common>Grey-headed Flying-Fox</common>\n",
      "  <taxonomy>\n",
      "    <class>Mammalia</class>\n",
      "    <order>Chiroptera</order>\n",
      "  </taxonomy>\n",
      "  <tags>\n",
      "    <item>bat</item>\n",
      "    <item>chiroptera</item>\n",
      "    <item>mammal</item>\n",
      "  </tags>\n",
      "  <observations>\n",
      "    <item>\n",
      "      <uname>benweatherley</uname>\n",
      "      <coords>\n",
      "        <latitude>-31.85</latitude>\n",
      "        <longitude>152.45</longitude>\n",
      "      </coords>\n",
      "      <date>2025-03-11T12:53:00+11:00</date>\n",
      "      <url>https://www.inaturalist.org/observations/265345357</url>\n",
      "    </item>\n",
      "    <item>\n",
      "      <uname>mypatchofheaven</uname>\n",
      "      <coords>\n",
      "        <latitude>-27.53</latitude>\n",
      "        <longitude>151.21</longitude>\n",
      "      </coords>\n",
      "      <date>2024-09-03T19:43:00+10:00</date>\n",
      "      <url>https://www.inaturalist.org/observations/269946705</url>\n",
      "    </item>\n",
      "  </observations>\n",
      "</record>\n",
      "\n"
     ]
    }
   ],
   "source": [
    "import json\n",
    "import xml.etree.ElementTree as ET\n",
    "from xml.dom import minidom\n",
    "\n",
    "def build_xml_element(name, value):\n",
    "    elem = ET.Element(name)\n",
    "    if isinstance(value, dict):\n",
    "        for k, v in value.items():\n",
    "            child = build_xml_element(k, v)\n",
    "            elem.append(child)\n",
    "    elif isinstance(value, list):\n",
    "        for item in value:\n",
    "            # Use singular form for items if possible\n",
    "            child = build_xml_element(\"item\", item)\n",
    "            elem.append(child)\n",
    "    else:\n",
    "        elem.text = str(value)\n",
    "    return elem\n",
    "\n",
    "# Your JSON data (normally you'd load this from a file or API)\n",
    "data = {\n",
    "    \"scientific\": \"Pteropus poliocephalus\",\n",
    "    \"common\": \"Grey-headed Flying-Fox\",\n",
    "    \"taxonomy\": {\n",
    "        \"class\": \"Mammalia\",\n",
    "        \"order\": \"Chiroptera\"\n",
    "    },\n",
    "    \"tags\": [\"bat\", \"chiroptera\", \"mammal\"],\n",
    "    \"observations\": [\n",
    "        {\n",
    "            \"uname\": \"benweatherley\",\n",
    "            \"coords\": {\n",
    "                \"latitude\": -31.85,\n",
    "                \"longitude\": 152.45\n",
    "            },\n",
    "            \"date\": \"2025-03-11T12:53:00+11:00\",\n",
    "            \"url\": \"https://www.inaturalist.org/observations/265345357\"\n",
    "        },\n",
    "        {\n",
    "            \"uname\": \"mypatchofheaven\",\n",
    "            \"coords\": {\n",
    "                \"latitude\": -27.53,\n",
    "                \"longitude\": 151.21\n",
    "            },\n",
    "            \"date\": \"2024-09-03T19:43:00+10:00\",\n",
    "            \"url\": \"https://www.inaturalist.org/observations/269946705\"\n",
    "        }\n",
    "    ]\n",
    "}\n",
    "\n",
    "# Create the XML root\n",
    "root = build_xml_element(\"record\", data)\n",
    "\n",
    "# Pretty-print the XML\n",
    "xml_str = ET.tostring(root, encoding='utf-8')\n",
    "pretty_xml = minidom.parseString(xml_str).toprettyxml(indent=\"  \")\n",
    "print(pretty_xml)"
   ]
  },
  {
   "cell_type": "code",
   "execution_count": 8,
   "id": "ea0bb9ea",
   "metadata": {},
   "outputs": [
    {
     "data": {
      "text/plain": [
       "<Element 'record' at 0x0000021A63979AD0>"
      ]
     },
     "execution_count": 8,
     "metadata": {},
     "output_type": "execute_result"
    }
   ],
   "source": [
    "root"
   ]
  },
  {
   "cell_type": "code",
   "execution_count": 10,
   "id": "614c4bb9",
   "metadata": {},
   "outputs": [],
   "source": [
    "# Save the pretty-printed XML to a file\n",
    "with open(\"output.xml\", \"w\", encoding=\"utf-8\") as f:\n",
    "    f.write(pretty_xml)"
   ]
  },
  {
   "cell_type": "code",
   "execution_count": 11,
   "id": "3f81e8d4",
   "metadata": {},
   "outputs": [
    {
     "name": "stdout",
     "output_type": "stream",
     "text": [
      "781\n",
      "553\n"
     ]
    }
   ],
   "source": [
    "import os\n",
    "\n",
    "print(os.path.getsize(filename=\"../data/pteropus.json\"))\n",
    "\n",
    "with open(file=\"../data/pteropus.json\", mode=\"r\") as f:\n",
    "    dodo = json.load(fp=f)\n",
    "\n",
    "dodo\n",
    "\n",
    "with open(file=\"../data/pteropus_compact.json\", mode=\"w\") as f:\n",
    "    dodo = json.dump(obj=dodo, fp=f)\n",
    "\n",
    "print(os.path.getsize(filename=\"../data/pteropus_compact.json\"))\n"
   ]
  },
  {
   "cell_type": "code",
   "execution_count": null,
   "id": "3cadd30e",
   "metadata": {},
   "outputs": [],
   "source": []
  },
  {
   "cell_type": "code",
   "execution_count": 17,
   "id": "2518f88d",
   "metadata": {},
   "outputs": [
    {
     "data": {
      "text/plain": [
       "'elami'"
      ]
     },
     "execution_count": 17,
     "metadata": {},
     "output_type": "execute_result"
    }
   ],
   "source": [
    "import os\n",
    "\n",
    "os.getlogin()"
   ]
  },
  {
   "cell_type": "code",
   "execution_count": 16,
   "id": "81a6d27e",
   "metadata": {},
   "outputs": [
    {
     "data": {
      "text/plain": [
       "'toplapmy'"
      ]
     },
     "execution_count": 16,
     "metadata": {},
     "output_type": "execute_result"
    }
   ],
   "source": [
    "import socket\n",
    "\n",
    "socket.gethostname()"
   ]
  },
  {
   "cell_type": "code",
   "execution_count": 15,
   "id": "1109272c",
   "metadata": {},
   "outputs": [
    {
     "data": {
      "text/plain": [
       "70"
      ]
     },
     "execution_count": 15,
     "metadata": {},
     "output_type": "execute_result"
    }
   ],
   "source": [
    "import sys\n",
    "\n",
    "sys.getsizeof(object=\"../data/pteropus_compact.json\")"
   ]
  }
 ],
 "metadata": {
  "kernelspec": {
   "display_name": ".venv",
   "language": "python",
   "name": "python3"
  },
  "language_info": {
   "codemirror_mode": {
    "name": "ipython",
    "version": 3
   },
   "file_extension": ".py",
   "mimetype": "text/x-python",
   "name": "python",
   "nbconvert_exporter": "python",
   "pygments_lexer": "ipython3",
   "version": "3.13.3"
  }
 },
 "nbformat": 4,
 "nbformat_minor": 5
}
