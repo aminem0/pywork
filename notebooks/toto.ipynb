{
 "cells": [
  {
   "cell_type": "markdown",
   "id": "7ff938d5",
   "metadata": {},
   "source": [
    "# This is markdown\n",
    "<p>This is HTML</p>"
   ]
  },
  {
   "cell_type": "code",
   "execution_count": 1,
   "id": "dc4eb3f6",
   "metadata": {},
   "outputs": [
    {
     "data": {
      "text/plain": [
       "5"
      ]
     },
     "execution_count": 1,
     "metadata": {},
     "output_type": "execute_result"
    }
   ],
   "source": [
    "# This detailed comment explains my code\n",
    "3 + 2"
   ]
  },
  {
   "cell_type": "code",
   "execution_count": 2,
   "id": "0fe5a18d",
   "metadata": {},
   "outputs": [],
   "source": [
    "# Import packages\n",
    "import json\n",
    "import pprint"
   ]
  },
  {
   "cell_type": "code",
   "execution_count": 5,
   "id": "ff6d5e0a",
   "metadata": {},
   "outputs": [],
   "source": [
    "\n",
    "with open(file=\"toto.ipynb\", mode=\"r\") as f:\n",
    "    data = json.load(fp=f)"
   ]
  },
  {
   "cell_type": "code",
   "execution_count": 6,
   "id": "3624be7f",
   "metadata": {},
   "outputs": [
    {
     "name": "stdout",
     "output_type": "stream",
     "text": [
      "{'cells': [{'cell_type': 'markdown',\n",
      "            'id': '7ff938d5',\n",
      "            'metadata': {},\n",
      "            'source': ['# This is markdown\\n', '<p>This is HTML</p>']},\n",
      "           {'cell_type': 'code',\n",
      "            'execution_count': 1,\n",
      "            'id': 'dc4eb3f6',\n",
      "            'metadata': {},\n",
      "            'outputs': [{'data': {'text/plain': ['5']},\n",
      "                         'execution_count': 1,\n",
      "                         'metadata': {},\n",
      "                         'output_type': 'execute_result'}],\n",
      "            'source': ['# This detailed comment explains my code\\n', '3 + 2']},\n",
      "           {'cell_type': 'code',\n",
      "            'execution_count': 2,\n",
      "            'id': '0fe5a18d',\n",
      "            'metadata': {},\n",
      "            'outputs': [],\n",
      "            'source': ['# Import packages\\n',\n",
      "                       'import json\\n',\n",
      "                       'import pprint']},\n",
      "           {'cell_type': 'code',\n",
      "            'execution_count': 3,\n",
      "            'id': 'ff6d5e0a',\n",
      "            'metadata': {},\n",
      "            'outputs': [],\n",
      "            'source': ['\\n',\n",
      "                       'with open(file=\"toto.ipynb\", mode=\"r\") as f:\\n',\n",
      "                       '    data = json.load(fp=f)']},\n",
      "           {'cell_type': 'code',\n",
      "            'execution_count': 4,\n",
      "            'id': '3624be7f',\n",
      "            'metadata': {},\n",
      "            'outputs': [{'name': 'stdout',\n",
      "                         'output_type': 'stream',\n",
      "                         'text': [\"{'cells': [{'cell_type': 'markdown',\\n\",\n",
      "                                  \"            'id': '7ff938d5',\\n\",\n",
      "                                  \"            'metadata': {},\\n\",\n",
      "                                  \"            'source': ['# This is \"\n",
      "                                  \"markdown\\\\n', '<p>This is HTML</p>']},\\n\",\n",
      "                                  \"           {'cell_type': 'code',\\n\",\n",
      "                                  \"            'execution_count': 1,\\n\",\n",
      "                                  \"            'id': 'dc4eb3f6',\\n\",\n",
      "                                  \"            'metadata': {},\\n\",\n",
      "                                  \"            'outputs': [{'data': \"\n",
      "                                  \"{'text/plain': ['5']},\\n\",\n",
      "                                  \"                         'execution_count': \"\n",
      "                                  '1,\\n',\n",
      "                                  \"                         'metadata': {},\\n\",\n",
      "                                  \"                         'output_type': \"\n",
      "                                  \"'execute_result'}],\\n\",\n",
      "                                  \"            'source': ['# This detailed \"\n",
      "                                  \"comment explains my code\\\\n', '3 + 2']},\\n\",\n",
      "                                  \"           {'cell_type': 'code',\\n\",\n",
      "                                  \"            'execution_count': None,\\n\",\n",
      "                                  \"            'id': 'ff6d5e0a',\\n\",\n",
      "                                  \"            'metadata': {},\\n\",\n",
      "                                  \"            'outputs': [],\\n\",\n",
      "                                  \"            'source': []}],\\n\",\n",
      "                                  \" 'metadata': {'kernelspec': \"\n",
      "                                  \"{'display_name': '.venv',\\n\",\n",
      "                                  \"                             'language': \"\n",
      "                                  \"'python',\\n\",\n",
      "                                  \"                             'name': \"\n",
      "                                  \"'python3'},\\n\",\n",
      "                                  \"              'language_info': \"\n",
      "                                  \"{'codemirror_mode': {'name': 'ipython',\\n\",\n",
      "                                  '                                                    '\n",
      "                                  \"'version': 3},\\n\",\n",
      "                                  '                                '\n",
      "                                  \"'file_extension': '.py',\\n\",\n",
      "                                  \"                                'mimetype': \"\n",
      "                                  \"'text/x-python',\\n\",\n",
      "                                  \"                                'name': \"\n",
      "                                  \"'python',\\n\",\n",
      "                                  '                                '\n",
      "                                  \"'nbconvert_exporter': 'python',\\n\",\n",
      "                                  '                                '\n",
      "                                  \"'pygments_lexer': 'ipython3',\\n\",\n",
      "                                  \"                                'version': \"\n",
      "                                  \"'3.13.3'}},\\n\",\n",
      "                                  \" 'nbformat': 4,\\n\",\n",
      "                                  \" 'nbformat_minor': 5}\\n\"]}],\n",
      "            'source': ['pprint.pprint(object=data)']}],\n",
      " 'metadata': {'kernelspec': {'display_name': '.venv',\n",
      "                             'language': 'python',\n",
      "                             'name': 'python3'},\n",
      "              'language_info': {'codemirror_mode': {'name': 'ipython',\n",
      "                                                    'version': 3},\n",
      "                                'file_extension': '.py',\n",
      "                                'mimetype': 'text/x-python',\n",
      "                                'name': 'python',\n",
      "                                'nbconvert_exporter': 'python',\n",
      "                                'pygments_lexer': 'ipython3',\n",
      "                                'version': '3.13.3'}},\n",
      " 'nbformat': 4,\n",
      " 'nbformat_minor': 5}\n"
     ]
    }
   ],
   "source": [
    "pprint.pprint(object=data)"
   ]
  }
 ],
 "metadata": {
  "kernelspec": {
   "display_name": ".venv",
   "language": "python",
   "name": "python3"
  },
  "language_info": {
   "codemirror_mode": {
    "name": "ipython",
    "version": 3
   },
   "file_extension": ".py",
   "mimetype": "text/x-python",
   "name": "python",
   "nbconvert_exporter": "python",
   "pygments_lexer": "ipython3",
   "version": "3.13.3"
  }
 },
 "nbformat": 4,
 "nbformat_minor": 5
}
